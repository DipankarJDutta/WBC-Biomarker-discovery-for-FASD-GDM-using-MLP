{
  "nbformat": 4,
  "nbformat_minor": 0,
  "metadata": {
    "colab": {
      "name": "MLP_T-cells_AS_EtOH-GDM_z-score.ipynb",
      "provenance": [],
      "collapsed_sections": [],
      "include_colab_link": true
    },
    "kernelspec": {
      "name": "python3",
      "display_name": "Python 3"
    },
    "accelerator": "TPU"
  },
  "cells": [
    {
      "cell_type": "markdown",
      "metadata": {
        "id": "view-in-github",
        "colab_type": "text"
      },
      "source": [
        "<a href=\"https://colab.research.google.com/github/DipankarJDutta/WBC-Biomarker-ID-for-FASD-GDM-/blob/Optimizing-number-of-neurons-in-hidden-layer/MLP_T_cells_AS_EtOH_GDM_z_score_batch%20size%2021_22-4%20neuron%20config.ipynb\" target=\"_parent\"><img src=\"https://colab.research.google.com/assets/colab-badge.svg\" alt=\"Open In Colab\"/></a>"
      ]
    },
    {
      "cell_type": "code",
      "metadata": {
        "id": "86TLkXaLMzkK",
        "colab_type": "code",
        "colab": {}
      },
      "source": [
        "#Loading essentials\n",
        "from numpy import loadtxt\n",
        "from keras.models import Sequential\n",
        "from keras.layers import Dense"
      ],
      "execution_count": 0,
      "outputs": []
    },
    {
      "cell_type": "code",
      "metadata": {
        "id": "cf2BdOONOrca",
        "colab_type": "code",
        "colab": {}
      },
      "source": [
        "#load z-scored inclevel values of significantly AS genes in T-cells common to EtOH & GDM datasets\n",
        "dataset = loadtxt ('z-score_T-cell.csv', delimiter = ',')"
      ],
      "execution_count": 0,
      "outputs": []
    },
    {
      "cell_type": "code",
      "metadata": {
        "id": "HYDe7ikEO-q0",
        "colab_type": "code",
        "colab": {}
      },
      "source": [
        "#split dataset into input and output variables (25 input, 1 output)\n",
        "x = dataset [:, 0:25]\n",
        "y = dataset [:, 25]"
      ],
      "execution_count": 0,
      "outputs": []
    },
    {
      "cell_type": "code",
      "metadata": {
        "id": "bIhgfFm9PDdS",
        "colab_type": "code",
        "colab": {}
      },
      "source": [
        "#define the keras DL model: Input layer: 25; 2 hidden layers; Hidden layer 1: 12 neurons; Hidden layer 2: 8 neurons; Output layer: 1\n",
        "model = Sequential ()\n",
        "model.add(Dense(22, input_dim=25, activation='relu'))\n",
        "model.add(Dense(4, activation='relu'))\n",
        "model.add(Dense(1, activation='sigmoid'))"
      ],
      "execution_count": 0,
      "outputs": []
    },
    {
      "cell_type": "code",
      "metadata": {
        "id": "7cdclkz3PQ52",
        "colab_type": "code",
        "colab": {}
      },
      "source": [
        "#compile the keras DL model \n",
        "model.compile(loss='binary_crossentropy', optimizer='adam', metrics=['accuracy'])"
      ],
      "execution_count": 0,
      "outputs": []
    },
    {
      "cell_type": "code",
      "metadata": {
        "id": "bIRDdz_RPc76",
        "colab_type": "code",
        "outputId": "50eebc80-28b2-4d53-d7f9-35b05fe6f824",
        "colab": {
          "base_uri": "https://localhost:8080/",
          "height": 1000
        }
      },
      "source": [
        "#Train the model with an epoch of 100, a batch size of 21, a validation split of 80-20)\n",
        "model.fit(x, y, validation_split = 0.2, epochs=100, batch_size=21)"
      ],
      "execution_count": 255,
      "outputs": [
        {
          "output_type": "stream",
          "text": [
            "Train on 38 samples, validate on 10 samples\n",
            "Epoch 1/100\n",
            "38/38 [==============================] - 4s 100ms/step - loss: 0.7352 - acc: 0.5000 - val_loss: 0.8387 - val_acc: 0.3000\n",
            "Epoch 2/100\n",
            "38/38 [==============================] - 0s 293us/step - loss: 0.7243 - acc: 0.5263 - val_loss: 0.8334 - val_acc: 0.3000\n",
            "Epoch 3/100\n",
            "38/38 [==============================] - 0s 247us/step - loss: 0.7164 - acc: 0.5263 - val_loss: 0.8281 - val_acc: 0.3000\n",
            "Epoch 4/100\n",
            "38/38 [==============================] - 0s 400us/step - loss: 0.7079 - acc: 0.5526 - val_loss: 0.8232 - val_acc: 0.3000\n",
            "Epoch 5/100\n",
            "38/38 [==============================] - 0s 255us/step - loss: 0.6998 - acc: 0.5526 - val_loss: 0.8186 - val_acc: 0.3000\n",
            "Epoch 6/100\n",
            "38/38 [==============================] - 0s 238us/step - loss: 0.6931 - acc: 0.5789 - val_loss: 0.8142 - val_acc: 0.4000\n",
            "Epoch 7/100\n",
            "38/38 [==============================] - 0s 235us/step - loss: 0.6864 - acc: 0.5789 - val_loss: 0.8103 - val_acc: 0.4000\n",
            "Epoch 8/100\n",
            "38/38 [==============================] - 0s 251us/step - loss: 0.6796 - acc: 0.5789 - val_loss: 0.8064 - val_acc: 0.4000\n",
            "Epoch 9/100\n",
            "38/38 [==============================] - 0s 224us/step - loss: 0.6728 - acc: 0.5789 - val_loss: 0.8014 - val_acc: 0.4000\n",
            "Epoch 10/100\n",
            "38/38 [==============================] - 0s 243us/step - loss: 0.6672 - acc: 0.6053 - val_loss: 0.7963 - val_acc: 0.4000\n",
            "Epoch 11/100\n",
            "38/38 [==============================] - 0s 198us/step - loss: 0.6615 - acc: 0.6053 - val_loss: 0.7912 - val_acc: 0.4000\n",
            "Epoch 12/100\n",
            "38/38 [==============================] - 0s 252us/step - loss: 0.6558 - acc: 0.6316 - val_loss: 0.7865 - val_acc: 0.5000\n",
            "Epoch 13/100\n",
            "38/38 [==============================] - 0s 302us/step - loss: 0.6499 - acc: 0.6579 - val_loss: 0.7823 - val_acc: 0.5000\n",
            "Epoch 14/100\n",
            "38/38 [==============================] - 0s 260us/step - loss: 0.6457 - acc: 0.6842 - val_loss: 0.7783 - val_acc: 0.5000\n",
            "Epoch 15/100\n",
            "38/38 [==============================] - 0s 215us/step - loss: 0.6408 - acc: 0.7105 - val_loss: 0.7752 - val_acc: 0.5000\n",
            "Epoch 16/100\n",
            "38/38 [==============================] - 0s 250us/step - loss: 0.6360 - acc: 0.7105 - val_loss: 0.7726 - val_acc: 0.5000\n",
            "Epoch 17/100\n",
            "38/38 [==============================] - 0s 231us/step - loss: 0.6320 - acc: 0.7105 - val_loss: 0.7702 - val_acc: 0.5000\n",
            "Epoch 18/100\n",
            "38/38 [==============================] - 0s 231us/step - loss: 0.6271 - acc: 0.7105 - val_loss: 0.7680 - val_acc: 0.5000\n",
            "Epoch 19/100\n",
            "38/38 [==============================] - 0s 324us/step - loss: 0.6231 - acc: 0.7368 - val_loss: 0.7660 - val_acc: 0.5000\n",
            "Epoch 20/100\n",
            "38/38 [==============================] - 0s 360us/step - loss: 0.6193 - acc: 0.7368 - val_loss: 0.7640 - val_acc: 0.5000\n",
            "Epoch 21/100\n",
            "38/38 [==============================] - 0s 302us/step - loss: 0.6150 - acc: 0.7632 - val_loss: 0.7625 - val_acc: 0.5000\n",
            "Epoch 22/100\n",
            "38/38 [==============================] - 0s 370us/step - loss: 0.6106 - acc: 0.7632 - val_loss: 0.7607 - val_acc: 0.5000\n",
            "Epoch 23/100\n",
            "38/38 [==============================] - 0s 351us/step - loss: 0.6069 - acc: 0.7632 - val_loss: 0.7591 - val_acc: 0.5000\n",
            "Epoch 24/100\n",
            "38/38 [==============================] - 0s 461us/step - loss: 0.6032 - acc: 0.7895 - val_loss: 0.7579 - val_acc: 0.5000\n",
            "Epoch 25/100\n",
            "38/38 [==============================] - 0s 441us/step - loss: 0.5988 - acc: 0.7895 - val_loss: 0.7567 - val_acc: 0.5000\n",
            "Epoch 26/100\n",
            "38/38 [==============================] - 0s 603us/step - loss: 0.5949 - acc: 0.7895 - val_loss: 0.7558 - val_acc: 0.5000\n",
            "Epoch 27/100\n",
            "38/38 [==============================] - 0s 457us/step - loss: 0.5910 - acc: 0.7895 - val_loss: 0.7549 - val_acc: 0.5000\n",
            "Epoch 28/100\n",
            "38/38 [==============================] - 0s 380us/step - loss: 0.5870 - acc: 0.7895 - val_loss: 0.7544 - val_acc: 0.5000\n",
            "Epoch 29/100\n",
            "38/38 [==============================] - 0s 431us/step - loss: 0.5826 - acc: 0.8158 - val_loss: 0.7536 - val_acc: 0.5000\n",
            "Epoch 30/100\n",
            "38/38 [==============================] - 0s 600us/step - loss: 0.5787 - acc: 0.8684 - val_loss: 0.7532 - val_acc: 0.5000\n",
            "Epoch 31/100\n",
            "38/38 [==============================] - 0s 349us/step - loss: 0.5744 - acc: 0.8684 - val_loss: 0.7531 - val_acc: 0.5000\n",
            "Epoch 32/100\n",
            "38/38 [==============================] - 0s 321us/step - loss: 0.5699 - acc: 0.8684 - val_loss: 0.7531 - val_acc: 0.5000\n",
            "Epoch 33/100\n",
            "38/38 [==============================] - 0s 312us/step - loss: 0.5660 - acc: 0.8684 - val_loss: 0.7533 - val_acc: 0.5000\n",
            "Epoch 34/100\n",
            "38/38 [==============================] - 0s 282us/step - loss: 0.5619 - acc: 0.8684 - val_loss: 0.7537 - val_acc: 0.5000\n",
            "Epoch 35/100\n",
            "38/38 [==============================] - 0s 284us/step - loss: 0.5581 - acc: 0.8421 - val_loss: 0.7538 - val_acc: 0.5000\n",
            "Epoch 36/100\n",
            "38/38 [==============================] - 0s 308us/step - loss: 0.5540 - acc: 0.8684 - val_loss: 0.7535 - val_acc: 0.5000\n",
            "Epoch 37/100\n",
            "38/38 [==============================] - 0s 354us/step - loss: 0.5502 - acc: 0.8684 - val_loss: 0.7531 - val_acc: 0.5000\n",
            "Epoch 38/100\n",
            "38/38 [==============================] - 0s 265us/step - loss: 0.5461 - acc: 0.8947 - val_loss: 0.7529 - val_acc: 0.5000\n",
            "Epoch 39/100\n",
            "38/38 [==============================] - 0s 305us/step - loss: 0.5423 - acc: 0.8947 - val_loss: 0.7529 - val_acc: 0.5000\n",
            "Epoch 40/100\n",
            "38/38 [==============================] - 0s 330us/step - loss: 0.5388 - acc: 0.8947 - val_loss: 0.7529 - val_acc: 0.5000\n",
            "Epoch 41/100\n",
            "38/38 [==============================] - 0s 323us/step - loss: 0.5350 - acc: 0.9211 - val_loss: 0.7531 - val_acc: 0.5000\n",
            "Epoch 42/100\n",
            "38/38 [==============================] - 0s 372us/step - loss: 0.5312 - acc: 0.9211 - val_loss: 0.7535 - val_acc: 0.5000\n",
            "Epoch 43/100\n",
            "38/38 [==============================] - 0s 304us/step - loss: 0.5274 - acc: 0.9211 - val_loss: 0.7538 - val_acc: 0.5000\n",
            "Epoch 44/100\n",
            "38/38 [==============================] - 0s 383us/step - loss: 0.5234 - acc: 0.9211 - val_loss: 0.7536 - val_acc: 0.5000\n",
            "Epoch 45/100\n",
            "38/38 [==============================] - 0s 329us/step - loss: 0.5199 - acc: 0.9211 - val_loss: 0.7538 - val_acc: 0.5000\n",
            "Epoch 46/100\n",
            "38/38 [==============================] - 0s 253us/step - loss: 0.5164 - acc: 0.9211 - val_loss: 0.7536 - val_acc: 0.5000\n",
            "Epoch 47/100\n",
            "38/38 [==============================] - 0s 259us/step - loss: 0.5127 - acc: 0.9211 - val_loss: 0.7531 - val_acc: 0.5000\n",
            "Epoch 48/100\n",
            "38/38 [==============================] - 0s 235us/step - loss: 0.5090 - acc: 0.9474 - val_loss: 0.7528 - val_acc: 0.5000\n",
            "Epoch 49/100\n",
            "38/38 [==============================] - 0s 431us/step - loss: 0.5057 - acc: 0.9474 - val_loss: 0.7522 - val_acc: 0.5000\n",
            "Epoch 50/100\n",
            "38/38 [==============================] - 0s 280us/step - loss: 0.5024 - acc: 0.9474 - val_loss: 0.7522 - val_acc: 0.5000\n",
            "Epoch 51/100\n",
            "38/38 [==============================] - 0s 372us/step - loss: 0.4987 - acc: 0.9474 - val_loss: 0.7521 - val_acc: 0.5000\n",
            "Epoch 52/100\n",
            "38/38 [==============================] - 0s 369us/step - loss: 0.4951 - acc: 0.9474 - val_loss: 0.7523 - val_acc: 0.6000\n",
            "Epoch 53/100\n",
            "38/38 [==============================] - 0s 488us/step - loss: 0.4917 - acc: 0.9474 - val_loss: 0.7522 - val_acc: 0.6000\n",
            "Epoch 54/100\n",
            "38/38 [==============================] - 0s 499us/step - loss: 0.4882 - acc: 0.9474 - val_loss: 0.7522 - val_acc: 0.6000\n",
            "Epoch 55/100\n",
            "38/38 [==============================] - 0s 511us/step - loss: 0.4849 - acc: 0.9474 - val_loss: 0.7525 - val_acc: 0.6000\n",
            "Epoch 56/100\n",
            "38/38 [==============================] - 0s 466us/step - loss: 0.4816 - acc: 0.9474 - val_loss: 0.7531 - val_acc: 0.6000\n",
            "Epoch 57/100\n",
            "38/38 [==============================] - 0s 370us/step - loss: 0.4780 - acc: 0.9474 - val_loss: 0.7530 - val_acc: 0.6000\n",
            "Epoch 58/100\n",
            "38/38 [==============================] - 0s 379us/step - loss: 0.4748 - acc: 0.9474 - val_loss: 0.7525 - val_acc: 0.6000\n",
            "Epoch 59/100\n",
            "38/38 [==============================] - 0s 236us/step - loss: 0.4715 - acc: 0.9474 - val_loss: 0.7524 - val_acc: 0.6000\n",
            "Epoch 60/100\n",
            "38/38 [==============================] - 0s 279us/step - loss: 0.4683 - acc: 0.9474 - val_loss: 0.7526 - val_acc: 0.6000\n",
            "Epoch 61/100\n",
            "38/38 [==============================] - 0s 281us/step - loss: 0.4651 - acc: 0.9474 - val_loss: 0.7529 - val_acc: 0.6000\n",
            "Epoch 62/100\n",
            "38/38 [==============================] - 0s 459us/step - loss: 0.4621 - acc: 0.9737 - val_loss: 0.7534 - val_acc: 0.6000\n",
            "Epoch 63/100\n",
            "38/38 [==============================] - 0s 284us/step - loss: 0.4588 - acc: 0.9737 - val_loss: 0.7535 - val_acc: 0.6000\n",
            "Epoch 64/100\n",
            "38/38 [==============================] - 0s 337us/step - loss: 0.4557 - acc: 0.9737 - val_loss: 0.7542 - val_acc: 0.6000\n",
            "Epoch 65/100\n",
            "38/38 [==============================] - 0s 296us/step - loss: 0.4526 - acc: 0.9737 - val_loss: 0.7547 - val_acc: 0.6000\n",
            "Epoch 66/100\n",
            "38/38 [==============================] - 0s 266us/step - loss: 0.4497 - acc: 0.9737 - val_loss: 0.7548 - val_acc: 0.6000\n",
            "Epoch 67/100\n",
            "38/38 [==============================] - 0s 254us/step - loss: 0.4466 - acc: 0.9737 - val_loss: 0.7549 - val_acc: 0.6000\n",
            "Epoch 68/100\n",
            "38/38 [==============================] - 0s 313us/step - loss: 0.4435 - acc: 0.9737 - val_loss: 0.7550 - val_acc: 0.6000\n",
            "Epoch 69/100\n",
            "38/38 [==============================] - 0s 323us/step - loss: 0.4408 - acc: 0.9737 - val_loss: 0.7558 - val_acc: 0.6000\n",
            "Epoch 70/100\n",
            "38/38 [==============================] - 0s 373us/step - loss: 0.4378 - acc: 0.9737 - val_loss: 0.7571 - val_acc: 0.6000\n",
            "Epoch 71/100\n",
            "38/38 [==============================] - 0s 373us/step - loss: 0.4350 - acc: 0.9737 - val_loss: 0.7586 - val_acc: 0.6000\n",
            "Epoch 72/100\n",
            "38/38 [==============================] - 0s 365us/step - loss: 0.4322 - acc: 0.9737 - val_loss: 0.7597 - val_acc: 0.6000\n",
            "Epoch 73/100\n",
            "38/38 [==============================] - 0s 407us/step - loss: 0.4294 - acc: 0.9737 - val_loss: 0.7603 - val_acc: 0.6000\n",
            "Epoch 74/100\n",
            "38/38 [==============================] - 0s 318us/step - loss: 0.4265 - acc: 0.9737 - val_loss: 0.7607 - val_acc: 0.6000\n",
            "Epoch 75/100\n",
            "38/38 [==============================] - 0s 373us/step - loss: 0.4238 - acc: 0.9737 - val_loss: 0.7612 - val_acc: 0.6000\n",
            "Epoch 76/100\n",
            "38/38 [==============================] - 0s 346us/step - loss: 0.4211 - acc: 0.9737 - val_loss: 0.7614 - val_acc: 0.6000\n",
            "Epoch 77/100\n",
            "38/38 [==============================] - 0s 322us/step - loss: 0.4180 - acc: 0.9737 - val_loss: 0.7613 - val_acc: 0.6000\n",
            "Epoch 78/100\n",
            "38/38 [==============================] - 0s 285us/step - loss: 0.4154 - acc: 0.9737 - val_loss: 0.7616 - val_acc: 0.6000\n",
            "Epoch 79/100\n",
            "38/38 [==============================] - 0s 281us/step - loss: 0.4126 - acc: 0.9737 - val_loss: 0.7628 - val_acc: 0.6000\n",
            "Epoch 80/100\n",
            "38/38 [==============================] - 0s 272us/step - loss: 0.4098 - acc: 0.9737 - val_loss: 0.7645 - val_acc: 0.6000\n",
            "Epoch 81/100\n",
            "38/38 [==============================] - 0s 267us/step - loss: 0.4070 - acc: 0.9737 - val_loss: 0.7662 - val_acc: 0.6000\n",
            "Epoch 82/100\n",
            "38/38 [==============================] - 0s 277us/step - loss: 0.4046 - acc: 0.9737 - val_loss: 0.7675 - val_acc: 0.6000\n",
            "Epoch 83/100\n",
            "38/38 [==============================] - 0s 265us/step - loss: 0.4017 - acc: 0.9737 - val_loss: 0.7677 - val_acc: 0.6000\n",
            "Epoch 84/100\n",
            "38/38 [==============================] - 0s 211us/step - loss: 0.3991 - acc: 0.9737 - val_loss: 0.7679 - val_acc: 0.6000\n",
            "Epoch 85/100\n",
            "38/38 [==============================] - 0s 196us/step - loss: 0.3965 - acc: 0.9737 - val_loss: 0.7677 - val_acc: 0.6000\n",
            "Epoch 86/100\n",
            "38/38 [==============================] - 0s 214us/step - loss: 0.3939 - acc: 0.9737 - val_loss: 0.7679 - val_acc: 0.6000\n",
            "Epoch 87/100\n",
            "38/38 [==============================] - 0s 260us/step - loss: 0.3914 - acc: 0.9737 - val_loss: 0.7689 - val_acc: 0.6000\n",
            "Epoch 88/100\n",
            "38/38 [==============================] - 0s 319us/step - loss: 0.3888 - acc: 0.9737 - val_loss: 0.7700 - val_acc: 0.6000\n",
            "Epoch 89/100\n",
            "38/38 [==============================] - 0s 202us/step - loss: 0.3859 - acc: 0.9737 - val_loss: 0.7706 - val_acc: 0.6000\n",
            "Epoch 90/100\n",
            "38/38 [==============================] - 0s 257us/step - loss: 0.3836 - acc: 0.9737 - val_loss: 0.7705 - val_acc: 0.6000\n",
            "Epoch 91/100\n",
            "38/38 [==============================] - 0s 304us/step - loss: 0.3811 - acc: 0.9737 - val_loss: 0.7708 - val_acc: 0.6000\n",
            "Epoch 92/100\n",
            "38/38 [==============================] - 0s 261us/step - loss: 0.3787 - acc: 1.0000 - val_loss: 0.7718 - val_acc: 0.6000\n",
            "Epoch 93/100\n",
            "38/38 [==============================] - 0s 252us/step - loss: 0.3762 - acc: 1.0000 - val_loss: 0.7733 - val_acc: 0.6000\n",
            "Epoch 94/100\n",
            "38/38 [==============================] - 0s 251us/step - loss: 0.3738 - acc: 1.0000 - val_loss: 0.7750 - val_acc: 0.6000\n",
            "Epoch 95/100\n",
            "38/38 [==============================] - 0s 261us/step - loss: 0.3716 - acc: 1.0000 - val_loss: 0.7755 - val_acc: 0.6000\n",
            "Epoch 96/100\n",
            "38/38 [==============================] - 0s 437us/step - loss: 0.3691 - acc: 1.0000 - val_loss: 0.7751 - val_acc: 0.6000\n",
            "Epoch 97/100\n",
            "38/38 [==============================] - 0s 341us/step - loss: 0.3667 - acc: 1.0000 - val_loss: 0.7743 - val_acc: 0.6000\n",
            "Epoch 98/100\n",
            "38/38 [==============================] - 0s 315us/step - loss: 0.3642 - acc: 1.0000 - val_loss: 0.7720 - val_acc: 0.6000\n",
            "Epoch 99/100\n",
            "38/38 [==============================] - 0s 311us/step - loss: 0.3613 - acc: 1.0000 - val_loss: 0.7691 - val_acc: 0.6000\n",
            "Epoch 100/100\n",
            "38/38 [==============================] - 0s 341us/step - loss: 0.3585 - acc: 1.0000 - val_loss: 0.7658 - val_acc: 0.6000\n"
          ],
          "name": "stdout"
        },
        {
          "output_type": "execute_result",
          "data": {
            "text/plain": [
              "<keras.callbacks.History at 0x7f3d82d85240>"
            ]
          },
          "metadata": {
            "tags": []
          },
          "execution_count": 255
        }
      ]
    },
    {
      "cell_type": "code",
      "metadata": {
        "id": "a2fcujpXPlMu",
        "colab_type": "code",
        "outputId": "88fa0f8f-707e-46aa-f9fb-862f1195d4ca",
        "colab": {
          "base_uri": "https://localhost:8080/",
          "height": 34
        }
      },
      "source": [
        "#Evaluate the accuracy of the Keras model with #10-fold cross-validation\n",
        "scores = model.evaluate(x, y, verbose=0)\n",
        "print(\"%s: %.2f%%\" % (model.metrics_names[1], scores[1]*100))"
      ],
      "execution_count": 256,
      "outputs": [
        {
          "output_type": "stream",
          "text": [
            "acc: 91.67%\n"
          ],
          "name": "stdout"
        }
      ]
    }
  ]
}