{
  "nbformat": 4,
  "nbformat_minor": 0,
  "metadata": {
    "colab": {
      "name": "MLP_T-cells_AS_EtOH-GDM_z-score.ipynb",
      "provenance": [],
      "collapsed_sections": [],
      "include_colab_link": true
    },
    "kernelspec": {
      "name": "python3",
      "display_name": "Python 3"
    },
    "accelerator": "TPU"
  },
  "cells": [
    {
      "cell_type": "markdown",
      "metadata": {
        "id": "view-in-github",
        "colab_type": "text"
      },
      "source": [
        "<a href=\"https://colab.research.google.com/github/DipankarJDutta/WBC-Biomarker-ID-for-FASD-GDM-/blob/Optimizing-number-of-neurons-in-hidden-layer/MLP_T_cells_AS_EtOH_GDM_z_score_batch%20size%2021_22-10%20neurons.ipynb\" target=\"_parent\"><img src=\"https://colab.research.google.com/assets/colab-badge.svg\" alt=\"Open In Colab\"/></a>"
      ]
    },
    {
      "cell_type": "code",
      "metadata": {
        "id": "86TLkXaLMzkK",
        "colab_type": "code",
        "colab": {}
      },
      "source": [
        "#Loading essentials\n",
        "from numpy import loadtxt\n",
        "from keras.models import Sequential\n",
        "from keras.layers import Dense"
      ],
      "execution_count": 0,
      "outputs": []
    },
    {
      "cell_type": "code",
      "metadata": {
        "id": "cf2BdOONOrca",
        "colab_type": "code",
        "colab": {}
      },
      "source": [
        "#load z-scored inclevel values of significantly AS genes in T-cells common to EtOH & GDM datasets\n",
        "dataset = loadtxt ('z-score_T-cell.csv', delimiter = ',')"
      ],
      "execution_count": 0,
      "outputs": []
    },
    {
      "cell_type": "code",
      "metadata": {
        "id": "HYDe7ikEO-q0",
        "colab_type": "code",
        "colab": {}
      },
      "source": [
        "#split dataset into input and output variables (25 input, 1 output)\n",
        "x = dataset [:, 0:25]\n",
        "y = dataset [:, 25]"
      ],
      "execution_count": 0,
      "outputs": []
    },
    {
      "cell_type": "code",
      "metadata": {
        "id": "bIhgfFm9PDdS",
        "colab_type": "code",
        "colab": {}
      },
      "source": [
        "#define the keras DL model: Input layer: 25; 2 hidden layers; Hidden layer 1: 12 neurons; Hidden layer 2: 8 neurons; Output layer: 1\n",
        "model = Sequential ()\n",
        "model.add(Dense(22, input_dim=25, activation='relu'))\n",
        "model.add(Dense(10, activation='relu'))\n",
        "model.add(Dense(1, activation='sigmoid'))"
      ],
      "execution_count": 0,
      "outputs": []
    },
    {
      "cell_type": "code",
      "metadata": {
        "id": "7cdclkz3PQ52",
        "colab_type": "code",
        "colab": {}
      },
      "source": [
        "#compile the keras DL model \n",
        "model.compile(loss='binary_crossentropy', optimizer='adam', metrics=['accuracy'])"
      ],
      "execution_count": 0,
      "outputs": []
    },
    {
      "cell_type": "code",
      "metadata": {
        "id": "bIRDdz_RPc76",
        "colab_type": "code",
        "outputId": "09f9f02e-0fe0-48b0-b3c4-72dc6750b148",
        "colab": {
          "base_uri": "https://localhost:8080/",
          "height": 1000
        }
      },
      "source": [
        "#Train the model with an epoch of 100, a batch size of 21, a validation split of 80-20)\n",
        "model.fit(x, y, validation_split = 0.2, epochs=100, batch_size=21)"
      ],
      "execution_count": 234,
      "outputs": [
        {
          "output_type": "stream",
          "text": [
            "Train on 38 samples, validate on 10 samples\n",
            "Epoch 1/100\n",
            "38/38 [==============================] - 3s 89ms/step - loss: 0.9425 - acc: 0.4211 - val_loss: 1.4163 - val_acc: 0.2000\n",
            "Epoch 2/100\n",
            "38/38 [==============================] - 0s 367us/step - loss: 0.9107 - acc: 0.4474 - val_loss: 1.3836 - val_acc: 0.2000\n",
            "Epoch 3/100\n",
            "38/38 [==============================] - 0s 290us/step - loss: 0.8857 - acc: 0.4474 - val_loss: 1.3494 - val_acc: 0.2000\n",
            "Epoch 4/100\n",
            "38/38 [==============================] - 0s 310us/step - loss: 0.8620 - acc: 0.4474 - val_loss: 1.3145 - val_acc: 0.2000\n",
            "Epoch 5/100\n",
            "38/38 [==============================] - 0s 322us/step - loss: 0.8401 - acc: 0.4737 - val_loss: 1.2819 - val_acc: 0.2000\n",
            "Epoch 6/100\n",
            "38/38 [==============================] - 0s 319us/step - loss: 0.8190 - acc: 0.4474 - val_loss: 1.2512 - val_acc: 0.2000\n",
            "Epoch 7/100\n",
            "38/38 [==============================] - 0s 291us/step - loss: 0.7986 - acc: 0.4737 - val_loss: 1.2222 - val_acc: 0.2000\n",
            "Epoch 8/100\n",
            "38/38 [==============================] - 0s 284us/step - loss: 0.7810 - acc: 0.4737 - val_loss: 1.1950 - val_acc: 0.2000\n",
            "Epoch 9/100\n",
            "38/38 [==============================] - 0s 266us/step - loss: 0.7678 - acc: 0.4737 - val_loss: 1.1687 - val_acc: 0.2000\n",
            "Epoch 10/100\n",
            "38/38 [==============================] - 0s 276us/step - loss: 0.7497 - acc: 0.5263 - val_loss: 1.1458 - val_acc: 0.2000\n",
            "Epoch 11/100\n",
            "38/38 [==============================] - 0s 237us/step - loss: 0.7356 - acc: 0.5789 - val_loss: 1.1240 - val_acc: 0.2000\n",
            "Epoch 12/100\n",
            "38/38 [==============================] - 0s 227us/step - loss: 0.7232 - acc: 0.6053 - val_loss: 1.1030 - val_acc: 0.2000\n",
            "Epoch 13/100\n",
            "38/38 [==============================] - 0s 571us/step - loss: 0.7115 - acc: 0.5789 - val_loss: 1.0836 - val_acc: 0.2000\n",
            "Epoch 14/100\n",
            "38/38 [==============================] - 0s 647us/step - loss: 0.6979 - acc: 0.6053 - val_loss: 1.0665 - val_acc: 0.2000\n",
            "Epoch 15/100\n",
            "38/38 [==============================] - 0s 394us/step - loss: 0.6855 - acc: 0.6053 - val_loss: 1.0510 - val_acc: 0.3000\n",
            "Epoch 16/100\n",
            "38/38 [==============================] - 0s 413us/step - loss: 0.6750 - acc: 0.6053 - val_loss: 1.0356 - val_acc: 0.3000\n",
            "Epoch 17/100\n",
            "38/38 [==============================] - 0s 786us/step - loss: 0.6633 - acc: 0.6316 - val_loss: 1.0216 - val_acc: 0.2000\n",
            "Epoch 18/100\n",
            "38/38 [==============================] - 0s 650us/step - loss: 0.6543 - acc: 0.6316 - val_loss: 1.0076 - val_acc: 0.2000\n",
            "Epoch 19/100\n",
            "38/38 [==============================] - 0s 545us/step - loss: 0.6446 - acc: 0.6316 - val_loss: 0.9945 - val_acc: 0.2000\n",
            "Epoch 20/100\n",
            "38/38 [==============================] - 0s 560us/step - loss: 0.6350 - acc: 0.6316 - val_loss: 0.9824 - val_acc: 0.2000\n",
            "Epoch 21/100\n",
            "38/38 [==============================] - 0s 451us/step - loss: 0.6266 - acc: 0.6316 - val_loss: 0.9710 - val_acc: 0.2000\n",
            "Epoch 22/100\n",
            "38/38 [==============================] - 0s 580us/step - loss: 0.6171 - acc: 0.6316 - val_loss: 0.9609 - val_acc: 0.2000\n",
            "Epoch 23/100\n",
            "38/38 [==============================] - 0s 454us/step - loss: 0.6079 - acc: 0.6316 - val_loss: 0.9517 - val_acc: 0.2000\n",
            "Epoch 24/100\n",
            "38/38 [==============================] - 0s 467us/step - loss: 0.6004 - acc: 0.6579 - val_loss: 0.9425 - val_acc: 0.3000\n",
            "Epoch 25/100\n",
            "38/38 [==============================] - 0s 446us/step - loss: 0.5914 - acc: 0.6842 - val_loss: 0.9343 - val_acc: 0.3000\n",
            "Epoch 26/100\n",
            "38/38 [==============================] - 0s 285us/step - loss: 0.5834 - acc: 0.7368 - val_loss: 0.9265 - val_acc: 0.3000\n",
            "Epoch 27/100\n",
            "38/38 [==============================] - 0s 320us/step - loss: 0.5750 - acc: 0.7632 - val_loss: 0.9186 - val_acc: 0.4000\n",
            "Epoch 28/100\n",
            "38/38 [==============================] - 0s 405us/step - loss: 0.5674 - acc: 0.7895 - val_loss: 0.9110 - val_acc: 0.4000\n",
            "Epoch 29/100\n",
            "38/38 [==============================] - 0s 389us/step - loss: 0.5598 - acc: 0.7895 - val_loss: 0.9031 - val_acc: 0.4000\n",
            "Epoch 30/100\n",
            "38/38 [==============================] - 0s 271us/step - loss: 0.5523 - acc: 0.8421 - val_loss: 0.8954 - val_acc: 0.4000\n",
            "Epoch 31/100\n",
            "38/38 [==============================] - 0s 277us/step - loss: 0.5452 - acc: 0.8421 - val_loss: 0.8880 - val_acc: 0.4000\n",
            "Epoch 32/100\n",
            "38/38 [==============================] - 0s 325us/step - loss: 0.5383 - acc: 0.8421 - val_loss: 0.8817 - val_acc: 0.4000\n",
            "Epoch 33/100\n",
            "38/38 [==============================] - 0s 343us/step - loss: 0.5315 - acc: 0.8421 - val_loss: 0.8747 - val_acc: 0.4000\n",
            "Epoch 34/100\n",
            "38/38 [==============================] - 0s 334us/step - loss: 0.5244 - acc: 0.8421 - val_loss: 0.8685 - val_acc: 0.4000\n",
            "Epoch 35/100\n",
            "38/38 [==============================] - 0s 795us/step - loss: 0.5182 - acc: 0.8684 - val_loss: 0.8616 - val_acc: 0.4000\n",
            "Epoch 36/100\n",
            "38/38 [==============================] - 0s 417us/step - loss: 0.5111 - acc: 0.8684 - val_loss: 0.8560 - val_acc: 0.4000\n",
            "Epoch 37/100\n",
            "38/38 [==============================] - 0s 425us/step - loss: 0.5047 - acc: 0.8684 - val_loss: 0.8504 - val_acc: 0.4000\n",
            "Epoch 38/100\n",
            "38/38 [==============================] - 0s 331us/step - loss: 0.4980 - acc: 0.8684 - val_loss: 0.8450 - val_acc: 0.4000\n",
            "Epoch 39/100\n",
            "38/38 [==============================] - 0s 402us/step - loss: 0.4917 - acc: 0.8947 - val_loss: 0.8401 - val_acc: 0.4000\n",
            "Epoch 40/100\n",
            "38/38 [==============================] - 0s 531us/step - loss: 0.4854 - acc: 0.9474 - val_loss: 0.8354 - val_acc: 0.4000\n",
            "Epoch 41/100\n",
            "38/38 [==============================] - 0s 360us/step - loss: 0.4791 - acc: 0.9474 - val_loss: 0.8309 - val_acc: 0.4000\n",
            "Epoch 42/100\n",
            "38/38 [==============================] - 0s 351us/step - loss: 0.4726 - acc: 0.9474 - val_loss: 0.8259 - val_acc: 0.4000\n",
            "Epoch 43/100\n",
            "38/38 [==============================] - 0s 335us/step - loss: 0.4664 - acc: 0.9474 - val_loss: 0.8217 - val_acc: 0.4000\n",
            "Epoch 44/100\n",
            "38/38 [==============================] - 0s 410us/step - loss: 0.4601 - acc: 0.9474 - val_loss: 0.8171 - val_acc: 0.4000\n",
            "Epoch 45/100\n",
            "38/38 [==============================] - 0s 473us/step - loss: 0.4537 - acc: 0.9474 - val_loss: 0.8122 - val_acc: 0.4000\n",
            "Epoch 46/100\n",
            "38/38 [==============================] - 0s 353us/step - loss: 0.4474 - acc: 0.9474 - val_loss: 0.8066 - val_acc: 0.3000\n",
            "Epoch 47/100\n",
            "38/38 [==============================] - 0s 344us/step - loss: 0.4409 - acc: 0.9474 - val_loss: 0.8017 - val_acc: 0.3000\n",
            "Epoch 48/100\n",
            "38/38 [==============================] - 0s 375us/step - loss: 0.4345 - acc: 0.9474 - val_loss: 0.7976 - val_acc: 0.3000\n",
            "Epoch 49/100\n",
            "38/38 [==============================] - 0s 287us/step - loss: 0.4283 - acc: 0.9474 - val_loss: 0.7933 - val_acc: 0.3000\n",
            "Epoch 50/100\n",
            "38/38 [==============================] - 0s 370us/step - loss: 0.4219 - acc: 0.9474 - val_loss: 0.7895 - val_acc: 0.3000\n",
            "Epoch 51/100\n",
            "38/38 [==============================] - 0s 552us/step - loss: 0.4160 - acc: 0.9474 - val_loss: 0.7854 - val_acc: 0.3000\n",
            "Epoch 52/100\n",
            "38/38 [==============================] - 0s 381us/step - loss: 0.4097 - acc: 0.9474 - val_loss: 0.7816 - val_acc: 0.3000\n",
            "Epoch 53/100\n",
            "38/38 [==============================] - 0s 369us/step - loss: 0.4036 - acc: 0.9474 - val_loss: 0.7774 - val_acc: 0.4000\n",
            "Epoch 54/100\n",
            "38/38 [==============================] - 0s 319us/step - loss: 0.3975 - acc: 0.9474 - val_loss: 0.7732 - val_acc: 0.4000\n",
            "Epoch 55/100\n",
            "38/38 [==============================] - 0s 371us/step - loss: 0.3915 - acc: 0.9474 - val_loss: 0.7690 - val_acc: 0.4000\n",
            "Epoch 56/100\n",
            "38/38 [==============================] - 0s 354us/step - loss: 0.3855 - acc: 0.9474 - val_loss: 0.7643 - val_acc: 0.4000\n",
            "Epoch 57/100\n",
            "38/38 [==============================] - 0s 563us/step - loss: 0.3795 - acc: 0.9474 - val_loss: 0.7604 - val_acc: 0.4000\n",
            "Epoch 58/100\n",
            "38/38 [==============================] - 0s 392us/step - loss: 0.3736 - acc: 0.9474 - val_loss: 0.7566 - val_acc: 0.5000\n",
            "Epoch 59/100\n",
            "38/38 [==============================] - 0s 338us/step - loss: 0.3679 - acc: 0.9474 - val_loss: 0.7532 - val_acc: 0.5000\n",
            "Epoch 60/100\n",
            "38/38 [==============================] - 0s 391us/step - loss: 0.3623 - acc: 0.9474 - val_loss: 0.7497 - val_acc: 0.5000\n",
            "Epoch 61/100\n",
            "38/38 [==============================] - 0s 358us/step - loss: 0.3564 - acc: 0.9474 - val_loss: 0.7466 - val_acc: 0.5000\n",
            "Epoch 62/100\n",
            "38/38 [==============================] - 0s 373us/step - loss: 0.3505 - acc: 0.9737 - val_loss: 0.7432 - val_acc: 0.6000\n",
            "Epoch 63/100\n",
            "38/38 [==============================] - 0s 327us/step - loss: 0.3452 - acc: 0.9737 - val_loss: 0.7393 - val_acc: 0.6000\n",
            "Epoch 64/100\n",
            "38/38 [==============================] - 0s 557us/step - loss: 0.3394 - acc: 0.9737 - val_loss: 0.7351 - val_acc: 0.6000\n",
            "Epoch 65/100\n",
            "38/38 [==============================] - 0s 334us/step - loss: 0.3336 - acc: 0.9737 - val_loss: 0.7318 - val_acc: 0.7000\n",
            "Epoch 66/100\n",
            "38/38 [==============================] - 0s 343us/step - loss: 0.3282 - acc: 0.9737 - val_loss: 0.7280 - val_acc: 0.7000\n",
            "Epoch 67/100\n",
            "38/38 [==============================] - 0s 338us/step - loss: 0.3226 - acc: 0.9737 - val_loss: 0.7246 - val_acc: 0.7000\n",
            "Epoch 68/100\n",
            "38/38 [==============================] - 0s 331us/step - loss: 0.3172 - acc: 0.9737 - val_loss: 0.7211 - val_acc: 0.7000\n",
            "Epoch 69/100\n",
            "38/38 [==============================] - 0s 349us/step - loss: 0.3119 - acc: 0.9737 - val_loss: 0.7180 - val_acc: 0.7000\n",
            "Epoch 70/100\n",
            "38/38 [==============================] - 0s 516us/step - loss: 0.3065 - acc: 0.9737 - val_loss: 0.7153 - val_acc: 0.7000\n",
            "Epoch 71/100\n",
            "38/38 [==============================] - 0s 328us/step - loss: 0.3013 - acc: 0.9737 - val_loss: 0.7124 - val_acc: 0.7000\n",
            "Epoch 72/100\n",
            "38/38 [==============================] - 0s 332us/step - loss: 0.2961 - acc: 0.9737 - val_loss: 0.7097 - val_acc: 0.7000\n",
            "Epoch 73/100\n",
            "38/38 [==============================] - 0s 383us/step - loss: 0.2911 - acc: 0.9737 - val_loss: 0.7076 - val_acc: 0.7000\n",
            "Epoch 74/100\n",
            "38/38 [==============================] - 0s 398us/step - loss: 0.2859 - acc: 0.9737 - val_loss: 0.7052 - val_acc: 0.7000\n",
            "Epoch 75/100\n",
            "38/38 [==============================] - 0s 362us/step - loss: 0.2809 - acc: 0.9737 - val_loss: 0.7025 - val_acc: 0.7000\n",
            "Epoch 76/100\n",
            "38/38 [==============================] - 0s 369us/step - loss: 0.2761 - acc: 0.9737 - val_loss: 0.6999 - val_acc: 0.7000\n",
            "Epoch 77/100\n",
            "38/38 [==============================] - 0s 455us/step - loss: 0.2713 - acc: 0.9737 - val_loss: 0.6972 - val_acc: 0.7000\n",
            "Epoch 78/100\n",
            "38/38 [==============================] - 0s 539us/step - loss: 0.2664 - acc: 0.9737 - val_loss: 0.6945 - val_acc: 0.7000\n",
            "Epoch 79/100\n",
            "38/38 [==============================] - 0s 507us/step - loss: 0.2616 - acc: 0.9737 - val_loss: 0.6915 - val_acc: 0.7000\n",
            "Epoch 80/100\n",
            "38/38 [==============================] - 0s 339us/step - loss: 0.2568 - acc: 0.9737 - val_loss: 0.6890 - val_acc: 0.7000\n",
            "Epoch 81/100\n",
            "38/38 [==============================] - 0s 332us/step - loss: 0.2522 - acc: 0.9737 - val_loss: 0.6865 - val_acc: 0.7000\n",
            "Epoch 82/100\n",
            "38/38 [==============================] - 0s 384us/step - loss: 0.2476 - acc: 0.9737 - val_loss: 0.6835 - val_acc: 0.7000\n",
            "Epoch 83/100\n",
            "38/38 [==============================] - 0s 413us/step - loss: 0.2430 - acc: 0.9737 - val_loss: 0.6807 - val_acc: 0.7000\n",
            "Epoch 84/100\n",
            "38/38 [==============================] - 0s 423us/step - loss: 0.2386 - acc: 0.9737 - val_loss: 0.6781 - val_acc: 0.7000\n",
            "Epoch 85/100\n",
            "38/38 [==============================] - 0s 424us/step - loss: 0.2344 - acc: 0.9737 - val_loss: 0.6757 - val_acc: 0.7000\n",
            "Epoch 86/100\n",
            "38/38 [==============================] - 0s 326us/step - loss: 0.2301 - acc: 0.9737 - val_loss: 0.6731 - val_acc: 0.7000\n",
            "Epoch 87/100\n",
            "38/38 [==============================] - 0s 378us/step - loss: 0.2258 - acc: 0.9737 - val_loss: 0.6707 - val_acc: 0.7000\n",
            "Epoch 88/100\n",
            "38/38 [==============================] - 0s 565us/step - loss: 0.2217 - acc: 0.9737 - val_loss: 0.6691 - val_acc: 0.7000\n",
            "Epoch 89/100\n",
            "38/38 [==============================] - 0s 371us/step - loss: 0.2176 - acc: 0.9737 - val_loss: 0.6669 - val_acc: 0.7000\n",
            "Epoch 90/100\n",
            "38/38 [==============================] - 0s 430us/step - loss: 0.2134 - acc: 0.9737 - val_loss: 0.6648 - val_acc: 0.7000\n",
            "Epoch 91/100\n",
            "38/38 [==============================] - 0s 439us/step - loss: 0.2095 - acc: 0.9737 - val_loss: 0.6629 - val_acc: 0.7000\n",
            "Epoch 92/100\n",
            "38/38 [==============================] - 0s 555us/step - loss: 0.2055 - acc: 0.9737 - val_loss: 0.6611 - val_acc: 0.7000\n",
            "Epoch 93/100\n",
            "38/38 [==============================] - 0s 387us/step - loss: 0.2016 - acc: 0.9737 - val_loss: 0.6594 - val_acc: 0.7000\n",
            "Epoch 94/100\n",
            "38/38 [==============================] - 0s 310us/step - loss: 0.1980 - acc: 1.0000 - val_loss: 0.6576 - val_acc: 0.7000\n",
            "Epoch 95/100\n",
            "38/38 [==============================] - 0s 329us/step - loss: 0.1941 - acc: 1.0000 - val_loss: 0.6559 - val_acc: 0.7000\n",
            "Epoch 96/100\n",
            "38/38 [==============================] - 0s 288us/step - loss: 0.1905 - acc: 1.0000 - val_loss: 0.6542 - val_acc: 0.7000\n",
            "Epoch 97/100\n",
            "38/38 [==============================] - 0s 366us/step - loss: 0.1869 - acc: 1.0000 - val_loss: 0.6527 - val_acc: 0.7000\n",
            "Epoch 98/100\n",
            "38/38 [==============================] - 0s 509us/step - loss: 0.1834 - acc: 1.0000 - val_loss: 0.6511 - val_acc: 0.7000\n",
            "Epoch 99/100\n",
            "38/38 [==============================] - 0s 346us/step - loss: 0.1801 - acc: 1.0000 - val_loss: 0.6496 - val_acc: 0.7000\n",
            "Epoch 100/100\n",
            "38/38 [==============================] - 0s 325us/step - loss: 0.1766 - acc: 1.0000 - val_loss: 0.6480 - val_acc: 0.7000\n"
          ],
          "name": "stdout"
        },
        {
          "output_type": "execute_result",
          "data": {
            "text/plain": [
              "<keras.callbacks.History at 0x7f3d8307ac88>"
            ]
          },
          "metadata": {
            "tags": []
          },
          "execution_count": 234
        }
      ]
    },
    {
      "cell_type": "code",
      "metadata": {
        "id": "a2fcujpXPlMu",
        "colab_type": "code",
        "outputId": "bc025631-c0d8-430f-8f2c-c977c7f835e8",
        "colab": {
          "base_uri": "https://localhost:8080/",
          "height": 34
        }
      },
      "source": [
        "#Evaluate the accuracy of the Keras model with #10-fold cross-validation\n",
        "scores = model.evaluate(x, y, verbose=0)\n",
        "print(\"%s: %.2f%%\" % (model.metrics_names[1], scores[1]*100))"
      ],
      "execution_count": 235,
      "outputs": [
        {
          "output_type": "stream",
          "text": [
            "acc: 93.75%\n"
          ],
          "name": "stdout"
        }
      ]
    }
  ]
}