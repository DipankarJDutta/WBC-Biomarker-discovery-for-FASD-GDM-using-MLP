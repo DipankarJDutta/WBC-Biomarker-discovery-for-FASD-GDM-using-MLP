{
  "nbformat": 4,
  "nbformat_minor": 0,
  "metadata": {
    "colab": {
      "name": "MLP_T-cells_AS_EtOH-GDM_z-score.ipynb",
      "provenance": [],
      "collapsed_sections": [],
      "include_colab_link": true
    },
    "kernelspec": {
      "name": "python3",
      "display_name": "Python 3"
    },
    "accelerator": "TPU"
  },
  "cells": [
    {
      "cell_type": "markdown",
      "metadata": {
        "id": "view-in-github",
        "colab_type": "text"
      },
      "source": [
        "<a href=\"https://colab.research.google.com/github/DipankarJDutta/WBC-Biomarker-ID-for-FASD-GDM-/blob/Optimizing-number-of-neurons-in-hidden-layer/MLP_T_cells_AS_EtOH_GDM_z_score_batch%20size%2021_10%20neurons%20in%20both%20hidden%20layer.ipynb\" target=\"_parent\"><img src=\"https://colab.research.google.com/assets/colab-badge.svg\" alt=\"Open In Colab\"/></a>"
      ]
    },
    {
      "cell_type": "code",
      "metadata": {
        "id": "86TLkXaLMzkK",
        "colab_type": "code",
        "colab": {}
      },
      "source": [
        "#Loading essentials\n",
        "from numpy import loadtxt\n",
        "from keras.models import Sequential\n",
        "from keras.layers import Dense"
      ],
      "execution_count": 0,
      "outputs": []
    },
    {
      "cell_type": "code",
      "metadata": {
        "id": "cf2BdOONOrca",
        "colab_type": "code",
        "colab": {}
      },
      "source": [
        "#load z-scored inclevel values of significantly AS genes in T-cells common to EtOH & GDM datasets\n",
        "dataset = loadtxt ('z-score_T-cell.csv', delimiter = ',')"
      ],
      "execution_count": 0,
      "outputs": []
    },
    {
      "cell_type": "code",
      "metadata": {
        "id": "HYDe7ikEO-q0",
        "colab_type": "code",
        "colab": {}
      },
      "source": [
        "#split dataset into input and output variables (25 input, 1 output)\n",
        "x = dataset [:, 0:25]\n",
        "y = dataset [:, 25]"
      ],
      "execution_count": 0,
      "outputs": []
    },
    {
      "cell_type": "code",
      "metadata": {
        "id": "bIhgfFm9PDdS",
        "colab_type": "code",
        "colab": {}
      },
      "source": [
        "#define the keras DL model: Input layer: 25; 2 hidden layers; Hidden layer 1: 12 neurons; Hidden layer 2: 8 neurons; Output layer: 1\n",
        "model = Sequential ()\n",
        "model.add(Dense(10, input_dim=25, activation='relu'))\n",
        "model.add(Dense(10, activation='relu'))\n",
        "model.add(Dense(1, activation='sigmoid'))"
      ],
      "execution_count": 0,
      "outputs": []
    },
    {
      "cell_type": "code",
      "metadata": {
        "id": "7cdclkz3PQ52",
        "colab_type": "code",
        "colab": {}
      },
      "source": [
        "#compile the keras DL model \n",
        "model.compile(loss='binary_crossentropy', optimizer='adam', metrics=['accuracy'])"
      ],
      "execution_count": 0,
      "outputs": []
    },
    {
      "cell_type": "code",
      "metadata": {
        "id": "bIRDdz_RPc76",
        "colab_type": "code",
        "outputId": "798f1186-74a4-4e43-e07a-08a3bc71e6ff",
        "colab": {
          "base_uri": "https://localhost:8080/",
          "height": 1000
        }
      },
      "source": [
        "#Train the model with an epoch of 100, a batch size of 21, a validation split of 80-20)\n",
        "model.fit(x, y, validation_split = 0.2, epochs=100, batch_size=21)"
      ],
      "execution_count": 227,
      "outputs": [
        {
          "output_type": "stream",
          "text": [
            "Train on 38 samples, validate on 10 samples\n",
            "Epoch 1/100\n",
            "38/38 [==============================] - 3s 88ms/step - loss: 0.6991 - acc: 0.5789 - val_loss: 0.5649 - val_acc: 0.8000\n",
            "Epoch 2/100\n",
            "38/38 [==============================] - 0s 312us/step - loss: 0.6898 - acc: 0.5789 - val_loss: 0.5707 - val_acc: 0.8000\n",
            "Epoch 3/100\n",
            "38/38 [==============================] - 0s 265us/step - loss: 0.6804 - acc: 0.5789 - val_loss: 0.5774 - val_acc: 0.8000\n",
            "Epoch 4/100\n",
            "38/38 [==============================] - 0s 251us/step - loss: 0.6711 - acc: 0.5789 - val_loss: 0.5842 - val_acc: 0.8000\n",
            "Epoch 5/100\n",
            "38/38 [==============================] - 0s 242us/step - loss: 0.6633 - acc: 0.5789 - val_loss: 0.5911 - val_acc: 0.8000\n",
            "Epoch 6/100\n",
            "38/38 [==============================] - 0s 438us/step - loss: 0.6545 - acc: 0.6579 - val_loss: 0.5976 - val_acc: 0.7000\n",
            "Epoch 7/100\n",
            "38/38 [==============================] - 0s 341us/step - loss: 0.6466 - acc: 0.6579 - val_loss: 0.6040 - val_acc: 0.7000\n",
            "Epoch 8/100\n",
            "38/38 [==============================] - 0s 335us/step - loss: 0.6392 - acc: 0.6842 - val_loss: 0.6101 - val_acc: 0.7000\n",
            "Epoch 9/100\n",
            "38/38 [==============================] - 0s 449us/step - loss: 0.6318 - acc: 0.6842 - val_loss: 0.6160 - val_acc: 0.7000\n",
            "Epoch 10/100\n",
            "38/38 [==============================] - 0s 336us/step - loss: 0.6257 - acc: 0.6842 - val_loss: 0.6218 - val_acc: 0.7000\n",
            "Epoch 11/100\n",
            "38/38 [==============================] - 0s 327us/step - loss: 0.6176 - acc: 0.6842 - val_loss: 0.6268 - val_acc: 0.7000\n",
            "Epoch 12/100\n",
            "38/38 [==============================] - 0s 284us/step - loss: 0.6119 - acc: 0.7105 - val_loss: 0.6317 - val_acc: 0.7000\n",
            "Epoch 13/100\n",
            "38/38 [==============================] - 0s 361us/step - loss: 0.6077 - acc: 0.7368 - val_loss: 0.6367 - val_acc: 0.7000\n",
            "Epoch 14/100\n",
            "38/38 [==============================] - 0s 394us/step - loss: 0.6012 - acc: 0.7368 - val_loss: 0.6409 - val_acc: 0.6000\n",
            "Epoch 15/100\n",
            "38/38 [==============================] - 0s 288us/step - loss: 0.5960 - acc: 0.7368 - val_loss: 0.6449 - val_acc: 0.6000\n",
            "Epoch 16/100\n",
            "38/38 [==============================] - 0s 505us/step - loss: 0.5913 - acc: 0.7368 - val_loss: 0.6485 - val_acc: 0.6000\n",
            "Epoch 17/100\n",
            "38/38 [==============================] - 0s 336us/step - loss: 0.5871 - acc: 0.7632 - val_loss: 0.6521 - val_acc: 0.6000\n",
            "Epoch 18/100\n",
            "38/38 [==============================] - 0s 234us/step - loss: 0.5822 - acc: 0.7632 - val_loss: 0.6549 - val_acc: 0.6000\n",
            "Epoch 19/100\n",
            "38/38 [==============================] - 0s 253us/step - loss: 0.5772 - acc: 0.7895 - val_loss: 0.6572 - val_acc: 0.6000\n",
            "Epoch 20/100\n",
            "38/38 [==============================] - 0s 253us/step - loss: 0.5733 - acc: 0.7895 - val_loss: 0.6593 - val_acc: 0.6000\n",
            "Epoch 21/100\n",
            "38/38 [==============================] - 0s 344us/step - loss: 0.5696 - acc: 0.7895 - val_loss: 0.6613 - val_acc: 0.6000\n",
            "Epoch 22/100\n",
            "38/38 [==============================] - 0s 256us/step - loss: 0.5657 - acc: 0.7895 - val_loss: 0.6630 - val_acc: 0.6000\n",
            "Epoch 23/100\n",
            "38/38 [==============================] - 0s 290us/step - loss: 0.5616 - acc: 0.7895 - val_loss: 0.6640 - val_acc: 0.6000\n",
            "Epoch 24/100\n",
            "38/38 [==============================] - 0s 280us/step - loss: 0.5575 - acc: 0.7895 - val_loss: 0.6649 - val_acc: 0.6000\n",
            "Epoch 25/100\n",
            "38/38 [==============================] - 0s 236us/step - loss: 0.5535 - acc: 0.8158 - val_loss: 0.6652 - val_acc: 0.6000\n",
            "Epoch 26/100\n",
            "38/38 [==============================] - 0s 260us/step - loss: 0.5497 - acc: 0.8421 - val_loss: 0.6655 - val_acc: 0.6000\n",
            "Epoch 27/100\n",
            "38/38 [==============================] - 0s 257us/step - loss: 0.5455 - acc: 0.8684 - val_loss: 0.6656 - val_acc: 0.6000\n",
            "Epoch 28/100\n",
            "38/38 [==============================] - 0s 275us/step - loss: 0.5416 - acc: 0.8684 - val_loss: 0.6649 - val_acc: 0.6000\n",
            "Epoch 29/100\n",
            "38/38 [==============================] - 0s 297us/step - loss: 0.5375 - acc: 0.8684 - val_loss: 0.6645 - val_acc: 0.6000\n",
            "Epoch 30/100\n",
            "38/38 [==============================] - 0s 303us/step - loss: 0.5333 - acc: 0.8684 - val_loss: 0.6642 - val_acc: 0.6000\n",
            "Epoch 31/100\n",
            "38/38 [==============================] - 0s 285us/step - loss: 0.5291 - acc: 0.8947 - val_loss: 0.6635 - val_acc: 0.6000\n",
            "Epoch 32/100\n",
            "38/38 [==============================] - 0s 334us/step - loss: 0.5251 - acc: 0.8947 - val_loss: 0.6626 - val_acc: 0.6000\n",
            "Epoch 33/100\n",
            "38/38 [==============================] - 0s 296us/step - loss: 0.5207 - acc: 0.8947 - val_loss: 0.6618 - val_acc: 0.6000\n",
            "Epoch 34/100\n",
            "38/38 [==============================] - 0s 288us/step - loss: 0.5168 - acc: 0.8947 - val_loss: 0.6606 - val_acc: 0.6000\n",
            "Epoch 35/100\n",
            "38/38 [==============================] - 0s 240us/step - loss: 0.5128 - acc: 0.8947 - val_loss: 0.6596 - val_acc: 0.6000\n",
            "Epoch 36/100\n",
            "38/38 [==============================] - 0s 255us/step - loss: 0.5084 - acc: 0.8947 - val_loss: 0.6586 - val_acc: 0.6000\n",
            "Epoch 37/100\n",
            "38/38 [==============================] - 0s 274us/step - loss: 0.5044 - acc: 0.8947 - val_loss: 0.6577 - val_acc: 0.6000\n",
            "Epoch 38/100\n",
            "38/38 [==============================] - 0s 279us/step - loss: 0.4999 - acc: 0.8947 - val_loss: 0.6565 - val_acc: 0.6000\n",
            "Epoch 39/100\n",
            "38/38 [==============================] - 0s 436us/step - loss: 0.4959 - acc: 0.8947 - val_loss: 0.6550 - val_acc: 0.6000\n",
            "Epoch 40/100\n",
            "38/38 [==============================] - 0s 300us/step - loss: 0.4916 - acc: 0.8947 - val_loss: 0.6535 - val_acc: 0.6000\n",
            "Epoch 41/100\n",
            "38/38 [==============================] - 0s 307us/step - loss: 0.4871 - acc: 0.8947 - val_loss: 0.6523 - val_acc: 0.6000\n",
            "Epoch 42/100\n",
            "38/38 [==============================] - 0s 255us/step - loss: 0.4832 - acc: 0.8947 - val_loss: 0.6516 - val_acc: 0.6000\n",
            "Epoch 43/100\n",
            "38/38 [==============================] - 0s 263us/step - loss: 0.4791 - acc: 0.8947 - val_loss: 0.6509 - val_acc: 0.6000\n",
            "Epoch 44/100\n",
            "38/38 [==============================] - 0s 271us/step - loss: 0.4746 - acc: 0.8947 - val_loss: 0.6497 - val_acc: 0.6000\n",
            "Epoch 45/100\n",
            "38/38 [==============================] - 0s 291us/step - loss: 0.4706 - acc: 0.8947 - val_loss: 0.6484 - val_acc: 0.6000\n",
            "Epoch 46/100\n",
            "38/38 [==============================] - 0s 444us/step - loss: 0.4662 - acc: 0.8947 - val_loss: 0.6475 - val_acc: 0.6000\n",
            "Epoch 47/100\n",
            "38/38 [==============================] - 0s 344us/step - loss: 0.4619 - acc: 0.8947 - val_loss: 0.6467 - val_acc: 0.6000\n",
            "Epoch 48/100\n",
            "38/38 [==============================] - 0s 322us/step - loss: 0.4577 - acc: 0.8947 - val_loss: 0.6463 - val_acc: 0.6000\n",
            "Epoch 49/100\n",
            "38/38 [==============================] - 0s 258us/step - loss: 0.4532 - acc: 0.8947 - val_loss: 0.6455 - val_acc: 0.6000\n",
            "Epoch 50/100\n",
            "38/38 [==============================] - 0s 264us/step - loss: 0.4490 - acc: 0.8947 - val_loss: 0.6446 - val_acc: 0.6000\n",
            "Epoch 51/100\n",
            "38/38 [==============================] - 0s 262us/step - loss: 0.4447 - acc: 0.8947 - val_loss: 0.6440 - val_acc: 0.6000\n",
            "Epoch 52/100\n",
            "38/38 [==============================] - 0s 516us/step - loss: 0.4404 - acc: 0.8947 - val_loss: 0.6432 - val_acc: 0.6000\n",
            "Epoch 53/100\n",
            "38/38 [==============================] - 0s 563us/step - loss: 0.4362 - acc: 0.8947 - val_loss: 0.6422 - val_acc: 0.6000\n",
            "Epoch 54/100\n",
            "38/38 [==============================] - 0s 328us/step - loss: 0.4319 - acc: 0.8947 - val_loss: 0.6406 - val_acc: 0.6000\n",
            "Epoch 55/100\n",
            "38/38 [==============================] - 0s 281us/step - loss: 0.4273 - acc: 0.8947 - val_loss: 0.6398 - val_acc: 0.6000\n",
            "Epoch 56/100\n",
            "38/38 [==============================] - 0s 326us/step - loss: 0.4227 - acc: 0.8947 - val_loss: 0.6389 - val_acc: 0.6000\n",
            "Epoch 57/100\n",
            "38/38 [==============================] - 0s 277us/step - loss: 0.4184 - acc: 0.8947 - val_loss: 0.6377 - val_acc: 0.6000\n",
            "Epoch 58/100\n",
            "38/38 [==============================] - 0s 367us/step - loss: 0.4137 - acc: 0.8947 - val_loss: 0.6368 - val_acc: 0.6000\n",
            "Epoch 59/100\n",
            "38/38 [==============================] - 0s 510us/step - loss: 0.4095 - acc: 0.8947 - val_loss: 0.6361 - val_acc: 0.6000\n",
            "Epoch 60/100\n",
            "38/38 [==============================] - 0s 336us/step - loss: 0.4048 - acc: 0.8947 - val_loss: 0.6346 - val_acc: 0.6000\n",
            "Epoch 61/100\n",
            "38/38 [==============================] - 0s 594us/step - loss: 0.4003 - acc: 0.8947 - val_loss: 0.6336 - val_acc: 0.6000\n",
            "Epoch 62/100\n",
            "38/38 [==============================] - 0s 401us/step - loss: 0.3959 - acc: 0.8947 - val_loss: 0.6323 - val_acc: 0.6000\n",
            "Epoch 63/100\n",
            "38/38 [==============================] - 0s 332us/step - loss: 0.3914 - acc: 0.8947 - val_loss: 0.6316 - val_acc: 0.6000\n",
            "Epoch 64/100\n",
            "38/38 [==============================] - 0s 351us/step - loss: 0.3869 - acc: 0.8947 - val_loss: 0.6304 - val_acc: 0.5000\n",
            "Epoch 65/100\n",
            "38/38 [==============================] - 0s 337us/step - loss: 0.3821 - acc: 0.8947 - val_loss: 0.6294 - val_acc: 0.5000\n",
            "Epoch 66/100\n",
            "38/38 [==============================] - 0s 297us/step - loss: 0.3776 - acc: 0.8947 - val_loss: 0.6282 - val_acc: 0.5000\n",
            "Epoch 67/100\n",
            "38/38 [==============================] - 0s 241us/step - loss: 0.3732 - acc: 0.8947 - val_loss: 0.6278 - val_acc: 0.5000\n",
            "Epoch 68/100\n",
            "38/38 [==============================] - 0s 242us/step - loss: 0.3685 - acc: 0.8947 - val_loss: 0.6267 - val_acc: 0.5000\n",
            "Epoch 69/100\n",
            "38/38 [==============================] - 0s 318us/step - loss: 0.3639 - acc: 0.8947 - val_loss: 0.6256 - val_acc: 0.5000\n",
            "Epoch 70/100\n",
            "38/38 [==============================] - 0s 326us/step - loss: 0.3594 - acc: 0.8947 - val_loss: 0.6242 - val_acc: 0.5000\n",
            "Epoch 71/100\n",
            "38/38 [==============================] - 0s 388us/step - loss: 0.3546 - acc: 0.8947 - val_loss: 0.6227 - val_acc: 0.5000\n",
            "Epoch 72/100\n",
            "38/38 [==============================] - 0s 314us/step - loss: 0.3502 - acc: 0.8947 - val_loss: 0.6216 - val_acc: 0.5000\n",
            "Epoch 73/100\n",
            "38/38 [==============================] - 0s 297us/step - loss: 0.3458 - acc: 0.8947 - val_loss: 0.6206 - val_acc: 0.5000\n",
            "Epoch 74/100\n",
            "38/38 [==============================] - 0s 299us/step - loss: 0.3415 - acc: 0.8947 - val_loss: 0.6196 - val_acc: 0.5000\n",
            "Epoch 75/100\n",
            "38/38 [==============================] - 0s 296us/step - loss: 0.3372 - acc: 0.8947 - val_loss: 0.6185 - val_acc: 0.5000\n",
            "Epoch 76/100\n",
            "38/38 [==============================] - 0s 272us/step - loss: 0.3326 - acc: 0.8947 - val_loss: 0.6179 - val_acc: 0.5000\n",
            "Epoch 77/100\n",
            "38/38 [==============================] - 0s 292us/step - loss: 0.3282 - acc: 0.8947 - val_loss: 0.6171 - val_acc: 0.5000\n",
            "Epoch 78/100\n",
            "38/38 [==============================] - 0s 316us/step - loss: 0.3241 - acc: 0.9211 - val_loss: 0.6168 - val_acc: 0.6000\n",
            "Epoch 79/100\n",
            "38/38 [==============================] - 0s 565us/step - loss: 0.3200 - acc: 0.9211 - val_loss: 0.6156 - val_acc: 0.6000\n",
            "Epoch 80/100\n",
            "38/38 [==============================] - 0s 388us/step - loss: 0.3158 - acc: 0.9211 - val_loss: 0.6148 - val_acc: 0.6000\n",
            "Epoch 81/100\n",
            "38/38 [==============================] - 0s 347us/step - loss: 0.3116 - acc: 0.9211 - val_loss: 0.6139 - val_acc: 0.6000\n",
            "Epoch 82/100\n",
            "38/38 [==============================] - 0s 311us/step - loss: 0.3076 - acc: 0.9211 - val_loss: 0.6136 - val_acc: 0.6000\n",
            "Epoch 83/100\n",
            "38/38 [==============================] - 0s 300us/step - loss: 0.3035 - acc: 0.9211 - val_loss: 0.6131 - val_acc: 0.6000\n",
            "Epoch 84/100\n",
            "38/38 [==============================] - 0s 274us/step - loss: 0.2995 - acc: 0.9211 - val_loss: 0.6126 - val_acc: 0.6000\n",
            "Epoch 85/100\n",
            "38/38 [==============================] - 0s 420us/step - loss: 0.2956 - acc: 0.9211 - val_loss: 0.6126 - val_acc: 0.6000\n",
            "Epoch 86/100\n",
            "38/38 [==============================] - 0s 432us/step - loss: 0.2917 - acc: 0.9211 - val_loss: 0.6123 - val_acc: 0.6000\n",
            "Epoch 87/100\n",
            "38/38 [==============================] - 0s 288us/step - loss: 0.2877 - acc: 0.9474 - val_loss: 0.6118 - val_acc: 0.6000\n",
            "Epoch 88/100\n",
            "38/38 [==============================] - 0s 232us/step - loss: 0.2840 - acc: 0.9474 - val_loss: 0.6111 - val_acc: 0.6000\n",
            "Epoch 89/100\n",
            "38/38 [==============================] - 0s 297us/step - loss: 0.2803 - acc: 0.9474 - val_loss: 0.6111 - val_acc: 0.6000\n",
            "Epoch 90/100\n",
            "38/38 [==============================] - 0s 219us/step - loss: 0.2762 - acc: 0.9474 - val_loss: 0.6111 - val_acc: 0.6000\n",
            "Epoch 91/100\n",
            "38/38 [==============================] - 0s 238us/step - loss: 0.2726 - acc: 0.9474 - val_loss: 0.6112 - val_acc: 0.6000\n",
            "Epoch 92/100\n",
            "38/38 [==============================] - 0s 222us/step - loss: 0.2691 - acc: 0.9474 - val_loss: 0.6116 - val_acc: 0.6000\n",
            "Epoch 93/100\n",
            "38/38 [==============================] - 0s 187us/step - loss: 0.2650 - acc: 0.9474 - val_loss: 0.6121 - val_acc: 0.6000\n",
            "Epoch 94/100\n",
            "38/38 [==============================] - 0s 214us/step - loss: 0.2617 - acc: 0.9474 - val_loss: 0.6130 - val_acc: 0.7000\n",
            "Epoch 95/100\n",
            "38/38 [==============================] - 0s 407us/step - loss: 0.2580 - acc: 0.9474 - val_loss: 0.6136 - val_acc: 0.7000\n",
            "Epoch 96/100\n",
            "38/38 [==============================] - 0s 957us/step - loss: 0.2542 - acc: 0.9474 - val_loss: 0.6142 - val_acc: 0.7000\n",
            "Epoch 97/100\n",
            "38/38 [==============================] - 0s 425us/step - loss: 0.2507 - acc: 0.9474 - val_loss: 0.6146 - val_acc: 0.7000\n",
            "Epoch 98/100\n",
            "38/38 [==============================] - 0s 306us/step - loss: 0.2473 - acc: 0.9474 - val_loss: 0.6152 - val_acc: 0.7000\n",
            "Epoch 99/100\n",
            "38/38 [==============================] - 0s 426us/step - loss: 0.2438 - acc: 0.9474 - val_loss: 0.6160 - val_acc: 0.7000\n",
            "Epoch 100/100\n",
            "38/38 [==============================] - 0s 398us/step - loss: 0.2399 - acc: 0.9474 - val_loss: 0.6163 - val_acc: 0.7000\n"
          ],
          "name": "stdout"
        },
        {
          "output_type": "execute_result",
          "data": {
            "text/plain": [
              "<keras.callbacks.History at 0x7f3d82f6ec50>"
            ]
          },
          "metadata": {
            "tags": []
          },
          "execution_count": 227
        }
      ]
    },
    {
      "cell_type": "code",
      "metadata": {
        "id": "a2fcujpXPlMu",
        "colab_type": "code",
        "outputId": "46d04926-fd1a-49e2-bae4-fc1515beca40",
        "colab": {
          "base_uri": "https://localhost:8080/",
          "height": 34
        }
      },
      "source": [
        "#Evaluate the accuracy of the Keras model with #10-fold cross-validation\n",
        "scores = model.evaluate(x, y, verbose=0)\n",
        "print(\"%s: %.2f%%\" % (model.metrics_names[1], scores[1]*100))"
      ],
      "execution_count": 228,
      "outputs": [
        {
          "output_type": "stream",
          "text": [
            "acc: 89.58%\n"
          ],
          "name": "stdout"
        }
      ]
    }
  ]
}