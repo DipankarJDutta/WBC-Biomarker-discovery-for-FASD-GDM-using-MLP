{
  "nbformat": 4,
  "nbformat_minor": 0,
  "metadata": {
    "colab": {
      "name": "MLP_T-cells_AS_EtOH-GDM_z-score.ipynb",
      "provenance": [],
      "collapsed_sections": [],
      "include_colab_link": true
    },
    "kernelspec": {
      "name": "python3",
      "display_name": "Python 3"
    },
    "accelerator": "TPU"
  },
  "cells": [
    {
      "cell_type": "markdown",
      "metadata": {
        "id": "view-in-github",
        "colab_type": "text"
      },
      "source": [
        "<a href=\"https://colab.research.google.com/github/DipankarJDutta/WBC-Biomarker-ID-for-FASD-GDM-/blob/Optimizing-number-of-neurons-in-hidden-layer/MLP_T_cells_AS_EtOH_GDM_z_score_batch%20size%2021_10%20neurons%20in%20both%20hidden%20layer.ipynb\" target=\"_parent\"><img src=\"https://colab.research.google.com/assets/colab-badge.svg\" alt=\"Open In Colab\"/></a>"
      ]
    },
    {
      "cell_type": "code",
      "metadata": {
        "id": "86TLkXaLMzkK",
        "colab_type": "code",
        "colab": {}
      },
      "source": [
        "#Loading essentials\n",
        "from numpy import loadtxt\n",
        "from keras.models import Sequential\n",
        "from keras.layers import Dense"
      ],
      "execution_count": 0,
      "outputs": []
    },
    {
      "cell_type": "code",
      "metadata": {
        "id": "cf2BdOONOrca",
        "colab_type": "code",
        "colab": {}
      },
      "source": [
        "#load z-scored inclevel values of significantly AS genes in T-cells common to EtOH & GDM datasets\n",
        "dataset = loadtxt ('z-score_T-cell.csv', delimiter = ',')"
      ],
      "execution_count": 0,
      "outputs": []
    },
    {
      "cell_type": "code",
      "metadata": {
        "id": "HYDe7ikEO-q0",
        "colab_type": "code",
        "colab": {}
      },
      "source": [
        "#split dataset into input and output variables (25 input, 1 output)\n",
        "x = dataset [:, 0:25]\n",
        "y = dataset [:, 25]"
      ],
      "execution_count": 0,
      "outputs": []
    },
    {
      "cell_type": "code",
      "metadata": {
        "id": "bIhgfFm9PDdS",
        "colab_type": "code",
        "colab": {}
      },
      "source": [
        "#define the keras DL model: Input layer: 25; 2 hidden layers; Hidden layer 1: 12 neurons; Hidden layer 2: 8 neurons; Output layer: 1\n",
        "model = Sequential ()\n",
        "model.add(Dense(12, input_dim=25, activation='relu'))\n",
        "model.add(Dense(8, activation='relu'))\n",
        "model.add(Dense(1, activation='sigmoid'))"
      ],
      "execution_count": 0,
      "outputs": []
    },
    {
      "cell_type": "code",
      "metadata": {
        "id": "7cdclkz3PQ52",
        "colab_type": "code",
        "colab": {}
      },
      "source": [
        "#compile the keras DL model \n",
        "model.compile(loss='binary_crossentropy', optimizer='adam', metrics=['accuracy'])"
      ],
      "execution_count": 0,
      "outputs": []
    },
    {
      "cell_type": "code",
      "metadata": {
        "id": "bIRDdz_RPc76",
        "colab_type": "code",
        "outputId": "cc84c8b6-5842-41c1-8ad1-c41c46b1031c",
        "colab": {
          "base_uri": "https://localhost:8080/",
          "height": 1000
        }
      },
      "source": [
        "#Train the model with an epoch of 100, a batch size of 21, a validation split of 80-20)\n",
        "model.fit(x, y, validation_split = 0.2, epochs=100, batch_size=21)"
      ],
      "execution_count": 0,
      "outputs": [
        {
          "output_type": "stream",
          "text": [
            "Train on 38 samples, validate on 10 samples\n",
            "Epoch 1/100\n",
            "38/38 [==============================] - 7s 177ms/step - loss: 0.7577 - acc: 0.5526 - val_loss: 0.6510 - val_acc: 0.5000\n",
            "Epoch 2/100\n",
            "38/38 [==============================] - 0s 422us/step - loss: 0.7420 - acc: 0.5526 - val_loss: 0.6564 - val_acc: 0.5000\n",
            "Epoch 3/100\n",
            "38/38 [==============================] - 0s 418us/step - loss: 0.7271 - acc: 0.5526 - val_loss: 0.6614 - val_acc: 0.5000\n",
            "Epoch 4/100\n",
            "38/38 [==============================] - 0s 330us/step - loss: 0.7132 - acc: 0.5789 - val_loss: 0.6657 - val_acc: 0.5000\n",
            "Epoch 5/100\n",
            "38/38 [==============================] - 0s 316us/step - loss: 0.7016 - acc: 0.5789 - val_loss: 0.6705 - val_acc: 0.5000\n",
            "Epoch 6/100\n",
            "38/38 [==============================] - 0s 341us/step - loss: 0.6896 - acc: 0.5789 - val_loss: 0.6752 - val_acc: 0.5000\n",
            "Epoch 7/100\n",
            "38/38 [==============================] - 0s 355us/step - loss: 0.6786 - acc: 0.5789 - val_loss: 0.6798 - val_acc: 0.5000\n",
            "Epoch 8/100\n",
            "38/38 [==============================] - 0s 314us/step - loss: 0.6669 - acc: 0.6053 - val_loss: 0.6843 - val_acc: 0.5000\n",
            "Epoch 9/100\n",
            "38/38 [==============================] - 0s 324us/step - loss: 0.6577 - acc: 0.6053 - val_loss: 0.6890 - val_acc: 0.5000\n",
            "Epoch 10/100\n",
            "38/38 [==============================] - 0s 346us/step - loss: 0.6477 - acc: 0.6053 - val_loss: 0.6932 - val_acc: 0.5000\n",
            "Epoch 11/100\n",
            "38/38 [==============================] - 0s 315us/step - loss: 0.6386 - acc: 0.6053 - val_loss: 0.6969 - val_acc: 0.5000\n",
            "Epoch 12/100\n",
            "38/38 [==============================] - 0s 350us/step - loss: 0.6291 - acc: 0.6053 - val_loss: 0.7003 - val_acc: 0.5000\n",
            "Epoch 13/100\n",
            "38/38 [==============================] - 0s 382us/step - loss: 0.6207 - acc: 0.6316 - val_loss: 0.7035 - val_acc: 0.5000\n",
            "Epoch 14/100\n",
            "38/38 [==============================] - 0s 306us/step - loss: 0.6132 - acc: 0.6579 - val_loss: 0.7066 - val_acc: 0.5000\n",
            "Epoch 15/100\n",
            "38/38 [==============================] - 0s 356us/step - loss: 0.6058 - acc: 0.6842 - val_loss: 0.7100 - val_acc: 0.5000\n",
            "Epoch 16/100\n",
            "38/38 [==============================] - 0s 423us/step - loss: 0.5975 - acc: 0.6842 - val_loss: 0.7129 - val_acc: 0.4000\n",
            "Epoch 17/100\n",
            "38/38 [==============================] - 0s 343us/step - loss: 0.5903 - acc: 0.6842 - val_loss: 0.7157 - val_acc: 0.4000\n",
            "Epoch 18/100\n",
            "38/38 [==============================] - 0s 379us/step - loss: 0.5837 - acc: 0.7105 - val_loss: 0.7185 - val_acc: 0.4000\n",
            "Epoch 19/100\n",
            "38/38 [==============================] - 0s 467us/step - loss: 0.5764 - acc: 0.7368 - val_loss: 0.7211 - val_acc: 0.4000\n",
            "Epoch 20/100\n",
            "38/38 [==============================] - 0s 489us/step - loss: 0.5693 - acc: 0.7368 - val_loss: 0.7239 - val_acc: 0.4000\n",
            "Epoch 21/100\n",
            "38/38 [==============================] - 0s 232us/step - loss: 0.5629 - acc: 0.7368 - val_loss: 0.7266 - val_acc: 0.4000\n",
            "Epoch 22/100\n",
            "38/38 [==============================] - 0s 381us/step - loss: 0.5573 - acc: 0.7368 - val_loss: 0.7292 - val_acc: 0.4000\n",
            "Epoch 23/100\n",
            "38/38 [==============================] - 0s 368us/step - loss: 0.5504 - acc: 0.7368 - val_loss: 0.7315 - val_acc: 0.4000\n",
            "Epoch 24/100\n",
            "38/38 [==============================] - 0s 369us/step - loss: 0.5448 - acc: 0.7632 - val_loss: 0.7338 - val_acc: 0.4000\n",
            "Epoch 25/100\n",
            "38/38 [==============================] - 0s 362us/step - loss: 0.5388 - acc: 0.7632 - val_loss: 0.7362 - val_acc: 0.4000\n",
            "Epoch 26/100\n",
            "38/38 [==============================] - 0s 314us/step - loss: 0.5326 - acc: 0.7632 - val_loss: 0.7384 - val_acc: 0.4000\n",
            "Epoch 27/100\n",
            "38/38 [==============================] - 0s 353us/step - loss: 0.5278 - acc: 0.7632 - val_loss: 0.7407 - val_acc: 0.4000\n",
            "Epoch 28/100\n",
            "38/38 [==============================] - 0s 359us/step - loss: 0.5223 - acc: 0.7895 - val_loss: 0.7431 - val_acc: 0.4000\n",
            "Epoch 29/100\n",
            "38/38 [==============================] - 0s 437us/step - loss: 0.5173 - acc: 0.7895 - val_loss: 0.7455 - val_acc: 0.4000\n",
            "Epoch 30/100\n",
            "38/38 [==============================] - 0s 340us/step - loss: 0.5124 - acc: 0.8158 - val_loss: 0.7479 - val_acc: 0.4000\n",
            "Epoch 31/100\n",
            "38/38 [==============================] - 0s 283us/step - loss: 0.5073 - acc: 0.8158 - val_loss: 0.7506 - val_acc: 0.4000\n",
            "Epoch 32/100\n",
            "38/38 [==============================] - 0s 315us/step - loss: 0.5027 - acc: 0.8158 - val_loss: 0.7534 - val_acc: 0.4000\n",
            "Epoch 33/100\n",
            "38/38 [==============================] - 0s 360us/step - loss: 0.4979 - acc: 0.8158 - val_loss: 0.7561 - val_acc: 0.4000\n",
            "Epoch 34/100\n",
            "38/38 [==============================] - 0s 369us/step - loss: 0.4929 - acc: 0.8158 - val_loss: 0.7588 - val_acc: 0.4000\n",
            "Epoch 35/100\n",
            "38/38 [==============================] - 0s 913us/step - loss: 0.4881 - acc: 0.8158 - val_loss: 0.7619 - val_acc: 0.4000\n",
            "Epoch 36/100\n",
            "38/38 [==============================] - 0s 401us/step - loss: 0.4834 - acc: 0.8158 - val_loss: 0.7650 - val_acc: 0.4000\n",
            "Epoch 37/100\n",
            "38/38 [==============================] - 0s 325us/step - loss: 0.4788 - acc: 0.8158 - val_loss: 0.7683 - val_acc: 0.4000\n",
            "Epoch 38/100\n",
            "38/38 [==============================] - 0s 330us/step - loss: 0.4743 - acc: 0.8158 - val_loss: 0.7714 - val_acc: 0.4000\n",
            "Epoch 39/100\n",
            "38/38 [==============================] - 0s 319us/step - loss: 0.4696 - acc: 0.8158 - val_loss: 0.7742 - val_acc: 0.4000\n",
            "Epoch 40/100\n",
            "38/38 [==============================] - 0s 355us/step - loss: 0.4652 - acc: 0.8158 - val_loss: 0.7767 - val_acc: 0.4000\n",
            "Epoch 41/100\n",
            "38/38 [==============================] - 0s 395us/step - loss: 0.4610 - acc: 0.8158 - val_loss: 0.7793 - val_acc: 0.4000\n",
            "Epoch 42/100\n",
            "38/38 [==============================] - 0s 335us/step - loss: 0.4567 - acc: 0.8158 - val_loss: 0.7817 - val_acc: 0.4000\n",
            "Epoch 43/100\n",
            "38/38 [==============================] - 0s 355us/step - loss: 0.4521 - acc: 0.8158 - val_loss: 0.7843 - val_acc: 0.4000\n",
            "Epoch 44/100\n",
            "38/38 [==============================] - 0s 321us/step - loss: 0.4480 - acc: 0.8158 - val_loss: 0.7869 - val_acc: 0.4000\n",
            "Epoch 45/100\n",
            "38/38 [==============================] - 0s 320us/step - loss: 0.4437 - acc: 0.8158 - val_loss: 0.7894 - val_acc: 0.4000\n",
            "Epoch 46/100\n",
            "38/38 [==============================] - 0s 297us/step - loss: 0.4396 - acc: 0.8158 - val_loss: 0.7924 - val_acc: 0.4000\n",
            "Epoch 47/100\n",
            "38/38 [==============================] - 0s 527us/step - loss: 0.4353 - acc: 0.8158 - val_loss: 0.7955 - val_acc: 0.4000\n",
            "Epoch 48/100\n",
            "38/38 [==============================] - 0s 387us/step - loss: 0.4314 - acc: 0.8158 - val_loss: 0.7985 - val_acc: 0.4000\n",
            "Epoch 49/100\n",
            "38/38 [==============================] - 0s 333us/step - loss: 0.4274 - acc: 0.8158 - val_loss: 0.8015 - val_acc: 0.4000\n",
            "Epoch 50/100\n",
            "38/38 [==============================] - 0s 395us/step - loss: 0.4231 - acc: 0.8158 - val_loss: 0.8039 - val_acc: 0.4000\n",
            "Epoch 51/100\n",
            "38/38 [==============================] - 0s 319us/step - loss: 0.4193 - acc: 0.8158 - val_loss: 0.8064 - val_acc: 0.4000\n",
            "Epoch 52/100\n",
            "38/38 [==============================] - 0s 330us/step - loss: 0.4156 - acc: 0.8158 - val_loss: 0.8092 - val_acc: 0.4000\n",
            "Epoch 53/100\n",
            "38/38 [==============================] - 0s 378us/step - loss: 0.4114 - acc: 0.8158 - val_loss: 0.8119 - val_acc: 0.4000\n",
            "Epoch 54/100\n",
            "38/38 [==============================] - 0s 364us/step - loss: 0.4076 - acc: 0.8158 - val_loss: 0.8148 - val_acc: 0.4000\n",
            "Epoch 55/100\n",
            "38/38 [==============================] - 0s 337us/step - loss: 0.4036 - acc: 0.8158 - val_loss: 0.8176 - val_acc: 0.4000\n",
            "Epoch 56/100\n",
            "38/38 [==============================] - 0s 360us/step - loss: 0.3995 - acc: 0.8421 - val_loss: 0.8206 - val_acc: 0.4000\n",
            "Epoch 57/100\n",
            "38/38 [==============================] - 0s 365us/step - loss: 0.3957 - acc: 0.8684 - val_loss: 0.8237 - val_acc: 0.4000\n",
            "Epoch 58/100\n",
            "38/38 [==============================] - 0s 315us/step - loss: 0.3915 - acc: 0.8684 - val_loss: 0.8269 - val_acc: 0.4000\n",
            "Epoch 59/100\n",
            "38/38 [==============================] - 0s 404us/step - loss: 0.3876 - acc: 0.8684 - val_loss: 0.8297 - val_acc: 0.4000\n",
            "Epoch 60/100\n",
            "38/38 [==============================] - 0s 703us/step - loss: 0.3839 - acc: 0.8684 - val_loss: 0.8332 - val_acc: 0.5000\n",
            "Epoch 61/100\n",
            "38/38 [==============================] - 0s 361us/step - loss: 0.3797 - acc: 0.8684 - val_loss: 0.8363 - val_acc: 0.5000\n",
            "Epoch 62/100\n",
            "38/38 [==============================] - 0s 380us/step - loss: 0.3761 - acc: 0.8684 - val_loss: 0.8398 - val_acc: 0.5000\n",
            "Epoch 63/100\n",
            "38/38 [==============================] - 0s 558us/step - loss: 0.3723 - acc: 0.8684 - val_loss: 0.8432 - val_acc: 0.5000\n",
            "Epoch 64/100\n",
            "38/38 [==============================] - 0s 615us/step - loss: 0.3683 - acc: 0.8684 - val_loss: 0.8467 - val_acc: 0.5000\n",
            "Epoch 65/100\n",
            "38/38 [==============================] - 0s 328us/step - loss: 0.3647 - acc: 0.8684 - val_loss: 0.8502 - val_acc: 0.5000\n",
            "Epoch 66/100\n",
            "38/38 [==============================] - 0s 363us/step - loss: 0.3608 - acc: 0.8684 - val_loss: 0.8534 - val_acc: 0.5000\n",
            "Epoch 67/100\n",
            "38/38 [==============================] - 0s 394us/step - loss: 0.3569 - acc: 0.8684 - val_loss: 0.8563 - val_acc: 0.5000\n",
            "Epoch 68/100\n",
            "38/38 [==============================] - 0s 332us/step - loss: 0.3530 - acc: 0.8684 - val_loss: 0.8594 - val_acc: 0.5000\n",
            "Epoch 69/100\n",
            "38/38 [==============================] - 0s 388us/step - loss: 0.3490 - acc: 0.8684 - val_loss: 0.8625 - val_acc: 0.5000\n",
            "Epoch 70/100\n",
            "38/38 [==============================] - 0s 427us/step - loss: 0.3453 - acc: 0.8947 - val_loss: 0.8660 - val_acc: 0.5000\n",
            "Epoch 71/100\n",
            "38/38 [==============================] - 0s 542us/step - loss: 0.3412 - acc: 0.9211 - val_loss: 0.8696 - val_acc: 0.5000\n",
            "Epoch 72/100\n",
            "38/38 [==============================] - 0s 511us/step - loss: 0.3371 - acc: 0.9211 - val_loss: 0.8730 - val_acc: 0.5000\n",
            "Epoch 73/100\n",
            "38/38 [==============================] - 0s 404us/step - loss: 0.3331 - acc: 0.9211 - val_loss: 0.8764 - val_acc: 0.5000\n",
            "Epoch 74/100\n",
            "38/38 [==============================] - 0s 424us/step - loss: 0.3289 - acc: 0.9211 - val_loss: 0.8799 - val_acc: 0.5000\n",
            "Epoch 75/100\n",
            "38/38 [==============================] - 0s 657us/step - loss: 0.3248 - acc: 0.9211 - val_loss: 0.8834 - val_acc: 0.5000\n",
            "Epoch 76/100\n",
            "38/38 [==============================] - 0s 359us/step - loss: 0.3209 - acc: 0.9211 - val_loss: 0.8872 - val_acc: 0.5000\n",
            "Epoch 77/100\n",
            "38/38 [==============================] - 0s 338us/step - loss: 0.3168 - acc: 0.9211 - val_loss: 0.8906 - val_acc: 0.5000\n",
            "Epoch 78/100\n",
            "38/38 [==============================] - 0s 353us/step - loss: 0.3129 - acc: 0.9211 - val_loss: 0.8938 - val_acc: 0.5000\n",
            "Epoch 79/100\n",
            "38/38 [==============================] - 0s 385us/step - loss: 0.3091 - acc: 0.9211 - val_loss: 0.8973 - val_acc: 0.5000\n",
            "Epoch 80/100\n",
            "38/38 [==============================] - 0s 358us/step - loss: 0.3053 - acc: 0.9474 - val_loss: 0.9006 - val_acc: 0.5000\n",
            "Epoch 81/100\n",
            "38/38 [==============================] - 0s 342us/step - loss: 0.3017 - acc: 0.9474 - val_loss: 0.9045 - val_acc: 0.5000\n",
            "Epoch 82/100\n",
            "38/38 [==============================] - 0s 430us/step - loss: 0.2980 - acc: 0.9474 - val_loss: 0.9083 - val_acc: 0.5000\n",
            "Epoch 83/100\n",
            "38/38 [==============================] - 0s 601us/step - loss: 0.2944 - acc: 0.9474 - val_loss: 0.9120 - val_acc: 0.5000\n",
            "Epoch 84/100\n",
            "38/38 [==============================] - 0s 620us/step - loss: 0.2909 - acc: 0.9474 - val_loss: 0.9156 - val_acc: 0.5000\n",
            "Epoch 85/100\n",
            "38/38 [==============================] - 0s 377us/step - loss: 0.2875 - acc: 0.9474 - val_loss: 0.9193 - val_acc: 0.5000\n",
            "Epoch 86/100\n",
            "38/38 [==============================] - 0s 602us/step - loss: 0.2839 - acc: 0.9474 - val_loss: 0.9228 - val_acc: 0.5000\n",
            "Epoch 87/100\n",
            "38/38 [==============================] - 0s 415us/step - loss: 0.2807 - acc: 0.9474 - val_loss: 0.9262 - val_acc: 0.5000\n",
            "Epoch 88/100\n",
            "38/38 [==============================] - 0s 389us/step - loss: 0.2772 - acc: 0.9474 - val_loss: 0.9299 - val_acc: 0.5000\n",
            "Epoch 89/100\n",
            "38/38 [==============================] - 0s 375us/step - loss: 0.2738 - acc: 0.9474 - val_loss: 0.9334 - val_acc: 0.5000\n",
            "Epoch 90/100\n",
            "38/38 [==============================] - 0s 415us/step - loss: 0.2706 - acc: 0.9474 - val_loss: 0.9372 - val_acc: 0.5000\n",
            "Epoch 91/100\n",
            "38/38 [==============================] - 0s 458us/step - loss: 0.2671 - acc: 0.9474 - val_loss: 0.9407 - val_acc: 0.5000\n",
            "Epoch 92/100\n",
            "38/38 [==============================] - 0s 502us/step - loss: 0.2640 - acc: 0.9474 - val_loss: 0.9445 - val_acc: 0.5000\n",
            "Epoch 93/100\n",
            "38/38 [==============================] - 0s 422us/step - loss: 0.2608 - acc: 0.9474 - val_loss: 0.9483 - val_acc: 0.6000\n",
            "Epoch 94/100\n",
            "38/38 [==============================] - 0s 345us/step - loss: 0.2577 - acc: 0.9474 - val_loss: 0.9519 - val_acc: 0.6000\n",
            "Epoch 95/100\n",
            "38/38 [==============================] - 0s 376us/step - loss: 0.2543 - acc: 0.9474 - val_loss: 0.9561 - val_acc: 0.6000\n",
            "Epoch 96/100\n",
            "38/38 [==============================] - 0s 391us/step - loss: 0.2513 - acc: 0.9474 - val_loss: 0.9602 - val_acc: 0.6000\n",
            "Epoch 97/100\n",
            "38/38 [==============================] - 0s 437us/step - loss: 0.2485 - acc: 0.9737 - val_loss: 0.9644 - val_acc: 0.6000\n",
            "Epoch 98/100\n",
            "38/38 [==============================] - 0s 390us/step - loss: 0.2456 - acc: 0.9737 - val_loss: 0.9690 - val_acc: 0.6000\n",
            "Epoch 99/100\n",
            "38/38 [==============================] - 0s 324us/step - loss: 0.2425 - acc: 0.9737 - val_loss: 0.9733 - val_acc: 0.6000\n",
            "Epoch 100/100\n",
            "38/38 [==============================] - 0s 350us/step - loss: 0.2396 - acc: 0.9737 - val_loss: 0.9771 - val_acc: 0.6000\n"
          ],
          "name": "stdout"
        },
        {
          "output_type": "execute_result",
          "data": {
            "text/plain": [
              "<keras.callbacks.History at 0x7fce1df46588>"
            ]
          },
          "metadata": {
            "tags": []
          },
          "execution_count": 52
        }
      ]
    },
    {
      "cell_type": "code",
      "metadata": {
        "id": "a2fcujpXPlMu",
        "colab_type": "code",
        "outputId": "df174b87-10f0-4e60-85ec-434c4847c34c",
        "colab": {
          "base_uri": "https://localhost:8080/",
          "height": 34
        }
      },
      "source": [
        "#Evaluate the accuracy of the Keras model with #10-fold cross-validation\n",
        "scores = model.evaluate(x, y, verbose=0)\n",
        "print(\"%s: %.2f%%\" % (model.metrics_names[1], scores[1]*100))"
      ],
      "execution_count": 0,
      "outputs": [
        {
          "output_type": "stream",
          "text": [
            "acc: 91.67%\n"
          ],
          "name": "stdout"
        }
      ]
    },
    {
      "cell_type": "code",
      "metadata": {
        "id": "QjV0AFryPmMB",
        "colab_type": "code",
        "colab": {}
      },
      "source": [
        "#Save model and architecture to a single file\n",
        "model.save(\"DL_T-cells_21batch\")"
      ],
      "execution_count": 0,
      "outputs": []
    }
  ]
}