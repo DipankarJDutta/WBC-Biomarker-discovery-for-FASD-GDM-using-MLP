{
  "nbformat": 4,
  "nbformat_minor": 0,
  "metadata": {
    "colab": {
      "name": "MLP_T-cells_AS_EtOH-GDM_z-score_optimization algo_gridsearch.ipynb",
      "provenance": [],
      "collapsed_sections": [],
      "include_colab_link": true
    },
    "kernelspec": {
      "name": "python3",
      "display_name": "Python 3"
    },
    "accelerator": "TPU"
  },
  "cells": [
    {
      "cell_type": "markdown",
      "metadata": {
        "id": "view-in-github",
        "colab_type": "text"
      },
      "source": [
        "<a href=\"https://colab.research.google.com/github/DipankarJDutta/WBC-Biomarker-ID-for-FASD-GDM-/blob/Optimizing-number-of-neurons-in-hidden-layer/MLP_T_cells_AS_EtOH_GDM_z_score_optimal%20no%20of%20neurons%20in%20hidden%20layer%202_gridsearch.ipynb\" target=\"_parent\"><img src=\"https://colab.research.google.com/assets/colab-badge.svg\" alt=\"Open In Colab\"/></a>"
      ]
    },
    {
      "cell_type": "code",
      "metadata": {
        "id": "86TLkXaLMzkK",
        "colab_type": "code",
        "colab": {}
      },
      "source": [
        "#Loading essentials for batch size (Source: scikit-learn grid search)\n",
        "import numpy\n",
        "from numpy import loadtxt\n",
        "from sklearn.model_selection import GridSearchCV\n",
        "from keras.models import Sequential\n",
        "from keras.layers import Dense\n",
        "from keras.layers import Dropout\n",
        "from keras.wrappers.scikit_learn import KerasClassifier\n",
        "from keras.constraints import maxnorm"
      ],
      "execution_count": 0,
      "outputs": []
    },
    {
      "cell_type": "code",
      "metadata": {
        "id": "72EdN6digaMt",
        "colab_type": "code",
        "colab": {}
      },
      "source": [
        "# Fixing random seed for reproducibility\n",
        "from numpy.random import seed\n",
        "seed(7)\n",
        "from tensorflow import set_random_seed\n",
        "set_random_seed(7)"
      ],
      "execution_count": 0,
      "outputs": []
    },
    {
      "cell_type": "code",
      "metadata": {
        "id": "QL_LIVyLWKvA",
        "colab_type": "code",
        "colab": {}
      },
      "source": [
        "#Creating model required for KerasClassifier\n",
        "def create_model(neurons=1):\n",
        "    #create model\n",
        "    model = Sequential()\n",
        "    model.add(Dense(22, input_dim=25, activation='relu'))\n",
        "    model.add(Dense(neurons, activation='relu'))\n",
        "    model.add(Dense(1, activation='sigmoid'))\n",
        "    #compile model\n",
        "    model.compile(loss='binary_crossentropy', optimizer='adam', metrics=['accuracy'])\n",
        "    return model"
      ],
      "execution_count": 0,
      "outputs": []
    },
    {
      "cell_type": "code",
      "metadata": {
        "id": "cf2BdOONOrca",
        "colab_type": "code",
        "colab": {}
      },
      "source": [
        "#load z-scored inclevel values of significantly AS genes in T-cells common to EtOH & GDM datasets\n",
        "dataset = loadtxt ('z-score_T-cell.csv', delimiter = ',')"
      ],
      "execution_count": 0,
      "outputs": []
    },
    {
      "cell_type": "code",
      "metadata": {
        "id": "HYDe7ikEO-q0",
        "colab_type": "code",
        "colab": {}
      },
      "source": [
        "#split dataset into input and output variables (25 input, 1 output)\n",
        "x = dataset [:, 0:25]\n",
        "y = dataset [:, 25]"
      ],
      "execution_count": 0,
      "outputs": []
    },
    {
      "cell_type": "code",
      "metadata": {
        "id": "-Q3xyQYHXY4f",
        "colab_type": "code",
        "colab": {}
      },
      "source": [
        "#Create model for gridsearch\n",
        "model = KerasClassifier (build_fn=create_model, epochs=100, batch_size=21, verbose=0)"
      ],
      "execution_count": 0,
      "outputs": []
    },
    {
      "cell_type": "code",
      "metadata": {
        "id": "qt5dX1ylX6Hs",
        "colab_type": "code",
        "outputId": "32b9899c-f598-4e2c-f5f5-1732b0e00b19",
        "colab": {
          "base_uri": "https://localhost:8080/",
          "height": 105
        }
      },
      "source": [
        "#Define Grid Search parameters for optimal Batch size for input T-cell dataset with 47 samples\n",
        "neurons = [1, 2, 3, 4, 5, 6, 7, 8, 9, 10, 11, 12, 13, 14, 15, 16, 17, 18, 19, 20, 21, 22, 23, 24, 25]\n",
        "param_grid = dict(neurons=neurons)\n",
        "#Jobs are run in parallel with n_jobs=-1; 5-fold cross-validation\n",
        "grid = GridSearchCV(estimator=model, param_grid = param_grid, n_jobs=-1, cv=5)\n",
        "grid_result = grid.fit(x, y)"
      ],
      "execution_count": 19,
      "outputs": [
        {
          "output_type": "stream",
          "text": [
            "/usr/local/lib/python3.6/dist-packages/joblib/externals/loky/process_executor.py:706: UserWarning: A worker stopped while some jobs were given to the executor. This can be caused by a too short worker timeout or by a memory leak.\n",
            "  \"timeout or by a memory leak.\", UserWarning\n",
            "/usr/local/lib/python3.6/dist-packages/sklearn/model_selection/_search.py:814: DeprecationWarning: The default of the `iid` parameter will change from True to False in version 0.22 and will be removed in 0.24. This will change numeric results when test-set sizes are unequal.\n",
            "  DeprecationWarning)\n"
          ],
          "name": "stderr"
        }
      ]
    },
    {
      "cell_type": "code",
      "metadata": {
        "id": "CeK4D0Tje30X",
        "colab_type": "code",
        "outputId": "bd9cef00-9f4c-4e42-88c0-2872cadef7ed",
        "colab": {
          "base_uri": "https://localhost:8080/",
          "height": 459
        }
      },
      "source": [
        "#Summarize results\n",
        "print(\"Best: %f using %s\" % (grid_result.best_score_, grid_result.best_params_))\n",
        "means = grid_result.cv_results_['mean_test_score']\n",
        "stds = grid_result.cv_results_['std_test_score']\n",
        "params = grid_result.cv_results_['params']\n",
        "for mean, stdev, param in zip(means, stds, params):\n",
        "    print(\"%f (%f) with: %r\" % (mean, stdev, param))"
      ],
      "execution_count": 20,
      "outputs": [
        {
          "output_type": "stream",
          "text": [
            "Best: 0.666667 using {'neurons': 24}\n",
            "0.500000 (0.147510) with: {'neurons': 1}\n",
            "0.583333 (0.117851) with: {'neurons': 2}\n",
            "0.541667 (0.090651) with: {'neurons': 3}\n",
            "0.625000 (0.109185) with: {'neurons': 4}\n",
            "0.458333 (0.190334) with: {'neurons': 5}\n",
            "0.583333 (0.169422) with: {'neurons': 6}\n",
            "0.583333 (0.129993) with: {'neurons': 7}\n",
            "0.541667 (0.139858) with: {'neurons': 8}\n",
            "0.541667 (0.203840) with: {'neurons': 9}\n",
            "0.479167 (0.125577) with: {'neurons': 10}\n",
            "0.437500 (0.126496) with: {'neurons': 11}\n",
            "0.583333 (0.106502) with: {'neurons': 12}\n",
            "0.583333 (0.136083) with: {'neurons': 13}\n",
            "0.541667 (0.134801) with: {'neurons': 14}\n",
            "0.541667 (0.182257) with: {'neurons': 15}\n",
            "0.562500 (0.142013) with: {'neurons': 16}\n",
            "0.541667 (0.148682) with: {'neurons': 17}\n",
            "0.541667 (0.059900) with: {'neurons': 18}\n",
            "0.625000 (0.133073) with: {'neurons': 19}\n",
            "0.395833 (0.155251) with: {'neurons': 20}\n",
            "0.562500 (0.137878) with: {'neurons': 21}\n",
            "0.625000 (0.182257) with: {'neurons': 22}\n",
            "0.520833 (0.125577) with: {'neurons': 23}\n",
            "0.666667 (0.086066) with: {'neurons': 24}\n",
            "0.479167 (0.052978) with: {'neurons': 25}\n"
          ],
          "name": "stdout"
        }
      ]
    }
  ]
}