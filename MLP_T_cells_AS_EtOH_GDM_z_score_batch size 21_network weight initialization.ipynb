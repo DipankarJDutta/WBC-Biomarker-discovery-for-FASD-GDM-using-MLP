{
  "nbformat": 4,
  "nbformat_minor": 0,
  "metadata": {
    "colab": {
      "name": "MLP_T-cells_AS_EtOH-GDM_z-score.ipynb",
      "provenance": [],
      "collapsed_sections": [],
      "include_colab_link": true
    },
    "kernelspec": {
      "name": "python3",
      "display_name": "Python 3"
    },
    "accelerator": "TPU"
  },
  "cells": [
    {
      "cell_type": "markdown",
      "metadata": {
        "id": "view-in-github",
        "colab_type": "text"
      },
      "source": [
        "<a href=\"https://colab.research.google.com/github/DipankarJDutta/WBC-Biomarker-ID-for-FASD-GDM-/blob/Optimal-Network-Weight-Initialization-for-MLP-Model/MLP_T_cells_AS_EtOH_GDM_z_score_batch%20size%2021_network%20weight%20initialization.ipynb\" target=\"_parent\"><img src=\"https://colab.research.google.com/assets/colab-badge.svg\" alt=\"Open In Colab\"/></a>"
      ]
    },
    {
      "cell_type": "code",
      "metadata": {
        "id": "86TLkXaLMzkK",
        "colab_type": "code",
        "colab": {}
      },
      "source": [
        "#Loading essentials\n",
        "from numpy import loadtxt\n",
        "from keras.models import Sequential\n",
        "from keras.layers import Dense"
      ],
      "execution_count": 0,
      "outputs": []
    },
    {
      "cell_type": "code",
      "metadata": {
        "id": "cf2BdOONOrca",
        "colab_type": "code",
        "colab": {}
      },
      "source": [
        "#load z-scored inclevel values of significantly AS genes in T-cells common to EtOH & GDM datasets\n",
        "dataset = loadtxt ('z-score_T-cell.csv', delimiter = ',')"
      ],
      "execution_count": 0,
      "outputs": []
    },
    {
      "cell_type": "code",
      "metadata": {
        "id": "HYDe7ikEO-q0",
        "colab_type": "code",
        "colab": {}
      },
      "source": [
        "#split dataset into input and output variables (25 input, 1 output)\n",
        "x = dataset [:, 0:25]\n",
        "y = dataset [:, 25]"
      ],
      "execution_count": 0,
      "outputs": []
    },
    {
      "cell_type": "code",
      "metadata": {
        "id": "bIhgfFm9PDdS",
        "colab_type": "code",
        "colab": {}
      },
      "source": [
        "#define the keras DL model: Input layer: 25; 2 hidden layers; Hidden layer 1: 12 neurons; Hidden layer 2: 8 neurons; Output layer: 1\n",
        "model = Sequential ()\n",
        "model.add(Dense(12, input_dim=25, kernel_initializer='glorot_uniform', activation='relu'))\n",
        "model.add(Dense(8, kernel_initializer='glorot_uniform', activation='relu'))\n",
        "model.add(Dense(1, kernel_initializer='glorot_uniform', activation='sigmoid'))"
      ],
      "execution_count": 0,
      "outputs": []
    },
    {
      "cell_type": "code",
      "metadata": {
        "id": "7cdclkz3PQ52",
        "colab_type": "code",
        "colab": {}
      },
      "source": [
        "#compile the keras DL model \n",
        "model.compile(loss='binary_crossentropy', optimizer='adam', metrics=['accuracy'])"
      ],
      "execution_count": 0,
      "outputs": []
    },
    {
      "cell_type": "code",
      "metadata": {
        "id": "bIRDdz_RPc76",
        "colab_type": "code",
        "outputId": "f2eed5a2-170a-4684-c746-6b5339a9f09c",
        "colab": {
          "base_uri": "https://localhost:8080/",
          "height": 1000
        }
      },
      "source": [
        "#Train the model with an epoch of 100, a batch size of 21, a validation split of 80-20)\n",
        "model.fit(x, y, validation_split = 0.2, epochs=100, batch_size=21)"
      ],
      "execution_count": 90,
      "outputs": [
        {
          "output_type": "stream",
          "text": [
            "Train on 38 samples, validate on 10 samples\n",
            "Epoch 1/100\n",
            "38/38 [==============================] - 1s 23ms/step - loss: 0.6754 - acc: 0.5526 - val_loss: 0.6083 - val_acc: 0.8000\n",
            "Epoch 2/100\n",
            "38/38 [==============================] - 0s 166us/step - loss: 0.6672 - acc: 0.5526 - val_loss: 0.6117 - val_acc: 0.8000\n",
            "Epoch 3/100\n",
            "38/38 [==============================] - 0s 167us/step - loss: 0.6589 - acc: 0.5526 - val_loss: 0.6146 - val_acc: 0.7000\n",
            "Epoch 4/100\n",
            "38/38 [==============================] - 0s 350us/step - loss: 0.6513 - acc: 0.5526 - val_loss: 0.6175 - val_acc: 0.7000\n",
            "Epoch 5/100\n",
            "38/38 [==============================] - 0s 191us/step - loss: 0.6438 - acc: 0.5526 - val_loss: 0.6199 - val_acc: 0.7000\n",
            "Epoch 6/100\n",
            "38/38 [==============================] - 0s 204us/step - loss: 0.6370 - acc: 0.5526 - val_loss: 0.6224 - val_acc: 0.7000\n",
            "Epoch 7/100\n",
            "38/38 [==============================] - 0s 174us/step - loss: 0.6315 - acc: 0.5789 - val_loss: 0.6253 - val_acc: 0.7000\n",
            "Epoch 8/100\n",
            "38/38 [==============================] - 0s 177us/step - loss: 0.6252 - acc: 0.5789 - val_loss: 0.6280 - val_acc: 0.7000\n",
            "Epoch 9/100\n",
            "38/38 [==============================] - 0s 169us/step - loss: 0.6198 - acc: 0.5789 - val_loss: 0.6308 - val_acc: 0.7000\n",
            "Epoch 10/100\n",
            "38/38 [==============================] - 0s 183us/step - loss: 0.6136 - acc: 0.5789 - val_loss: 0.6333 - val_acc: 0.7000\n",
            "Epoch 11/100\n",
            "38/38 [==============================] - 0s 164us/step - loss: 0.6079 - acc: 0.5789 - val_loss: 0.6357 - val_acc: 0.7000\n",
            "Epoch 12/100\n",
            "38/38 [==============================] - 0s 168us/step - loss: 0.6023 - acc: 0.5789 - val_loss: 0.6380 - val_acc: 0.7000\n",
            "Epoch 13/100\n",
            "38/38 [==============================] - 0s 168us/step - loss: 0.5973 - acc: 0.5789 - val_loss: 0.6404 - val_acc: 0.7000\n",
            "Epoch 14/100\n",
            "38/38 [==============================] - 0s 324us/step - loss: 0.5925 - acc: 0.5789 - val_loss: 0.6423 - val_acc: 0.7000\n",
            "Epoch 15/100\n",
            "38/38 [==============================] - 0s 336us/step - loss: 0.5870 - acc: 0.5789 - val_loss: 0.6440 - val_acc: 0.7000\n",
            "Epoch 16/100\n",
            "38/38 [==============================] - 0s 256us/step - loss: 0.5826 - acc: 0.5789 - val_loss: 0.6457 - val_acc: 0.7000\n",
            "Epoch 17/100\n",
            "38/38 [==============================] - 0s 208us/step - loss: 0.5784 - acc: 0.6316 - val_loss: 0.6475 - val_acc: 0.7000\n",
            "Epoch 18/100\n",
            "38/38 [==============================] - 0s 177us/step - loss: 0.5736 - acc: 0.6316 - val_loss: 0.6488 - val_acc: 0.7000\n",
            "Epoch 19/100\n",
            "38/38 [==============================] - 0s 176us/step - loss: 0.5697 - acc: 0.6316 - val_loss: 0.6502 - val_acc: 0.7000\n",
            "Epoch 20/100\n",
            "38/38 [==============================] - 0s 177us/step - loss: 0.5658 - acc: 0.6316 - val_loss: 0.6513 - val_acc: 0.7000\n",
            "Epoch 21/100\n",
            "38/38 [==============================] - 0s 182us/step - loss: 0.5619 - acc: 0.6316 - val_loss: 0.6523 - val_acc: 0.7000\n",
            "Epoch 22/100\n",
            "38/38 [==============================] - 0s 166us/step - loss: 0.5580 - acc: 0.6579 - val_loss: 0.6534 - val_acc: 0.7000\n",
            "Epoch 23/100\n",
            "38/38 [==============================] - 0s 171us/step - loss: 0.5542 - acc: 0.6579 - val_loss: 0.6543 - val_acc: 0.7000\n",
            "Epoch 24/100\n",
            "38/38 [==============================] - 0s 171us/step - loss: 0.5502 - acc: 0.6842 - val_loss: 0.6554 - val_acc: 0.7000\n",
            "Epoch 25/100\n",
            "38/38 [==============================] - 0s 172us/step - loss: 0.5465 - acc: 0.7105 - val_loss: 0.6564 - val_acc: 0.7000\n",
            "Epoch 26/100\n",
            "38/38 [==============================] - 0s 193us/step - loss: 0.5426 - acc: 0.7105 - val_loss: 0.6576 - val_acc: 0.7000\n",
            "Epoch 27/100\n",
            "38/38 [==============================] - 0s 188us/step - loss: 0.5385 - acc: 0.7105 - val_loss: 0.6589 - val_acc: 0.7000\n",
            "Epoch 28/100\n",
            "38/38 [==============================] - 0s 176us/step - loss: 0.5345 - acc: 0.7368 - val_loss: 0.6602 - val_acc: 0.7000\n",
            "Epoch 29/100\n",
            "38/38 [==============================] - 0s 180us/step - loss: 0.5306 - acc: 0.7368 - val_loss: 0.6615 - val_acc: 0.6000\n",
            "Epoch 30/100\n",
            "38/38 [==============================] - 0s 205us/step - loss: 0.5268 - acc: 0.7368 - val_loss: 0.6627 - val_acc: 0.6000\n",
            "Epoch 31/100\n",
            "38/38 [==============================] - 0s 198us/step - loss: 0.5231 - acc: 0.7632 - val_loss: 0.6638 - val_acc: 0.6000\n",
            "Epoch 32/100\n",
            "38/38 [==============================] - 0s 179us/step - loss: 0.5195 - acc: 0.7632 - val_loss: 0.6648 - val_acc: 0.6000\n",
            "Epoch 33/100\n",
            "38/38 [==============================] - 0s 196us/step - loss: 0.5158 - acc: 0.7632 - val_loss: 0.6660 - val_acc: 0.6000\n",
            "Epoch 34/100\n",
            "38/38 [==============================] - 0s 186us/step - loss: 0.5123 - acc: 0.7632 - val_loss: 0.6671 - val_acc: 0.6000\n",
            "Epoch 35/100\n",
            "38/38 [==============================] - 0s 193us/step - loss: 0.5085 - acc: 0.7632 - val_loss: 0.6683 - val_acc: 0.6000\n",
            "Epoch 36/100\n",
            "38/38 [==============================] - 0s 183us/step - loss: 0.5050 - acc: 0.7632 - val_loss: 0.6692 - val_acc: 0.6000\n",
            "Epoch 37/100\n",
            "38/38 [==============================] - 0s 327us/step - loss: 0.5013 - acc: 0.7632 - val_loss: 0.6700 - val_acc: 0.6000\n",
            "Epoch 38/100\n",
            "38/38 [==============================] - 0s 199us/step - loss: 0.4976 - acc: 0.7895 - val_loss: 0.6711 - val_acc: 0.6000\n",
            "Epoch 39/100\n",
            "38/38 [==============================] - 0s 212us/step - loss: 0.4940 - acc: 0.7895 - val_loss: 0.6722 - val_acc: 0.6000\n",
            "Epoch 40/100\n",
            "38/38 [==============================] - 0s 204us/step - loss: 0.4905 - acc: 0.7895 - val_loss: 0.6732 - val_acc: 0.6000\n",
            "Epoch 41/100\n",
            "38/38 [==============================] - 0s 283us/step - loss: 0.4869 - acc: 0.7895 - val_loss: 0.6739 - val_acc: 0.6000\n",
            "Epoch 42/100\n",
            "38/38 [==============================] - 0s 198us/step - loss: 0.4832 - acc: 0.7895 - val_loss: 0.6745 - val_acc: 0.6000\n",
            "Epoch 43/100\n",
            "38/38 [==============================] - 0s 236us/step - loss: 0.4794 - acc: 0.7895 - val_loss: 0.6753 - val_acc: 0.6000\n",
            "Epoch 44/100\n",
            "38/38 [==============================] - 0s 271us/step - loss: 0.4756 - acc: 0.7895 - val_loss: 0.6761 - val_acc: 0.6000\n",
            "Epoch 45/100\n",
            "38/38 [==============================] - 0s 198us/step - loss: 0.4718 - acc: 0.8158 - val_loss: 0.6766 - val_acc: 0.6000\n",
            "Epoch 46/100\n",
            "38/38 [==============================] - 0s 236us/step - loss: 0.4681 - acc: 0.8158 - val_loss: 0.6773 - val_acc: 0.6000\n",
            "Epoch 47/100\n",
            "38/38 [==============================] - 0s 196us/step - loss: 0.4639 - acc: 0.8158 - val_loss: 0.6780 - val_acc: 0.6000\n",
            "Epoch 48/100\n",
            "38/38 [==============================] - 0s 186us/step - loss: 0.4601 - acc: 0.8158 - val_loss: 0.6789 - val_acc: 0.6000\n",
            "Epoch 49/100\n",
            "38/38 [==============================] - 0s 217us/step - loss: 0.4560 - acc: 0.8158 - val_loss: 0.6797 - val_acc: 0.6000\n",
            "Epoch 50/100\n",
            "38/38 [==============================] - 0s 195us/step - loss: 0.4521 - acc: 0.8158 - val_loss: 0.6803 - val_acc: 0.6000\n",
            "Epoch 51/100\n",
            "38/38 [==============================] - 0s 190us/step - loss: 0.4481 - acc: 0.8158 - val_loss: 0.6815 - val_acc: 0.6000\n",
            "Epoch 52/100\n",
            "38/38 [==============================] - 0s 288us/step - loss: 0.4441 - acc: 0.8158 - val_loss: 0.6825 - val_acc: 0.6000\n",
            "Epoch 53/100\n",
            "38/38 [==============================] - 0s 210us/step - loss: 0.4402 - acc: 0.8158 - val_loss: 0.6836 - val_acc: 0.6000\n",
            "Epoch 54/100\n",
            "38/38 [==============================] - 0s 214us/step - loss: 0.4364 - acc: 0.8421 - val_loss: 0.6847 - val_acc: 0.6000\n",
            "Epoch 55/100\n",
            "38/38 [==============================] - 0s 193us/step - loss: 0.4324 - acc: 0.8421 - val_loss: 0.6857 - val_acc: 0.6000\n",
            "Epoch 56/100\n",
            "38/38 [==============================] - 0s 178us/step - loss: 0.4284 - acc: 0.8684 - val_loss: 0.6868 - val_acc: 0.6000\n",
            "Epoch 57/100\n",
            "38/38 [==============================] - 0s 201us/step - loss: 0.4246 - acc: 0.8684 - val_loss: 0.6880 - val_acc: 0.6000\n",
            "Epoch 58/100\n",
            "38/38 [==============================] - 0s 208us/step - loss: 0.4207 - acc: 0.8684 - val_loss: 0.6892 - val_acc: 0.6000\n",
            "Epoch 59/100\n",
            "38/38 [==============================] - 0s 213us/step - loss: 0.4169 - acc: 0.8684 - val_loss: 0.6904 - val_acc: 0.6000\n",
            "Epoch 60/100\n",
            "38/38 [==============================] - 0s 215us/step - loss: 0.4134 - acc: 0.8684 - val_loss: 0.6919 - val_acc: 0.6000\n",
            "Epoch 61/100\n",
            "38/38 [==============================] - 0s 244us/step - loss: 0.4096 - acc: 0.8684 - val_loss: 0.6935 - val_acc: 0.6000\n",
            "Epoch 62/100\n",
            "38/38 [==============================] - 0s 288us/step - loss: 0.4060 - acc: 0.8684 - val_loss: 0.6949 - val_acc: 0.6000\n",
            "Epoch 63/100\n",
            "38/38 [==============================] - 0s 202us/step - loss: 0.4022 - acc: 0.8684 - val_loss: 0.6967 - val_acc: 0.6000\n",
            "Epoch 64/100\n",
            "38/38 [==============================] - 0s 225us/step - loss: 0.3987 - acc: 0.8684 - val_loss: 0.6986 - val_acc: 0.6000\n",
            "Epoch 65/100\n",
            "38/38 [==============================] - 0s 218us/step - loss: 0.3951 - acc: 0.8684 - val_loss: 0.7002 - val_acc: 0.6000\n",
            "Epoch 66/100\n",
            "38/38 [==============================] - 0s 193us/step - loss: 0.3914 - acc: 0.8947 - val_loss: 0.7020 - val_acc: 0.6000\n",
            "Epoch 67/100\n",
            "38/38 [==============================] - 0s 235us/step - loss: 0.3877 - acc: 0.8947 - val_loss: 0.7038 - val_acc: 0.6000\n",
            "Epoch 68/100\n",
            "38/38 [==============================] - 0s 244us/step - loss: 0.3842 - acc: 0.8947 - val_loss: 0.7058 - val_acc: 0.6000\n",
            "Epoch 69/100\n",
            "38/38 [==============================] - 0s 219us/step - loss: 0.3805 - acc: 0.9211 - val_loss: 0.7078 - val_acc: 0.6000\n",
            "Epoch 70/100\n",
            "38/38 [==============================] - 0s 297us/step - loss: 0.3769 - acc: 0.9211 - val_loss: 0.7098 - val_acc: 0.6000\n",
            "Epoch 71/100\n",
            "38/38 [==============================] - 0s 240us/step - loss: 0.3733 - acc: 0.9211 - val_loss: 0.7118 - val_acc: 0.6000\n",
            "Epoch 72/100\n",
            "38/38 [==============================] - 0s 187us/step - loss: 0.3697 - acc: 0.9211 - val_loss: 0.7140 - val_acc: 0.6000\n",
            "Epoch 73/100\n",
            "38/38 [==============================] - 0s 202us/step - loss: 0.3661 - acc: 0.9211 - val_loss: 0.7162 - val_acc: 0.6000\n",
            "Epoch 74/100\n",
            "38/38 [==============================] - 0s 196us/step - loss: 0.3625 - acc: 0.9211 - val_loss: 0.7185 - val_acc: 0.6000\n",
            "Epoch 75/100\n",
            "38/38 [==============================] - 0s 205us/step - loss: 0.3587 - acc: 0.9211 - val_loss: 0.7208 - val_acc: 0.6000\n",
            "Epoch 76/100\n",
            "38/38 [==============================] - 0s 225us/step - loss: 0.3553 - acc: 0.9211 - val_loss: 0.7232 - val_acc: 0.6000\n",
            "Epoch 77/100\n",
            "38/38 [==============================] - 0s 193us/step - loss: 0.3516 - acc: 0.9474 - val_loss: 0.7255 - val_acc: 0.6000\n",
            "Epoch 78/100\n",
            "38/38 [==============================] - 0s 182us/step - loss: 0.3480 - acc: 0.9474 - val_loss: 0.7278 - val_acc: 0.6000\n",
            "Epoch 79/100\n",
            "38/38 [==============================] - 0s 206us/step - loss: 0.3443 - acc: 0.9474 - val_loss: 0.7303 - val_acc: 0.6000\n",
            "Epoch 80/100\n",
            "38/38 [==============================] - 0s 340us/step - loss: 0.3408 - acc: 0.9474 - val_loss: 0.7328 - val_acc: 0.6000\n",
            "Epoch 81/100\n",
            "38/38 [==============================] - 0s 242us/step - loss: 0.3373 - acc: 0.9474 - val_loss: 0.7355 - val_acc: 0.6000\n",
            "Epoch 82/100\n",
            "38/38 [==============================] - 0s 210us/step - loss: 0.3335 - acc: 0.9474 - val_loss: 0.7377 - val_acc: 0.6000\n",
            "Epoch 83/100\n",
            "38/38 [==============================] - 0s 213us/step - loss: 0.3299 - acc: 0.9474 - val_loss: 0.7404 - val_acc: 0.6000\n",
            "Epoch 84/100\n",
            "38/38 [==============================] - 0s 212us/step - loss: 0.3263 - acc: 0.9474 - val_loss: 0.7429 - val_acc: 0.6000\n",
            "Epoch 85/100\n",
            "38/38 [==============================] - 0s 176us/step - loss: 0.3227 - acc: 0.9474 - val_loss: 0.7454 - val_acc: 0.6000\n",
            "Epoch 86/100\n",
            "38/38 [==============================] - 0s 184us/step - loss: 0.3190 - acc: 0.9474 - val_loss: 0.7481 - val_acc: 0.6000\n",
            "Epoch 87/100\n",
            "38/38 [==============================] - 0s 226us/step - loss: 0.3153 - acc: 0.9474 - val_loss: 0.7508 - val_acc: 0.6000\n",
            "Epoch 88/100\n",
            "38/38 [==============================] - 0s 230us/step - loss: 0.3115 - acc: 0.9474 - val_loss: 0.7536 - val_acc: 0.6000\n",
            "Epoch 89/100\n",
            "38/38 [==============================] - 0s 221us/step - loss: 0.3076 - acc: 0.9474 - val_loss: 0.7564 - val_acc: 0.6000\n",
            "Epoch 90/100\n",
            "38/38 [==============================] - 0s 217us/step - loss: 0.3037 - acc: 0.9474 - val_loss: 0.7592 - val_acc: 0.6000\n",
            "Epoch 91/100\n",
            "38/38 [==============================] - 0s 203us/step - loss: 0.3000 - acc: 0.9474 - val_loss: 0.7621 - val_acc: 0.6000\n",
            "Epoch 92/100\n",
            "38/38 [==============================] - 0s 200us/step - loss: 0.2959 - acc: 0.9474 - val_loss: 0.7649 - val_acc: 0.6000\n",
            "Epoch 93/100\n",
            "38/38 [==============================] - 0s 206us/step - loss: 0.2924 - acc: 0.9474 - val_loss: 0.7679 - val_acc: 0.6000\n",
            "Epoch 94/100\n",
            "38/38 [==============================] - 0s 207us/step - loss: 0.2882 - acc: 0.9474 - val_loss: 0.7710 - val_acc: 0.6000\n",
            "Epoch 95/100\n",
            "38/38 [==============================] - 0s 180us/step - loss: 0.2848 - acc: 0.9474 - val_loss: 0.7741 - val_acc: 0.6000\n",
            "Epoch 96/100\n",
            "38/38 [==============================] - 0s 170us/step - loss: 0.2806 - acc: 0.9474 - val_loss: 0.7772 - val_acc: 0.6000\n",
            "Epoch 97/100\n",
            "38/38 [==============================] - 0s 167us/step - loss: 0.2770 - acc: 0.9474 - val_loss: 0.7801 - val_acc: 0.6000\n",
            "Epoch 98/100\n",
            "38/38 [==============================] - 0s 167us/step - loss: 0.2732 - acc: 0.9474 - val_loss: 0.7830 - val_acc: 0.6000\n",
            "Epoch 99/100\n",
            "38/38 [==============================] - 0s 171us/step - loss: 0.2697 - acc: 0.9737 - val_loss: 0.7861 - val_acc: 0.6000\n",
            "Epoch 100/100\n",
            "38/38 [==============================] - 0s 187us/step - loss: 0.2656 - acc: 0.9737 - val_loss: 0.7892 - val_acc: 0.6000\n"
          ],
          "name": "stdout"
        },
        {
          "output_type": "execute_result",
          "data": {
            "text/plain": [
              "<keras.callbacks.History at 0x7f3c43237e10>"
            ]
          },
          "metadata": {
            "tags": []
          },
          "execution_count": 90
        }
      ]
    },
    {
      "cell_type": "code",
      "metadata": {
        "id": "a2fcujpXPlMu",
        "colab_type": "code",
        "outputId": "49f8991b-20fe-4af8-d837-ab60b1da4e3b",
        "colab": {
          "base_uri": "https://localhost:8080/",
          "height": 34
        }
      },
      "source": [
        "#Evaluate the accuracy of the Keras model with #10-fold cross-validation\n",
        "scores = model.evaluate(x, y, verbose=0)\n",
        "print(\"%s: %.2f%%\" % (model.metrics_names[1], scores[1]*100))"
      ],
      "execution_count": 91,
      "outputs": [
        {
          "output_type": "stream",
          "text": [
            "acc: 89.58%\n"
          ],
          "name": "stdout"
        }
      ]
    },
    {
      "cell_type": "code",
      "metadata": {
        "id": "QjV0AFryPmMB",
        "colab_type": "code",
        "colab": {}
      },
      "source": [
        "#Save model and architecture to a single file\n",
        "model.save(\"DL_T-cells_21batch\")"
      ],
      "execution_count": 0,
      "outputs": []
    }
  ]
}