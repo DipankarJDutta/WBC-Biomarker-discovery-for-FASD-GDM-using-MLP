{
  "nbformat": 4,
  "nbformat_minor": 0,
  "metadata": {
    "colab": {
      "name": "MLP_T-cells_AS_EtOH-GDM_z-score.ipynb",
      "provenance": [],
      "collapsed_sections": [],
      "include_colab_link": true
    },
    "kernelspec": {
      "name": "python3",
      "display_name": "Python 3"
    },
    "accelerator": "TPU"
  },
  "cells": [
    {
      "cell_type": "markdown",
      "metadata": {
        "id": "view-in-github",
        "colab_type": "text"
      },
      "source": [
        "<a href=\"https://colab.research.google.com/github/DipankarJDutta/WBC-Biomarker-ID-for-FASD-GDM-/blob/master/MLP_T_cells_AS_EtOH_GDM_z_score.ipynb\" target=\"_parent\"><img src=\"https://colab.research.google.com/assets/colab-badge.svg\" alt=\"Open In Colab\"/></a>"
      ]
    },
    {
      "cell_type": "code",
      "metadata": {
        "id": "86TLkXaLMzkK",
        "colab_type": "code",
        "colab": {}
      },
      "source": [
        "#Loading essentials\n",
        "from numpy import loadtxt\n",
        "from keras.models import Sequential\n",
        "from keras.layers import Dense"
      ],
      "execution_count": 0,
      "outputs": []
    },
    {
      "cell_type": "code",
      "metadata": {
        "id": "cf2BdOONOrca",
        "colab_type": "code",
        "colab": {}
      },
      "source": [
        "#load z-scored inclevel values of significantly AS genes in T-cells common to EtOH & GDM datasets\n",
        "dataset = loadtxt ('z-score_T-cell.csv', delimiter = ',')"
      ],
      "execution_count": 0,
      "outputs": []
    },
    {
      "cell_type": "code",
      "metadata": {
        "id": "HYDe7ikEO-q0",
        "colab_type": "code",
        "colab": {}
      },
      "source": [
        "#split dataset into input and output variables (25 input, 1 output)\n",
        "x = dataset [:, 0:25]\n",
        "y = dataset [:, 25]"
      ],
      "execution_count": 0,
      "outputs": []
    },
    {
      "cell_type": "code",
      "metadata": {
        "id": "bIhgfFm9PDdS",
        "colab_type": "code",
        "colab": {}
      },
      "source": [
        "#define the keras DL model: Input layer: 25; 2 hidden layers; Hidden layer 1: 12 neurons; Hidden layer 2: 8 neurons; Output layer: 1\n",
        "model = Sequential ()\n",
        "model.add(Dense(12, input_dim=25, activation='relu'))\n",
        "model.add(Dense(8, activation='relu'))\n",
        "model.add(Dense(1, activation='sigmoid'))"
      ],
      "execution_count": 0,
      "outputs": []
    },
    {
      "cell_type": "code",
      "metadata": {
        "id": "7cdclkz3PQ52",
        "colab_type": "code",
        "colab": {}
      },
      "source": [
        "#compile the keras DL model \n",
        "model.compile(loss='binary_crossentropy', optimizer='adam', metrics=['accuracy'])"
      ],
      "execution_count": 0,
      "outputs": []
    },
    {
      "cell_type": "code",
      "metadata": {
        "id": "bIRDdz_RPc76",
        "colab_type": "code",
        "colab": {
          "base_uri": "https://localhost:8080/",
          "height": 1000
        },
        "outputId": "16b129de-4da3-48ed-cd36-98f66769a71c"
      },
      "source": [
        "#Train the model with an epoch of 100, a batch size of 15, a validation split of 80-20)\n",
        "model.fit(x, y, validation_split = 0.2, epochs=100, batch_size=15)"
      ],
      "execution_count": 19,
      "outputs": [
        {
          "output_type": "stream",
          "text": [
            "Train on 38 samples, validate on 10 samples\n",
            "Epoch 1/100\n",
            "38/38 [==============================] - 0s 9ms/step - loss: 0.7503 - acc: 0.3947 - val_loss: 0.7994 - val_acc: 0.4000\n",
            "Epoch 2/100\n",
            "38/38 [==============================] - 0s 302us/step - loss: 0.7402 - acc: 0.3947 - val_loss: 0.7925 - val_acc: 0.4000\n",
            "Epoch 3/100\n",
            "38/38 [==============================] - 0s 269us/step - loss: 0.7298 - acc: 0.3947 - val_loss: 0.7870 - val_acc: 0.4000\n",
            "Epoch 4/100\n",
            "38/38 [==============================] - 0s 258us/step - loss: 0.7210 - acc: 0.4211 - val_loss: 0.7810 - val_acc: 0.4000\n",
            "Epoch 5/100\n",
            "38/38 [==============================] - 0s 362us/step - loss: 0.7124 - acc: 0.4474 - val_loss: 0.7755 - val_acc: 0.4000\n",
            "Epoch 6/100\n",
            "38/38 [==============================] - 0s 297us/step - loss: 0.7039 - acc: 0.4737 - val_loss: 0.7702 - val_acc: 0.4000\n",
            "Epoch 7/100\n",
            "38/38 [==============================] - 0s 300us/step - loss: 0.6953 - acc: 0.4737 - val_loss: 0.7651 - val_acc: 0.4000\n",
            "Epoch 8/100\n",
            "38/38 [==============================] - 0s 237us/step - loss: 0.6883 - acc: 0.4737 - val_loss: 0.7597 - val_acc: 0.4000\n",
            "Epoch 9/100\n",
            "38/38 [==============================] - 0s 302us/step - loss: 0.6822 - acc: 0.4737 - val_loss: 0.7546 - val_acc: 0.4000\n",
            "Epoch 10/100\n",
            "38/38 [==============================] - 0s 290us/step - loss: 0.6758 - acc: 0.5000 - val_loss: 0.7498 - val_acc: 0.4000\n",
            "Epoch 11/100\n",
            "38/38 [==============================] - 0s 278us/step - loss: 0.6708 - acc: 0.5000 - val_loss: 0.7450 - val_acc: 0.4000\n",
            "Epoch 12/100\n",
            "38/38 [==============================] - 0s 284us/step - loss: 0.6650 - acc: 0.5000 - val_loss: 0.7408 - val_acc: 0.4000\n",
            "Epoch 13/100\n",
            "38/38 [==============================] - 0s 357us/step - loss: 0.6602 - acc: 0.5526 - val_loss: 0.7367 - val_acc: 0.4000\n",
            "Epoch 14/100\n",
            "38/38 [==============================] - 0s 245us/step - loss: 0.6551 - acc: 0.5789 - val_loss: 0.7330 - val_acc: 0.4000\n",
            "Epoch 15/100\n",
            "38/38 [==============================] - 0s 274us/step - loss: 0.6503 - acc: 0.5789 - val_loss: 0.7300 - val_acc: 0.4000\n",
            "Epoch 16/100\n",
            "38/38 [==============================] - 0s 220us/step - loss: 0.6452 - acc: 0.6053 - val_loss: 0.7280 - val_acc: 0.4000\n",
            "Epoch 17/100\n",
            "38/38 [==============================] - 0s 263us/step - loss: 0.6407 - acc: 0.6053 - val_loss: 0.7256 - val_acc: 0.4000\n",
            "Epoch 18/100\n",
            "38/38 [==============================] - 0s 297us/step - loss: 0.6348 - acc: 0.6579 - val_loss: 0.7241 - val_acc: 0.4000\n",
            "Epoch 19/100\n",
            "38/38 [==============================] - 0s 285us/step - loss: 0.6298 - acc: 0.6579 - val_loss: 0.7222 - val_acc: 0.4000\n",
            "Epoch 20/100\n",
            "38/38 [==============================] - 0s 242us/step - loss: 0.6240 - acc: 0.6842 - val_loss: 0.7208 - val_acc: 0.4000\n",
            "Epoch 21/100\n",
            "38/38 [==============================] - 0s 450us/step - loss: 0.6182 - acc: 0.7105 - val_loss: 0.7190 - val_acc: 0.4000\n",
            "Epoch 22/100\n",
            "38/38 [==============================] - 0s 238us/step - loss: 0.6130 - acc: 0.7105 - val_loss: 0.7174 - val_acc: 0.4000\n",
            "Epoch 23/100\n",
            "38/38 [==============================] - 0s 247us/step - loss: 0.6072 - acc: 0.7368 - val_loss: 0.7161 - val_acc: 0.4000\n",
            "Epoch 24/100\n",
            "38/38 [==============================] - 0s 267us/step - loss: 0.6014 - acc: 0.7368 - val_loss: 0.7145 - val_acc: 0.3000\n",
            "Epoch 25/100\n",
            "38/38 [==============================] - 0s 254us/step - loss: 0.5959 - acc: 0.7895 - val_loss: 0.7125 - val_acc: 0.3000\n",
            "Epoch 26/100\n",
            "38/38 [==============================] - 0s 231us/step - loss: 0.5906 - acc: 0.8158 - val_loss: 0.7107 - val_acc: 0.4000\n",
            "Epoch 27/100\n",
            "38/38 [==============================] - 0s 272us/step - loss: 0.5848 - acc: 0.8158 - val_loss: 0.7090 - val_acc: 0.4000\n",
            "Epoch 28/100\n",
            "38/38 [==============================] - 0s 252us/step - loss: 0.5798 - acc: 0.8158 - val_loss: 0.7071 - val_acc: 0.5000\n",
            "Epoch 29/100\n",
            "38/38 [==============================] - 0s 272us/step - loss: 0.5740 - acc: 0.8158 - val_loss: 0.7053 - val_acc: 0.5000\n",
            "Epoch 30/100\n",
            "38/38 [==============================] - 0s 232us/step - loss: 0.5683 - acc: 0.8158 - val_loss: 0.7035 - val_acc: 0.5000\n",
            "Epoch 31/100\n",
            "38/38 [==============================] - 0s 250us/step - loss: 0.5628 - acc: 0.8158 - val_loss: 0.7016 - val_acc: 0.5000\n",
            "Epoch 32/100\n",
            "38/38 [==============================] - 0s 252us/step - loss: 0.5571 - acc: 0.8158 - val_loss: 0.7001 - val_acc: 0.6000\n",
            "Epoch 33/100\n",
            "38/38 [==============================] - 0s 321us/step - loss: 0.5516 - acc: 0.8158 - val_loss: 0.6988 - val_acc: 0.6000\n",
            "Epoch 34/100\n",
            "38/38 [==============================] - 0s 272us/step - loss: 0.5463 - acc: 0.8158 - val_loss: 0.6969 - val_acc: 0.6000\n",
            "Epoch 35/100\n",
            "38/38 [==============================] - 0s 262us/step - loss: 0.5408 - acc: 0.8158 - val_loss: 0.6955 - val_acc: 0.6000\n",
            "Epoch 36/100\n",
            "38/38 [==============================] - 0s 245us/step - loss: 0.5353 - acc: 0.8158 - val_loss: 0.6949 - val_acc: 0.6000\n",
            "Epoch 37/100\n",
            "38/38 [==============================] - 0s 372us/step - loss: 0.5295 - acc: 0.8158 - val_loss: 0.6941 - val_acc: 0.6000\n",
            "Epoch 38/100\n",
            "38/38 [==============================] - 0s 246us/step - loss: 0.5242 - acc: 0.8158 - val_loss: 0.6932 - val_acc: 0.6000\n",
            "Epoch 39/100\n",
            "38/38 [==============================] - 0s 213us/step - loss: 0.5188 - acc: 0.8158 - val_loss: 0.6918 - val_acc: 0.6000\n",
            "Epoch 40/100\n",
            "38/38 [==============================] - 0s 220us/step - loss: 0.5130 - acc: 0.8158 - val_loss: 0.6916 - val_acc: 0.6000\n",
            "Epoch 41/100\n",
            "38/38 [==============================] - 0s 293us/step - loss: 0.5078 - acc: 0.8421 - val_loss: 0.6913 - val_acc: 0.6000\n",
            "Epoch 42/100\n",
            "38/38 [==============================] - 0s 297us/step - loss: 0.5029 - acc: 0.8421 - val_loss: 0.6910 - val_acc: 0.6000\n",
            "Epoch 43/100\n",
            "38/38 [==============================] - 0s 285us/step - loss: 0.4976 - acc: 0.8421 - val_loss: 0.6910 - val_acc: 0.6000\n",
            "Epoch 44/100\n",
            "38/38 [==============================] - 0s 332us/step - loss: 0.4922 - acc: 0.8421 - val_loss: 0.6915 - val_acc: 0.6000\n",
            "Epoch 45/100\n",
            "38/38 [==============================] - 0s 413us/step - loss: 0.4865 - acc: 0.8421 - val_loss: 0.6917 - val_acc: 0.6000\n",
            "Epoch 46/100\n",
            "38/38 [==============================] - 0s 283us/step - loss: 0.4813 - acc: 0.8421 - val_loss: 0.6909 - val_acc: 0.6000\n",
            "Epoch 47/100\n",
            "38/38 [==============================] - 0s 271us/step - loss: 0.4757 - acc: 0.8421 - val_loss: 0.6907 - val_acc: 0.6000\n",
            "Epoch 48/100\n",
            "38/38 [==============================] - 0s 267us/step - loss: 0.4699 - acc: 0.8947 - val_loss: 0.6903 - val_acc: 0.6000\n",
            "Epoch 49/100\n",
            "38/38 [==============================] - 0s 217us/step - loss: 0.4648 - acc: 0.8947 - val_loss: 0.6898 - val_acc: 0.6000\n",
            "Epoch 50/100\n",
            "38/38 [==============================] - 0s 248us/step - loss: 0.4590 - acc: 0.8947 - val_loss: 0.6901 - val_acc: 0.6000\n",
            "Epoch 51/100\n",
            "38/38 [==============================] - 0s 268us/step - loss: 0.4534 - acc: 0.8947 - val_loss: 0.6905 - val_acc: 0.6000\n",
            "Epoch 52/100\n",
            "38/38 [==============================] - 0s 387us/step - loss: 0.4476 - acc: 0.8947 - val_loss: 0.6911 - val_acc: 0.6000\n",
            "Epoch 53/100\n",
            "38/38 [==============================] - 0s 272us/step - loss: 0.4417 - acc: 0.8947 - val_loss: 0.6923 - val_acc: 0.6000\n",
            "Epoch 54/100\n",
            "38/38 [==============================] - 0s 229us/step - loss: 0.4355 - acc: 0.8947 - val_loss: 0.6941 - val_acc: 0.6000\n",
            "Epoch 55/100\n",
            "38/38 [==============================] - 0s 285us/step - loss: 0.4296 - acc: 0.8947 - val_loss: 0.6960 - val_acc: 0.6000\n",
            "Epoch 56/100\n",
            "38/38 [==============================] - 0s 243us/step - loss: 0.4237 - acc: 0.8947 - val_loss: 0.6973 - val_acc: 0.6000\n",
            "Epoch 57/100\n",
            "38/38 [==============================] - 0s 236us/step - loss: 0.4172 - acc: 0.9211 - val_loss: 0.6988 - val_acc: 0.6000\n",
            "Epoch 58/100\n",
            "38/38 [==============================] - 0s 239us/step - loss: 0.4105 - acc: 0.9211 - val_loss: 0.7005 - val_acc: 0.6000\n",
            "Epoch 59/100\n",
            "38/38 [==============================] - 0s 285us/step - loss: 0.4046 - acc: 0.9211 - val_loss: 0.7023 - val_acc: 0.6000\n",
            "Epoch 60/100\n",
            "38/38 [==============================] - 0s 319us/step - loss: 0.3980 - acc: 0.9211 - val_loss: 0.7037 - val_acc: 0.6000\n",
            "Epoch 61/100\n",
            "38/38 [==============================] - 0s 349us/step - loss: 0.3918 - acc: 0.9474 - val_loss: 0.7049 - val_acc: 0.6000\n",
            "Epoch 62/100\n",
            "38/38 [==============================] - 0s 263us/step - loss: 0.3852 - acc: 0.9474 - val_loss: 0.7066 - val_acc: 0.6000\n",
            "Epoch 63/100\n",
            "38/38 [==============================] - 0s 276us/step - loss: 0.3791 - acc: 0.9474 - val_loss: 0.7079 - val_acc: 0.6000\n",
            "Epoch 64/100\n",
            "38/38 [==============================] - 0s 258us/step - loss: 0.3735 - acc: 0.9474 - val_loss: 0.7090 - val_acc: 0.6000\n",
            "Epoch 65/100\n",
            "38/38 [==============================] - 0s 264us/step - loss: 0.3675 - acc: 0.9474 - val_loss: 0.7105 - val_acc: 0.6000\n",
            "Epoch 66/100\n",
            "38/38 [==============================] - 0s 301us/step - loss: 0.3621 - acc: 0.9474 - val_loss: 0.7116 - val_acc: 0.6000\n",
            "Epoch 67/100\n",
            "38/38 [==============================] - 0s 300us/step - loss: 0.3568 - acc: 0.9474 - val_loss: 0.7127 - val_acc: 0.6000\n",
            "Epoch 68/100\n",
            "38/38 [==============================] - 0s 274us/step - loss: 0.3517 - acc: 0.9474 - val_loss: 0.7134 - val_acc: 0.6000\n",
            "Epoch 69/100\n",
            "38/38 [==============================] - 0s 241us/step - loss: 0.3466 - acc: 0.9474 - val_loss: 0.7145 - val_acc: 0.6000\n",
            "Epoch 70/100\n",
            "38/38 [==============================] - 0s 251us/step - loss: 0.3417 - acc: 0.9474 - val_loss: 0.7159 - val_acc: 0.6000\n",
            "Epoch 71/100\n",
            "38/38 [==============================] - 0s 225us/step - loss: 0.3368 - acc: 0.9474 - val_loss: 0.7178 - val_acc: 0.6000\n",
            "Epoch 72/100\n",
            "38/38 [==============================] - 0s 267us/step - loss: 0.3321 - acc: 0.9474 - val_loss: 0.7193 - val_acc: 0.7000\n",
            "Epoch 73/100\n",
            "38/38 [==============================] - 0s 256us/step - loss: 0.3270 - acc: 0.9474 - val_loss: 0.7199 - val_acc: 0.7000\n",
            "Epoch 74/100\n",
            "38/38 [==============================] - 0s 311us/step - loss: 0.3229 - acc: 0.9474 - val_loss: 0.7209 - val_acc: 0.6000\n",
            "Epoch 75/100\n",
            "38/38 [==============================] - 0s 520us/step - loss: 0.3181 - acc: 0.9474 - val_loss: 0.7220 - val_acc: 0.6000\n",
            "Epoch 76/100\n",
            "38/38 [==============================] - 0s 295us/step - loss: 0.3137 - acc: 0.9474 - val_loss: 0.7233 - val_acc: 0.6000\n",
            "Epoch 77/100\n",
            "38/38 [==============================] - 0s 335us/step - loss: 0.3092 - acc: 0.9474 - val_loss: 0.7250 - val_acc: 0.6000\n",
            "Epoch 78/100\n",
            "38/38 [==============================] - 0s 303us/step - loss: 0.3048 - acc: 0.9474 - val_loss: 0.7267 - val_acc: 0.6000\n",
            "Epoch 79/100\n",
            "38/38 [==============================] - 0s 256us/step - loss: 0.3005 - acc: 0.9474 - val_loss: 0.7284 - val_acc: 0.6000\n",
            "Epoch 80/100\n",
            "38/38 [==============================] - 0s 274us/step - loss: 0.2961 - acc: 0.9474 - val_loss: 0.7297 - val_acc: 0.6000\n",
            "Epoch 81/100\n",
            "38/38 [==============================] - 0s 263us/step - loss: 0.2921 - acc: 0.9474 - val_loss: 0.7310 - val_acc: 0.6000\n",
            "Epoch 82/100\n",
            "38/38 [==============================] - 0s 312us/step - loss: 0.2880 - acc: 0.9474 - val_loss: 0.7327 - val_acc: 0.6000\n",
            "Epoch 83/100\n",
            "38/38 [==============================] - 0s 304us/step - loss: 0.2839 - acc: 0.9474 - val_loss: 0.7349 - val_acc: 0.6000\n",
            "Epoch 84/100\n",
            "38/38 [==============================] - 0s 242us/step - loss: 0.2798 - acc: 0.9474 - val_loss: 0.7362 - val_acc: 0.6000\n",
            "Epoch 85/100\n",
            "38/38 [==============================] - 0s 242us/step - loss: 0.2754 - acc: 0.9737 - val_loss: 0.7368 - val_acc: 0.6000\n",
            "Epoch 86/100\n",
            "38/38 [==============================] - 0s 267us/step - loss: 0.2714 - acc: 0.9737 - val_loss: 0.7374 - val_acc: 0.6000\n",
            "Epoch 87/100\n",
            "38/38 [==============================] - 0s 239us/step - loss: 0.2672 - acc: 0.9737 - val_loss: 0.7390 - val_acc: 0.6000\n",
            "Epoch 88/100\n",
            "38/38 [==============================] - 0s 256us/step - loss: 0.2631 - acc: 0.9737 - val_loss: 0.7404 - val_acc: 0.6000\n",
            "Epoch 89/100\n",
            "38/38 [==============================] - 0s 262us/step - loss: 0.2591 - acc: 0.9737 - val_loss: 0.7408 - val_acc: 0.6000\n",
            "Epoch 90/100\n",
            "38/38 [==============================] - 0s 245us/step - loss: 0.2554 - acc: 0.9737 - val_loss: 0.7412 - val_acc: 0.6000\n",
            "Epoch 91/100\n",
            "38/38 [==============================] - 0s 305us/step - loss: 0.2510 - acc: 0.9737 - val_loss: 0.7416 - val_acc: 0.6000\n",
            "Epoch 92/100\n",
            "38/38 [==============================] - 0s 233us/step - loss: 0.2472 - acc: 0.9737 - val_loss: 0.7419 - val_acc: 0.6000\n",
            "Epoch 93/100\n",
            "38/38 [==============================] - 0s 258us/step - loss: 0.2432 - acc: 0.9737 - val_loss: 0.7421 - val_acc: 0.6000\n",
            "Epoch 94/100\n",
            "38/38 [==============================] - 0s 264us/step - loss: 0.2395 - acc: 0.9737 - val_loss: 0.7428 - val_acc: 0.6000\n",
            "Epoch 95/100\n",
            "38/38 [==============================] - 0s 324us/step - loss: 0.2359 - acc: 0.9737 - val_loss: 0.7437 - val_acc: 0.6000\n",
            "Epoch 96/100\n",
            "38/38 [==============================] - 0s 245us/step - loss: 0.2322 - acc: 0.9737 - val_loss: 0.7444 - val_acc: 0.6000\n",
            "Epoch 97/100\n",
            "38/38 [==============================] - 0s 253us/step - loss: 0.2286 - acc: 0.9737 - val_loss: 0.7457 - val_acc: 0.6000\n",
            "Epoch 98/100\n",
            "38/38 [==============================] - 0s 336us/step - loss: 0.2249 - acc: 0.9737 - val_loss: 0.7472 - val_acc: 0.6000\n",
            "Epoch 99/100\n",
            "38/38 [==============================] - 0s 275us/step - loss: 0.2217 - acc: 0.9737 - val_loss: 0.7489 - val_acc: 0.6000\n",
            "Epoch 100/100\n",
            "38/38 [==============================] - 0s 252us/step - loss: 0.2184 - acc: 0.9737 - val_loss: 0.7508 - val_acc: 0.6000\n"
          ],
          "name": "stdout"
        },
        {
          "output_type": "execute_result",
          "data": {
            "text/plain": [
              "<keras.callbacks.History at 0x7fe4bb9c5c50>"
            ]
          },
          "metadata": {
            "tags": []
          },
          "execution_count": 19
        }
      ]
    },
    {
      "cell_type": "code",
      "metadata": {
        "id": "a2fcujpXPlMu",
        "colab_type": "code",
        "colab": {
          "base_uri": "https://localhost:8080/",
          "height": 34
        },
        "outputId": "90872ba7-bd35-45cc-d4cf-42b7c0700097"
      },
      "source": [
        "#Evaluate the accuracy of the Keras model with #10-fold cross-validation\n",
        "scores = model.evaluate(x, y, verbose=0)\n",
        "print(\"%s: %.2f%%\" % (model.metrics_names[1], scores[1]*100))"
      ],
      "execution_count": 20,
      "outputs": [
        {
          "output_type": "stream",
          "text": [
            "acc: 89.58%\n"
          ],
          "name": "stdout"
        }
      ]
    },
    {
      "cell_type": "code",
      "metadata": {
        "id": "QjV0AFryPmMB",
        "colab_type": "code",
        "colab": {}
      },
      "source": [
        "#Save model and architecture to a single file\n",
        "model.save(\"DL_T-cells\")"
      ],
      "execution_count": 0,
      "outputs": []
    },
    {
      "cell_type": "code",
      "metadata": {
        "id": "Ao4R2KGaR9-r",
        "colab_type": "code",
        "colab": {
          "base_uri": "https://localhost:8080/",
          "height": 122
        },
        "outputId": "d720a706-5a92-4ec8-d5d8-45e0a696ea3e"
      },
      "source": [
        "from google.colab import drive\n",
        "drive.mount('/content/drive')"
      ],
      "execution_count": 22,
      "outputs": [
        {
          "output_type": "stream",
          "text": [
            "Go to this URL in a browser: https://accounts.google.com/o/oauth2/auth?client_id=947318989803-6bn6qk8qdgf4n4g3pfee6491hc0brc4i.apps.googleusercontent.com&redirect_uri=urn%3aietf%3awg%3aoauth%3a2.0%3aoob&response_type=code&scope=email%20https%3a%2f%2fwww.googleapis.com%2fauth%2fdocs.test%20https%3a%2f%2fwww.googleapis.com%2fauth%2fdrive%20https%3a%2f%2fwww.googleapis.com%2fauth%2fdrive.photos.readonly%20https%3a%2f%2fwww.googleapis.com%2fauth%2fpeopleapi.readonly\n",
            "\n",
            "Enter your authorization code:\n",
            "··········\n",
            "Mounted at /content/drive\n"
          ],
          "name": "stdout"
        }
      ]
    }
  ]
}