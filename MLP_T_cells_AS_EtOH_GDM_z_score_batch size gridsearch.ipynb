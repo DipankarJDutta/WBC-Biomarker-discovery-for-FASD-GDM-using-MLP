{
  "nbformat": 4,
  "nbformat_minor": 0,
  "metadata": {
    "colab": {
      "name": "MLP_T-cells_AS_EtOH-GDM_z-score.ipynb",
      "provenance": [],
      "collapsed_sections": [],
      "include_colab_link": true
    },
    "kernelspec": {
      "name": "python3",
      "display_name": "Python 3"
    },
    "accelerator": "TPU"
  },
  "cells": [
    {
      "cell_type": "markdown",
      "metadata": {
        "id": "view-in-github",
        "colab_type": "text"
      },
      "source": [
        "<a href=\"https://colab.research.google.com/github/DipankarJDutta/WBC-Biomarker-ID-for-FASD-GDM-/blob/Optimal-Batch-Size-for-MLP-model/MLP_T_cells_AS_EtOH_GDM_z_score_batch%20size%20gridsearch.ipynb\" target=\"_parent\"><img src=\"https://colab.research.google.com/assets/colab-badge.svg\" alt=\"Open In Colab\"/></a>"
      ]
    },
    {
      "cell_type": "code",
      "metadata": {
        "id": "86TLkXaLMzkK",
        "colab_type": "code",
        "colab": {}
      },
      "source": [
        "#Loading essentials for batch size (Source: scikit-learn grid search)\n",
        "from numpy import loadtxt\n",
        "from sklearn.model_selection import GridSearchCV\n",
        "from keras.models import Sequential\n",
        "from keras.layers import Dense\n",
        "from keras.wrappers.scikit_learn import KerasClassifier"
      ],
      "execution_count": 0,
      "outputs": []
    },
    {
      "cell_type": "code",
      "metadata": {
        "id": "72EdN6digaMt",
        "colab_type": "code",
        "colab": {}
      },
      "source": [
        "# Fixing random seed for reproducibility\n",
        "from numpy.random import seed\n",
        "seed(7)\n",
        "from tensorflow import set_random_seed\n",
        "set_random_seed(7)"
      ],
      "execution_count": 0,
      "outputs": []
    },
    {
      "cell_type": "code",
      "metadata": {
        "id": "QL_LIVyLWKvA",
        "colab_type": "code",
        "colab": {}
      },
      "source": [
        "#Creating model required for KerasClassifier\n",
        "def create_model():\n",
        "    #create model\n",
        "    model = Sequential()\n",
        "    model.add(Dense(12, input_dim=25, activation='relu'))\n",
        "    model.add(Dense(8, activation='relu'))\n",
        "    model.add(Dense(1, activation='sigmoid'))\n",
        "    #compile model\n",
        "    model.compile(loss='binary_crossentropy', optimizer='adam', metrics=['accuracy'])\n",
        "    return model"
      ],
      "execution_count": 0,
      "outputs": []
    },
    {
      "cell_type": "code",
      "metadata": {
        "id": "cf2BdOONOrca",
        "colab_type": "code",
        "colab": {}
      },
      "source": [
        "#load z-scored inclevel values of significantly AS genes in T-cells common to EtOH & GDM datasets\n",
        "dataset = loadtxt ('z-score_T-cell.csv', delimiter = ',')"
      ],
      "execution_count": 0,
      "outputs": []
    },
    {
      "cell_type": "code",
      "metadata": {
        "id": "HYDe7ikEO-q0",
        "colab_type": "code",
        "colab": {}
      },
      "source": [
        "#split dataset into input and output variables (25 input, 1 output)\n",
        "x = dataset [:, 0:25]\n",
        "y = dataset [:, 25]"
      ],
      "execution_count": 0,
      "outputs": []
    },
    {
      "cell_type": "code",
      "metadata": {
        "id": "-Q3xyQYHXY4f",
        "colab_type": "code",
        "colab": {}
      },
      "source": [
        "#Create model for gridsearch\n",
        "model = KerasClassifier (build_fn=create_model, epochs=100, verbose=0)"
      ],
      "execution_count": 0,
      "outputs": []
    },
    {
      "cell_type": "code",
      "metadata": {
        "id": "qt5dX1ylX6Hs",
        "colab_type": "code",
        "outputId": "e2ef1b77-b90f-4048-d25e-fdb2bbe1f724",
        "colab": {
          "base_uri": "https://localhost:8080/",
          "height": 105
        }
      },
      "source": [
        "#Define Grid Search parameters for optimal Batch size for input T-cell dataset with 47 samples\n",
        "batch_size = [1,2,3,4,5,6,7,8,9,10,11,12,13,14,15,16,17,18,19,20,21,22,23,24,25,26,27,28,29,30,31,32,33,34,35,36,37,38,39,40,41,42,43,44,45,46,47]\n",
        "param_grid = dict(batch_size = batch_size)\n",
        "#Jobs are run in parallel with n_jobs=-1; 5-fold cross-validation\n",
        "grid = GridSearchCV(estimator=model, param_grid = param_grid, n_jobs=-1, cv=5)\n",
        "grid_result = grid.fit(x, y)"
      ],
      "execution_count": 22,
      "outputs": [
        {
          "output_type": "stream",
          "text": [
            "/usr/local/lib/python3.6/dist-packages/joblib/externals/loky/process_executor.py:706: UserWarning: A worker stopped while some jobs were given to the executor. This can be caused by a too short worker timeout or by a memory leak.\n",
            "  \"timeout or by a memory leak.\", UserWarning\n",
            "/usr/local/lib/python3.6/dist-packages/sklearn/model_selection/_search.py:814: DeprecationWarning: The default of the `iid` parameter will change from True to False in version 0.22 and will be removed in 0.24. This will change numeric results when test-set sizes are unequal.\n",
            "  DeprecationWarning)\n"
          ],
          "name": "stderr"
        }
      ]
    },
    {
      "cell_type": "code",
      "metadata": {
        "id": "CeK4D0Tje30X",
        "colab_type": "code",
        "outputId": "36199341-a812-4f9f-c8cf-7880a43127a5",
        "colab": {
          "base_uri": "https://localhost:8080/",
          "height": 833
        }
      },
      "source": [
        "#Summarize results\n",
        "print(\"Best: %f using %s\" % (grid_result.best_score_, grid_result.best_params_))\n",
        "means = grid_result.cv_results_['mean_test_score']\n",
        "stds = grid_result.cv_results_['std_test_score']\n",
        "params = grid_result.cv_results_['params']\n",
        "for mean, stdev, param in zip(means, stds, params):\n",
        "    print(\"%f (%f) with: %r\" % (mean, stdev, param))"
      ],
      "execution_count": 23,
      "outputs": [
        {
          "output_type": "stream",
          "text": [
            "Best: 0.645833 using {'batch_size': 10}\n",
            "0.604167 (0.104444) with: {'batch_size': 1}\n",
            "0.520833 (0.086234) with: {'batch_size': 2}\n",
            "0.520833 (0.139547) with: {'batch_size': 3}\n",
            "0.562500 (0.119920) with: {'batch_size': 4}\n",
            "0.583333 (0.074536) with: {'batch_size': 5}\n",
            "0.604167 (0.186417) with: {'batch_size': 6}\n",
            "0.541667 (0.142319) with: {'batch_size': 7}\n",
            "0.520833 (0.166753) with: {'batch_size': 8}\n",
            "0.562500 (0.194915) with: {'batch_size': 9}\n",
            "0.645833 (0.146032) with: {'batch_size': 10}\n",
            "0.604167 (0.174884) with: {'batch_size': 11}\n",
            "0.500000 (0.138611) with: {'batch_size': 12}\n",
            "0.562500 (0.146822) with: {'batch_size': 13}\n",
            "0.500000 (0.116865) with: {'batch_size': 14}\n",
            "0.479167 (0.097569) with: {'batch_size': 15}\n",
            "0.541667 (0.206099) with: {'batch_size': 16}\n",
            "0.625000 (0.139028) with: {'batch_size': 17}\n",
            "0.541667 (0.229482) with: {'batch_size': 18}\n",
            "0.583333 (0.122663) with: {'batch_size': 19}\n",
            "0.500000 (0.173472) with: {'batch_size': 20}\n",
            "0.437500 (0.142013) with: {'batch_size': 21}\n",
            "0.479167 (0.052978) with: {'batch_size': 22}\n",
            "0.458333 (0.113346) with: {'batch_size': 23}\n",
            "0.562500 (0.213614) with: {'batch_size': 24}\n",
            "0.604167 (0.169507) with: {'batch_size': 25}\n",
            "0.520833 (0.261816) with: {'batch_size': 26}\n",
            "0.541667 (0.191546) with: {'batch_size': 27}\n",
            "0.562500 (0.153753) with: {'batch_size': 28}\n",
            "0.562500 (0.183916) with: {'batch_size': 29}\n",
            "0.645833 (0.093943) with: {'batch_size': 30}\n",
            "0.562500 (0.134479) with: {'batch_size': 31}\n",
            "0.458333 (0.101493) with: {'batch_size': 32}\n",
            "0.479167 (0.174884) with: {'batch_size': 33}\n",
            "0.500000 (0.174138) with: {'batch_size': 34}\n",
            "0.541667 (0.226946) with: {'batch_size': 35}\n",
            "0.500000 (0.174138) with: {'batch_size': 36}\n",
            "0.437500 (0.077765) with: {'batch_size': 37}\n",
            "0.583333 (0.143533) with: {'batch_size': 38}\n",
            "0.604167 (0.091445) with: {'batch_size': 39}\n",
            "0.395833 (0.149168) with: {'batch_size': 40}\n",
            "0.583333 (0.152145) with: {'batch_size': 41}\n",
            "0.604167 (0.184545) with: {'batch_size': 42}\n",
            "0.520833 (0.097569) with: {'batch_size': 43}\n",
            "0.541667 (0.115370) with: {'batch_size': 44}\n",
            "0.625000 (0.151000) with: {'batch_size': 45}\n",
            "0.520833 (0.086234) with: {'batch_size': 46}\n",
            "0.604167 (0.104444) with: {'batch_size': 47}\n"
          ],
          "name": "stdout"
        }
      ]
    }
  ]
}