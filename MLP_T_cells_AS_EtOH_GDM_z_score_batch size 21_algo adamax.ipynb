{
  "nbformat": 4,
  "nbformat_minor": 0,
  "metadata": {
    "colab": {
      "name": "MLP_T-cells_AS_EtOH-GDM_z-score.ipynb",
      "provenance": [],
      "collapsed_sections": [],
      "include_colab_link": true
    },
    "kernelspec": {
      "name": "python3",
      "display_name": "Python 3"
    },
    "accelerator": "TPU"
  },
  "cells": [
    {
      "cell_type": "markdown",
      "metadata": {
        "id": "view-in-github",
        "colab_type": "text"
      },
      "source": [
        "<a href=\"https://colab.research.google.com/github/DipankarJDutta/WBC-Biomarker-ID-for-FASD-GDM-/blob/Optimal-optimization-algorithms-for-MLP-model/MLP_T_cells_AS_EtOH_GDM_z_score_batch%20size%2021_algo%20adamax.ipynb\" target=\"_parent\"><img src=\"https://colab.research.google.com/assets/colab-badge.svg\" alt=\"Open In Colab\"/></a>"
      ]
    },
    {
      "cell_type": "code",
      "metadata": {
        "id": "86TLkXaLMzkK",
        "colab_type": "code",
        "colab": {}
      },
      "source": [
        "#Loading essentials\n",
        "from numpy import loadtxt\n",
        "from keras.models import Sequential\n",
        "from keras.layers import Dense"
      ],
      "execution_count": 0,
      "outputs": []
    },
    {
      "cell_type": "code",
      "metadata": {
        "id": "cf2BdOONOrca",
        "colab_type": "code",
        "colab": {}
      },
      "source": [
        "#load z-scored inclevel values of significantly AS genes in T-cells common to EtOH & GDM datasets\n",
        "dataset = loadtxt ('z-score_T-cell.csv', delimiter = ',')"
      ],
      "execution_count": 0,
      "outputs": []
    },
    {
      "cell_type": "code",
      "metadata": {
        "id": "HYDe7ikEO-q0",
        "colab_type": "code",
        "colab": {}
      },
      "source": [
        "#split dataset into input and output variables (25 input, 1 output)\n",
        "x = dataset [:, 0:25]\n",
        "y = dataset [:, 25]"
      ],
      "execution_count": 0,
      "outputs": []
    },
    {
      "cell_type": "code",
      "metadata": {
        "id": "bIhgfFm9PDdS",
        "colab_type": "code",
        "colab": {}
      },
      "source": [
        "#define the keras DL model: Input layer: 25; 2 hidden layers; Hidden layer 1: 12 neurons; Hidden layer 2: 8 neurons; Output layer: 1\n",
        "model = Sequential ()\n",
        "model.add(Dense(12, input_dim=25, activation='relu'))\n",
        "model.add(Dense(8, activation='relu'))\n",
        "model.add(Dense(1, activation='sigmoid'))"
      ],
      "execution_count": 0,
      "outputs": []
    },
    {
      "cell_type": "code",
      "metadata": {
        "id": "7cdclkz3PQ52",
        "colab_type": "code",
        "colab": {}
      },
      "source": [
        "#compile the keras DL model \n",
        "model.compile(loss='binary_crossentropy', optimizer='adamax', metrics=['accuracy'])"
      ],
      "execution_count": 0,
      "outputs": []
    },
    {
      "cell_type": "code",
      "metadata": {
        "id": "bIRDdz_RPc76",
        "colab_type": "code",
        "outputId": "21f4797a-3337-448d-f6bc-214bc310c5db",
        "colab": {
          "base_uri": "https://localhost:8080/",
          "height": 1000
        }
      },
      "source": [
        "#Train the model with an epoch of 100, a batch size of 21, a validation split of 80-20)\n",
        "model.fit(x, y, validation_split = 0.2, epochs=100, batch_size=21)"
      ],
      "execution_count": 32,
      "outputs": [
        {
          "output_type": "stream",
          "text": [
            "Train on 38 samples, validate on 10 samples\n",
            "Epoch 1/100\n",
            "38/38 [==============================] - 0s 10ms/step - loss: 0.7575 - acc: 0.3947 - val_loss: 0.8671 - val_acc: 0.2000\n",
            "Epoch 2/100\n",
            "38/38 [==============================] - 0s 235us/step - loss: 0.7484 - acc: 0.3947 - val_loss: 0.8590 - val_acc: 0.2000\n",
            "Epoch 3/100\n",
            "38/38 [==============================] - 0s 218us/step - loss: 0.7395 - acc: 0.3947 - val_loss: 0.8518 - val_acc: 0.2000\n",
            "Epoch 4/100\n",
            "38/38 [==============================] - 0s 216us/step - loss: 0.7317 - acc: 0.3947 - val_loss: 0.8447 - val_acc: 0.2000\n",
            "Epoch 5/100\n",
            "38/38 [==============================] - 0s 205us/step - loss: 0.7251 - acc: 0.3947 - val_loss: 0.8380 - val_acc: 0.2000\n",
            "Epoch 6/100\n",
            "38/38 [==============================] - 0s 210us/step - loss: 0.7173 - acc: 0.3947 - val_loss: 0.8321 - val_acc: 0.2000\n",
            "Epoch 7/100\n",
            "38/38 [==============================] - 0s 219us/step - loss: 0.7112 - acc: 0.4211 - val_loss: 0.8266 - val_acc: 0.3000\n",
            "Epoch 8/100\n",
            "38/38 [==============================] - 0s 274us/step - loss: 0.7047 - acc: 0.4474 - val_loss: 0.8223 - val_acc: 0.3000\n",
            "Epoch 9/100\n",
            "38/38 [==============================] - 0s 279us/step - loss: 0.6999 - acc: 0.4474 - val_loss: 0.8177 - val_acc: 0.3000\n",
            "Epoch 10/100\n",
            "38/38 [==============================] - 0s 323us/step - loss: 0.6940 - acc: 0.5000 - val_loss: 0.8139 - val_acc: 0.3000\n",
            "Epoch 11/100\n",
            "38/38 [==============================] - 0s 215us/step - loss: 0.6889 - acc: 0.5263 - val_loss: 0.8107 - val_acc: 0.3000\n",
            "Epoch 12/100\n",
            "38/38 [==============================] - 0s 184us/step - loss: 0.6844 - acc: 0.5263 - val_loss: 0.8077 - val_acc: 0.3000\n",
            "Epoch 13/100\n",
            "38/38 [==============================] - 0s 228us/step - loss: 0.6794 - acc: 0.5526 - val_loss: 0.8049 - val_acc: 0.3000\n",
            "Epoch 14/100\n",
            "38/38 [==============================] - 0s 195us/step - loss: 0.6746 - acc: 0.5526 - val_loss: 0.8020 - val_acc: 0.3000\n",
            "Epoch 15/100\n",
            "38/38 [==============================] - 0s 257us/step - loss: 0.6708 - acc: 0.5526 - val_loss: 0.7989 - val_acc: 0.3000\n",
            "Epoch 16/100\n",
            "38/38 [==============================] - 0s 212us/step - loss: 0.6658 - acc: 0.6053 - val_loss: 0.7965 - val_acc: 0.3000\n",
            "Epoch 17/100\n",
            "38/38 [==============================] - 0s 232us/step - loss: 0.6617 - acc: 0.6316 - val_loss: 0.7941 - val_acc: 0.3000\n",
            "Epoch 18/100\n",
            "38/38 [==============================] - 0s 308us/step - loss: 0.6579 - acc: 0.6316 - val_loss: 0.7917 - val_acc: 0.3000\n",
            "Epoch 19/100\n",
            "38/38 [==============================] - 0s 308us/step - loss: 0.6542 - acc: 0.6316 - val_loss: 0.7892 - val_acc: 0.3000\n",
            "Epoch 20/100\n",
            "38/38 [==============================] - 0s 217us/step - loss: 0.6500 - acc: 0.6316 - val_loss: 0.7871 - val_acc: 0.3000\n",
            "Epoch 21/100\n",
            "38/38 [==============================] - 0s 219us/step - loss: 0.6466 - acc: 0.6579 - val_loss: 0.7849 - val_acc: 0.3000\n",
            "Epoch 22/100\n",
            "38/38 [==============================] - 0s 179us/step - loss: 0.6430 - acc: 0.6579 - val_loss: 0.7828 - val_acc: 0.3000\n",
            "Epoch 23/100\n",
            "38/38 [==============================] - 0s 201us/step - loss: 0.6397 - acc: 0.6579 - val_loss: 0.7808 - val_acc: 0.4000\n",
            "Epoch 24/100\n",
            "38/38 [==============================] - 0s 198us/step - loss: 0.6365 - acc: 0.6579 - val_loss: 0.7788 - val_acc: 0.4000\n",
            "Epoch 25/100\n",
            "38/38 [==============================] - 0s 240us/step - loss: 0.6335 - acc: 0.6579 - val_loss: 0.7769 - val_acc: 0.4000\n",
            "Epoch 26/100\n",
            "38/38 [==============================] - 0s 219us/step - loss: 0.6302 - acc: 0.6579 - val_loss: 0.7753 - val_acc: 0.4000\n",
            "Epoch 27/100\n",
            "38/38 [==============================] - 0s 336us/step - loss: 0.6274 - acc: 0.6579 - val_loss: 0.7739 - val_acc: 0.4000\n",
            "Epoch 28/100\n",
            "38/38 [==============================] - 0s 295us/step - loss: 0.6245 - acc: 0.6316 - val_loss: 0.7724 - val_acc: 0.4000\n",
            "Epoch 29/100\n",
            "38/38 [==============================] - 0s 194us/step - loss: 0.6217 - acc: 0.6579 - val_loss: 0.7713 - val_acc: 0.4000\n",
            "Epoch 30/100\n",
            "38/38 [==============================] - 0s 204us/step - loss: 0.6187 - acc: 0.6579 - val_loss: 0.7702 - val_acc: 0.4000\n",
            "Epoch 31/100\n",
            "38/38 [==============================] - 0s 228us/step - loss: 0.6158 - acc: 0.6579 - val_loss: 0.7691 - val_acc: 0.4000\n",
            "Epoch 32/100\n",
            "38/38 [==============================] - 0s 192us/step - loss: 0.6131 - acc: 0.6579 - val_loss: 0.7683 - val_acc: 0.4000\n",
            "Epoch 33/100\n",
            "38/38 [==============================] - 0s 199us/step - loss: 0.6104 - acc: 0.7105 - val_loss: 0.7675 - val_acc: 0.4000\n",
            "Epoch 34/100\n",
            "38/38 [==============================] - 0s 224us/step - loss: 0.6075 - acc: 0.7368 - val_loss: 0.7668 - val_acc: 0.4000\n",
            "Epoch 35/100\n",
            "38/38 [==============================] - 0s 208us/step - loss: 0.6045 - acc: 0.7632 - val_loss: 0.7662 - val_acc: 0.4000\n",
            "Epoch 36/100\n",
            "38/38 [==============================] - 0s 196us/step - loss: 0.6017 - acc: 0.7632 - val_loss: 0.7659 - val_acc: 0.4000\n",
            "Epoch 37/100\n",
            "38/38 [==============================] - 0s 174us/step - loss: 0.5992 - acc: 0.7632 - val_loss: 0.7656 - val_acc: 0.4000\n",
            "Epoch 38/100\n",
            "38/38 [==============================] - 0s 164us/step - loss: 0.5963 - acc: 0.7632 - val_loss: 0.7653 - val_acc: 0.4000\n",
            "Epoch 39/100\n",
            "38/38 [==============================] - 0s 192us/step - loss: 0.5935 - acc: 0.7895 - val_loss: 0.7651 - val_acc: 0.4000\n",
            "Epoch 40/100\n",
            "38/38 [==============================] - 0s 176us/step - loss: 0.5908 - acc: 0.7895 - val_loss: 0.7648 - val_acc: 0.4000\n",
            "Epoch 41/100\n",
            "38/38 [==============================] - 0s 287us/step - loss: 0.5882 - acc: 0.7895 - val_loss: 0.7647 - val_acc: 0.4000\n",
            "Epoch 42/100\n",
            "38/38 [==============================] - 0s 289us/step - loss: 0.5857 - acc: 0.7895 - val_loss: 0.7645 - val_acc: 0.4000\n",
            "Epoch 43/100\n",
            "38/38 [==============================] - 0s 217us/step - loss: 0.5825 - acc: 0.7895 - val_loss: 0.7646 - val_acc: 0.4000\n",
            "Epoch 44/100\n",
            "38/38 [==============================] - 0s 219us/step - loss: 0.5798 - acc: 0.7895 - val_loss: 0.7646 - val_acc: 0.4000\n",
            "Epoch 45/100\n",
            "38/38 [==============================] - 0s 169us/step - loss: 0.5769 - acc: 0.8158 - val_loss: 0.7647 - val_acc: 0.4000\n",
            "Epoch 46/100\n",
            "38/38 [==============================] - 0s 235us/step - loss: 0.5740 - acc: 0.8158 - val_loss: 0.7648 - val_acc: 0.4000\n",
            "Epoch 47/100\n",
            "38/38 [==============================] - 0s 288us/step - loss: 0.5714 - acc: 0.8158 - val_loss: 0.7650 - val_acc: 0.4000\n",
            "Epoch 48/100\n",
            "38/38 [==============================] - 0s 215us/step - loss: 0.5685 - acc: 0.8158 - val_loss: 0.7653 - val_acc: 0.4000\n",
            "Epoch 49/100\n",
            "38/38 [==============================] - 0s 273us/step - loss: 0.5656 - acc: 0.8158 - val_loss: 0.7654 - val_acc: 0.4000\n",
            "Epoch 50/100\n",
            "38/38 [==============================] - 0s 229us/step - loss: 0.5629 - acc: 0.8684 - val_loss: 0.7658 - val_acc: 0.4000\n",
            "Epoch 51/100\n",
            "38/38 [==============================] - 0s 223us/step - loss: 0.5599 - acc: 0.8684 - val_loss: 0.7662 - val_acc: 0.4000\n",
            "Epoch 52/100\n",
            "38/38 [==============================] - 0s 203us/step - loss: 0.5573 - acc: 0.8684 - val_loss: 0.7668 - val_acc: 0.4000\n",
            "Epoch 53/100\n",
            "38/38 [==============================] - 0s 239us/step - loss: 0.5544 - acc: 0.8684 - val_loss: 0.7673 - val_acc: 0.4000\n",
            "Epoch 54/100\n",
            "38/38 [==============================] - 0s 273us/step - loss: 0.5518 - acc: 0.8684 - val_loss: 0.7677 - val_acc: 0.4000\n",
            "Epoch 55/100\n",
            "38/38 [==============================] - 0s 242us/step - loss: 0.5489 - acc: 0.8684 - val_loss: 0.7680 - val_acc: 0.4000\n",
            "Epoch 56/100\n",
            "38/38 [==============================] - 0s 473us/step - loss: 0.5460 - acc: 0.8684 - val_loss: 0.7686 - val_acc: 0.4000\n",
            "Epoch 57/100\n",
            "38/38 [==============================] - 0s 288us/step - loss: 0.5431 - acc: 0.8684 - val_loss: 0.7691 - val_acc: 0.4000\n",
            "Epoch 58/100\n",
            "38/38 [==============================] - 0s 253us/step - loss: 0.5402 - acc: 0.8684 - val_loss: 0.7696 - val_acc: 0.4000\n",
            "Epoch 59/100\n",
            "38/38 [==============================] - 0s 254us/step - loss: 0.5373 - acc: 0.8684 - val_loss: 0.7700 - val_acc: 0.4000\n",
            "Epoch 60/100\n",
            "38/38 [==============================] - 0s 261us/step - loss: 0.5343 - acc: 0.8684 - val_loss: 0.7705 - val_acc: 0.4000\n",
            "Epoch 61/100\n",
            "38/38 [==============================] - 0s 244us/step - loss: 0.5317 - acc: 0.8684 - val_loss: 0.7713 - val_acc: 0.4000\n",
            "Epoch 62/100\n",
            "38/38 [==============================] - 0s 405us/step - loss: 0.5285 - acc: 0.8684 - val_loss: 0.7717 - val_acc: 0.4000\n",
            "Epoch 63/100\n",
            "38/38 [==============================] - 0s 326us/step - loss: 0.5254 - acc: 0.8684 - val_loss: 0.7719 - val_acc: 0.4000\n",
            "Epoch 64/100\n",
            "38/38 [==============================] - 0s 318us/step - loss: 0.5225 - acc: 0.8684 - val_loss: 0.7722 - val_acc: 0.4000\n",
            "Epoch 65/100\n",
            "38/38 [==============================] - 0s 274us/step - loss: 0.5196 - acc: 0.8684 - val_loss: 0.7727 - val_acc: 0.4000\n",
            "Epoch 66/100\n",
            "38/38 [==============================] - 0s 252us/step - loss: 0.5164 - acc: 0.8684 - val_loss: 0.7731 - val_acc: 0.4000\n",
            "Epoch 67/100\n",
            "38/38 [==============================] - 0s 241us/step - loss: 0.5134 - acc: 0.8684 - val_loss: 0.7735 - val_acc: 0.5000\n",
            "Epoch 68/100\n",
            "38/38 [==============================] - 0s 206us/step - loss: 0.5099 - acc: 0.8684 - val_loss: 0.7742 - val_acc: 0.5000\n",
            "Epoch 69/100\n",
            "38/38 [==============================] - 0s 197us/step - loss: 0.5067 - acc: 0.8684 - val_loss: 0.7748 - val_acc: 0.5000\n",
            "Epoch 70/100\n",
            "38/38 [==============================] - 0s 202us/step - loss: 0.5037 - acc: 0.8684 - val_loss: 0.7757 - val_acc: 0.5000\n",
            "Epoch 71/100\n",
            "38/38 [==============================] - 0s 177us/step - loss: 0.5001 - acc: 0.8684 - val_loss: 0.7765 - val_acc: 0.5000\n",
            "Epoch 72/100\n",
            "38/38 [==============================] - 0s 288us/step - loss: 0.4971 - acc: 0.8684 - val_loss: 0.7777 - val_acc: 0.5000\n",
            "Epoch 73/100\n",
            "38/38 [==============================] - 0s 229us/step - loss: 0.4936 - acc: 0.8684 - val_loss: 0.7786 - val_acc: 0.5000\n",
            "Epoch 74/100\n",
            "38/38 [==============================] - 0s 256us/step - loss: 0.4906 - acc: 0.8947 - val_loss: 0.7798 - val_acc: 0.5000\n",
            "Epoch 75/100\n",
            "38/38 [==============================] - 0s 209us/step - loss: 0.4870 - acc: 0.8947 - val_loss: 0.7806 - val_acc: 0.5000\n",
            "Epoch 76/100\n",
            "38/38 [==============================] - 0s 203us/step - loss: 0.4838 - acc: 0.8947 - val_loss: 0.7815 - val_acc: 0.5000\n",
            "Epoch 77/100\n",
            "38/38 [==============================] - 0s 263us/step - loss: 0.4807 - acc: 0.8947 - val_loss: 0.7822 - val_acc: 0.5000\n",
            "Epoch 78/100\n",
            "38/38 [==============================] - 0s 240us/step - loss: 0.4772 - acc: 0.9211 - val_loss: 0.7832 - val_acc: 0.5000\n",
            "Epoch 79/100\n",
            "38/38 [==============================] - 0s 180us/step - loss: 0.4741 - acc: 0.9211 - val_loss: 0.7842 - val_acc: 0.5000\n",
            "Epoch 80/100\n",
            "38/38 [==============================] - 0s 180us/step - loss: 0.4708 - acc: 0.9211 - val_loss: 0.7853 - val_acc: 0.5000\n",
            "Epoch 81/100\n",
            "38/38 [==============================] - 0s 217us/step - loss: 0.4673 - acc: 0.9211 - val_loss: 0.7865 - val_acc: 0.5000\n",
            "Epoch 82/100\n",
            "38/38 [==============================] - 0s 291us/step - loss: 0.4642 - acc: 0.9211 - val_loss: 0.7879 - val_acc: 0.5000\n",
            "Epoch 83/100\n",
            "38/38 [==============================] - 0s 209us/step - loss: 0.4609 - acc: 0.9211 - val_loss: 0.7893 - val_acc: 0.5000\n",
            "Epoch 84/100\n",
            "38/38 [==============================] - 0s 255us/step - loss: 0.4572 - acc: 0.9211 - val_loss: 0.7906 - val_acc: 0.5000\n",
            "Epoch 85/100\n",
            "38/38 [==============================] - 0s 367us/step - loss: 0.4538 - acc: 0.9211 - val_loss: 0.7920 - val_acc: 0.5000\n",
            "Epoch 86/100\n",
            "38/38 [==============================] - 0s 240us/step - loss: 0.4505 - acc: 0.9211 - val_loss: 0.7935 - val_acc: 0.5000\n",
            "Epoch 87/100\n",
            "38/38 [==============================] - 0s 173us/step - loss: 0.4468 - acc: 0.9211 - val_loss: 0.7954 - val_acc: 0.5000\n",
            "Epoch 88/100\n",
            "38/38 [==============================] - 0s 311us/step - loss: 0.4432 - acc: 0.9211 - val_loss: 0.7970 - val_acc: 0.5000\n",
            "Epoch 89/100\n",
            "38/38 [==============================] - 0s 313us/step - loss: 0.4396 - acc: 0.9211 - val_loss: 0.7985 - val_acc: 0.5000\n",
            "Epoch 90/100\n",
            "38/38 [==============================] - 0s 250us/step - loss: 0.4361 - acc: 0.9211 - val_loss: 0.8002 - val_acc: 0.5000\n",
            "Epoch 91/100\n",
            "38/38 [==============================] - 0s 279us/step - loss: 0.4325 - acc: 0.9211 - val_loss: 0.8016 - val_acc: 0.5000\n",
            "Epoch 92/100\n",
            "38/38 [==============================] - 0s 220us/step - loss: 0.4286 - acc: 0.9211 - val_loss: 0.8034 - val_acc: 0.5000\n",
            "Epoch 93/100\n",
            "38/38 [==============================] - 0s 200us/step - loss: 0.4253 - acc: 0.9211 - val_loss: 0.8052 - val_acc: 0.5000\n",
            "Epoch 94/100\n",
            "38/38 [==============================] - 0s 221us/step - loss: 0.4218 - acc: 0.9211 - val_loss: 0.8067 - val_acc: 0.5000\n",
            "Epoch 95/100\n",
            "38/38 [==============================] - 0s 273us/step - loss: 0.4184 - acc: 0.9211 - val_loss: 0.8084 - val_acc: 0.5000\n",
            "Epoch 96/100\n",
            "38/38 [==============================] - 0s 206us/step - loss: 0.4149 - acc: 0.9211 - val_loss: 0.8098 - val_acc: 0.5000\n",
            "Epoch 97/100\n",
            "38/38 [==============================] - 0s 362us/step - loss: 0.4114 - acc: 0.9211 - val_loss: 0.8114 - val_acc: 0.5000\n",
            "Epoch 98/100\n",
            "38/38 [==============================] - 0s 165us/step - loss: 0.4081 - acc: 0.9211 - val_loss: 0.8129 - val_acc: 0.5000\n",
            "Epoch 99/100\n",
            "38/38 [==============================] - 0s 240us/step - loss: 0.4046 - acc: 0.9211 - val_loss: 0.8141 - val_acc: 0.5000\n",
            "Epoch 100/100\n",
            "38/38 [==============================] - 0s 587us/step - loss: 0.4015 - acc: 0.9211 - val_loss: 0.8155 - val_acc: 0.5000\n"
          ],
          "name": "stdout"
        },
        {
          "output_type": "execute_result",
          "data": {
            "text/plain": [
              "<keras.callbacks.History at 0x7f3c43cba5f8>"
            ]
          },
          "metadata": {
            "tags": []
          },
          "execution_count": 32
        }
      ]
    },
    {
      "cell_type": "code",
      "metadata": {
        "id": "a2fcujpXPlMu",
        "colab_type": "code",
        "outputId": "e482d85a-eded-499f-e1fd-038bd21d3459",
        "colab": {
          "base_uri": "https://localhost:8080/",
          "height": 34
        }
      },
      "source": [
        "#Evaluate the accuracy of the Keras model with #10-fold cross-validation\n",
        "scores = model.evaluate(x, y, verbose=0)\n",
        "print(\"%s: %.2f%%\" % (model.metrics_names[1], scores[1]*100))"
      ],
      "execution_count": 33,
      "outputs": [
        {
          "output_type": "stream",
          "text": [
            "acc: 83.33%\n"
          ],
          "name": "stdout"
        }
      ]
    },
    {
      "cell_type": "code",
      "metadata": {
        "id": "QjV0AFryPmMB",
        "colab_type": "code",
        "colab": {}
      },
      "source": [
        "#Save model and architecture to a single file\n",
        "model.save(\"DL_T-cells_21batch\")"
      ],
      "execution_count": 0,
      "outputs": []
    }
  ]
}