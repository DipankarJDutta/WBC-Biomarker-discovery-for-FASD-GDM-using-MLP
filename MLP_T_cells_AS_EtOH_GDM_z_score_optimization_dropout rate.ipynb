{
  "nbformat": 4,
  "nbformat_minor": 0,
  "metadata": {
    "colab": {
      "name": "MLP_T-cells_AS_EtOH-GDM_z-score_optimization algo_gridsearch.ipynb",
      "provenance": [],
      "collapsed_sections": [],
      "include_colab_link": true
    },
    "kernelspec": {
      "name": "python3",
      "display_name": "Python 3"
    },
    "accelerator": "TPU"
  },
  "cells": [
    {
      "cell_type": "markdown",
      "metadata": {
        "id": "view-in-github",
        "colab_type": "text"
      },
      "source": [
        "<a href=\"https://colab.research.google.com/github/DipankarJDutta/WBC-Biomarker-ID-for-FASD-GDM-/blob/Optimal-Dropout-rate-for-MLP-model/MLP_T_cells_AS_EtOH_GDM_z_score_optimization_dropout%20rate.ipynb\" target=\"_parent\"><img src=\"https://colab.research.google.com/assets/colab-badge.svg\" alt=\"Open In Colab\"/></a>"
      ]
    },
    {
      "cell_type": "code",
      "metadata": {
        "id": "86TLkXaLMzkK",
        "colab_type": "code",
        "colab": {}
      },
      "source": [
        "#Loading essentials for batch size (Source: scikit-learn grid search)\n",
        "import numpy\n",
        "from numpy import loadtxt\n",
        "from sklearn.model_selection import GridSearchCV\n",
        "from keras.models import Sequential\n",
        "from keras.layers import Dense\n",
        "from keras.layers import Dropout\n",
        "from keras.wrappers.scikit_learn import KerasClassifier\n",
        "from keras.constraints import maxnorm"
      ],
      "execution_count": 0,
      "outputs": []
    },
    {
      "cell_type": "code",
      "metadata": {
        "id": "72EdN6digaMt",
        "colab_type": "code",
        "colab": {}
      },
      "source": [
        "# Fixing random seed for reproducibility\n",
        "from numpy.random import seed\n",
        "seed(7)\n",
        "from tensorflow import set_random_seed\n",
        "set_random_seed(7)"
      ],
      "execution_count": 0,
      "outputs": []
    },
    {
      "cell_type": "code",
      "metadata": {
        "id": "QL_LIVyLWKvA",
        "colab_type": "code",
        "colab": {}
      },
      "source": [
        "#Creating model required for KerasClassifier\n",
        "def create_model(dropout_rate=0.0, weight_constraint=0):\n",
        "    #create model\n",
        "    model = Sequential()\n",
        "    model.add(Dense(12, input_dim=25, kernel_initializer='uniform', activation='relu', kernel_constraint=maxnorm(weight_constraint)))\n",
        "    model.add(Dropout(dropout_rate))\n",
        "    model.add(Dense(8, kernel_initializer='uniform', activation='relu', kernel_constraint=maxnorm(weight_constraint)))\n",
        "    model.add(Dropout(dropout_rate))\n",
        "    model.add(Dense(1, kernel_initializer='uniform', activation='sigmoid'))\n",
        "    #compile model\n",
        "    model.compile(loss='binary_crossentropy', optimizer='adam', metrics=['accuracy'])\n",
        "    return model"
      ],
      "execution_count": 0,
      "outputs": []
    },
    {
      "cell_type": "code",
      "metadata": {
        "id": "cf2BdOONOrca",
        "colab_type": "code",
        "colab": {}
      },
      "source": [
        "#load z-scored inclevel values of significantly AS genes in T-cells common to EtOH & GDM datasets\n",
        "dataset = loadtxt ('z-score_T-cell.csv', delimiter = ',')"
      ],
      "execution_count": 0,
      "outputs": []
    },
    {
      "cell_type": "code",
      "metadata": {
        "id": "HYDe7ikEO-q0",
        "colab_type": "code",
        "colab": {}
      },
      "source": [
        "#split dataset into input and output variables (25 input, 1 output)\n",
        "x = dataset [:, 0:25]\n",
        "y = dataset [:, 25]"
      ],
      "execution_count": 0,
      "outputs": []
    },
    {
      "cell_type": "code",
      "metadata": {
        "id": "-Q3xyQYHXY4f",
        "colab_type": "code",
        "colab": {}
      },
      "source": [
        "#Create model for gridsearch\n",
        "model = KerasClassifier (build_fn=create_model, epochs=100, batch_size=21, verbose=0)"
      ],
      "execution_count": 0,
      "outputs": []
    },
    {
      "cell_type": "code",
      "metadata": {
        "id": "qt5dX1ylX6Hs",
        "colab_type": "code",
        "outputId": "fd7e99ad-42ed-4f30-e9cd-ee7eb44be103",
        "colab": {
          "base_uri": "https://localhost:8080/",
          "height": 683
        }
      },
      "source": [
        "#Define Grid Search parameters for optimal Batch size for input T-cell dataset with 47 samples\n",
        "weight_constraint = [1, 2, 3, 4, 5]\n",
        "dropout_rate = [0.0, 0.1, 0.2, 0.3, 0.4, 0.5, 0.6, 0.7, 0.8, 0.9]\n",
        "param_grid = dict(dropout_rate=dropout_rate, weight_constraint=weight_constraint)\n",
        "#Jobs are run in parallel with n_jobs=-1; 5-fold cross-validation\n",
        "grid = GridSearchCV(estimator=model, param_grid = param_grid, n_jobs=-1, cv=5)\n",
        "grid_result = grid.fit(x, y)"
      ],
      "execution_count": 8,
      "outputs": [
        {
          "output_type": "stream",
          "text": [
            "/usr/local/lib/python3.6/dist-packages/joblib/externals/loky/process_executor.py:706: UserWarning: A worker stopped while some jobs were given to the executor. This can be caused by a too short worker timeout or by a memory leak.\n",
            "  \"timeout or by a memory leak.\", UserWarning\n"
          ],
          "name": "stderr"
        },
        {
          "output_type": "stream",
          "text": [
            "WARNING:tensorflow:From /usr/local/lib/python3.6/dist-packages/keras/backend/tensorflow_backend.py:66: The name tf.get_default_graph is deprecated. Please use tf.compat.v1.get_default_graph instead.\n",
            "\n",
            "WARNING:tensorflow:From /usr/local/lib/python3.6/dist-packages/keras/backend/tensorflow_backend.py:541: The name tf.placeholder is deprecated. Please use tf.compat.v1.placeholder instead.\n",
            "\n",
            "WARNING:tensorflow:From /usr/local/lib/python3.6/dist-packages/keras/backend/tensorflow_backend.py:4432: The name tf.random_uniform is deprecated. Please use tf.random.uniform instead.\n",
            "\n",
            "WARNING:tensorflow:From /usr/local/lib/python3.6/dist-packages/keras/backend/tensorflow_backend.py:148: The name tf.placeholder_with_default is deprecated. Please use tf.compat.v1.placeholder_with_default instead.\n",
            "\n",
            "WARNING:tensorflow:From /usr/local/lib/python3.6/dist-packages/keras/backend/tensorflow_backend.py:3733: calling dropout (from tensorflow.python.ops.nn_ops) with keep_prob is deprecated and will be removed in a future version.\n",
            "Instructions for updating:\n",
            "Please use `rate` instead of `keep_prob`. Rate should be set to `rate = 1 - keep_prob`.\n",
            "WARNING:tensorflow:From /usr/local/lib/python3.6/dist-packages/keras/optimizers.py:793: The name tf.train.Optimizer is deprecated. Please use tf.compat.v1.train.Optimizer instead.\n",
            "\n",
            "WARNING:tensorflow:From /usr/local/lib/python3.6/dist-packages/keras/backend/tensorflow_backend.py:3657: The name tf.log is deprecated. Please use tf.math.log instead.\n",
            "\n",
            "WARNING:tensorflow:From /usr/local/lib/python3.6/dist-packages/tensorflow_core/python/ops/nn_impl.py:183: where (from tensorflow.python.ops.array_ops) is deprecated and will be removed in a future version.\n",
            "Instructions for updating:\n",
            "Use tf.where in 2.0, which has the same broadcast rule as np.where\n"
          ],
          "name": "stdout"
        },
        {
          "output_type": "stream",
          "text": [
            "/usr/local/lib/python3.6/dist-packages/sklearn/model_selection/_search.py:814: DeprecationWarning: The default of the `iid` parameter will change from True to False in version 0.22 and will be removed in 0.24. This will change numeric results when test-set sizes are unequal.\n",
            "  DeprecationWarning)\n"
          ],
          "name": "stderr"
        },
        {
          "output_type": "stream",
          "text": [
            "WARNING:tensorflow:From /usr/local/lib/python3.6/dist-packages/keras/backend/tensorflow_backend.py:1033: The name tf.assign_add is deprecated. Please use tf.compat.v1.assign_add instead.\n",
            "\n",
            "WARNING:tensorflow:From /usr/local/lib/python3.6/dist-packages/keras/backend/tensorflow_backend.py:1020: The name tf.assign is deprecated. Please use tf.compat.v1.assign instead.\n",
            "\n",
            "WARNING:tensorflow:From /usr/local/lib/python3.6/dist-packages/keras/backend/tensorflow_backend.py:3005: The name tf.Session is deprecated. Please use tf.compat.v1.Session instead.\n",
            "\n",
            "WARNING:tensorflow:From /usr/local/lib/python3.6/dist-packages/keras/backend/tensorflow_backend.py:190: The name tf.get_default_session is deprecated. Please use tf.compat.v1.get_default_session instead.\n",
            "\n",
            "WARNING:tensorflow:From /usr/local/lib/python3.6/dist-packages/keras/backend/tensorflow_backend.py:197: The name tf.ConfigProto is deprecated. Please use tf.compat.v1.ConfigProto instead.\n",
            "\n",
            "WARNING:tensorflow:From /usr/local/lib/python3.6/dist-packages/keras/backend/tensorflow_backend.py:207: The name tf.global_variables is deprecated. Please use tf.compat.v1.global_variables instead.\n",
            "\n",
            "WARNING:tensorflow:From /usr/local/lib/python3.6/dist-packages/keras/backend/tensorflow_backend.py:216: The name tf.is_variable_initialized is deprecated. Please use tf.compat.v1.is_variable_initialized instead.\n",
            "\n",
            "WARNING:tensorflow:From /usr/local/lib/python3.6/dist-packages/keras/backend/tensorflow_backend.py:223: The name tf.variables_initializer is deprecated. Please use tf.compat.v1.variables_initializer instead.\n",
            "\n"
          ],
          "name": "stdout"
        }
      ]
    },
    {
      "cell_type": "code",
      "metadata": {
        "id": "CeK4D0Tje30X",
        "colab_type": "code",
        "outputId": "9a027f41-fd2f-4cd0-92f4-047bf2fb9ea5",
        "colab": {
          "base_uri": "https://localhost:8080/",
          "height": 884
        }
      },
      "source": [
        "#Summarize results\n",
        "print(\"Best: %f using %s\" % (grid_result.best_score_, grid_result.best_params_))\n",
        "means = grid_result.cv_results_['mean_test_score']\n",
        "stds = grid_result.cv_results_['std_test_score']\n",
        "params = grid_result.cv_results_['params']\n",
        "for mean, stdev, param in zip(means, stds, params):\n",
        "    print(\"%f (%f) with: %r\" % (mean, stdev, param))"
      ],
      "execution_count": 9,
      "outputs": [
        {
          "output_type": "stream",
          "text": [
            "Best: 0.645833 using {'dropout_rate': 0.5, 'weight_constraint': 3}\n",
            "0.583333 (0.054857) with: {'dropout_rate': 0.0, 'weight_constraint': 1}\n",
            "0.541667 (0.101493) with: {'dropout_rate': 0.0, 'weight_constraint': 2}\n",
            "0.604167 (0.122781) with: {'dropout_rate': 0.0, 'weight_constraint': 3}\n",
            "0.625000 (0.111285) with: {'dropout_rate': 0.0, 'weight_constraint': 4}\n",
            "0.625000 (0.128650) with: {'dropout_rate': 0.0, 'weight_constraint': 5}\n",
            "0.520833 (0.155251) with: {'dropout_rate': 0.1, 'weight_constraint': 1}\n",
            "0.541667 (0.101493) with: {'dropout_rate': 0.1, 'weight_constraint': 2}\n",
            "0.437500 (0.110894) with: {'dropout_rate': 0.1, 'weight_constraint': 3}\n",
            "0.604167 (0.102204) with: {'dropout_rate': 0.1, 'weight_constraint': 4}\n",
            "0.604167 (0.109845) with: {'dropout_rate': 0.1, 'weight_constraint': 5}\n",
            "0.625000 (0.099187) with: {'dropout_rate': 0.2, 'weight_constraint': 1}\n",
            "0.541667 (0.138193) with: {'dropout_rate': 0.2, 'weight_constraint': 2}\n",
            "0.583333 (0.149071) with: {'dropout_rate': 0.2, 'weight_constraint': 3}\n",
            "0.500000 (0.109713) with: {'dropout_rate': 0.2, 'weight_constraint': 4}\n",
            "0.520833 (0.114993) with: {'dropout_rate': 0.2, 'weight_constraint': 5}\n",
            "0.541667 (0.134801) with: {'dropout_rate': 0.3, 'weight_constraint': 1}\n",
            "0.625000 (0.075308) with: {'dropout_rate': 0.3, 'weight_constraint': 2}\n",
            "0.458333 (0.142319) with: {'dropout_rate': 0.3, 'weight_constraint': 3}\n",
            "0.604167 (0.122781) with: {'dropout_rate': 0.3, 'weight_constraint': 4}\n",
            "0.479167 (0.069929) with: {'dropout_rate': 0.3, 'weight_constraint': 5}\n",
            "0.583333 (0.204690) with: {'dropout_rate': 0.4, 'weight_constraint': 1}\n",
            "0.479167 (0.155251) with: {'dropout_rate': 0.4, 'weight_constraint': 2}\n",
            "0.458333 (0.168394) with: {'dropout_rate': 0.4, 'weight_constraint': 3}\n",
            "0.583333 (0.149071) with: {'dropout_rate': 0.4, 'weight_constraint': 4}\n",
            "0.520833 (0.125577) with: {'dropout_rate': 0.4, 'weight_constraint': 5}\n",
            "0.500000 (0.144338) with: {'dropout_rate': 0.5, 'weight_constraint': 1}\n",
            "0.500000 (0.109713) with: {'dropout_rate': 0.5, 'weight_constraint': 2}\n",
            "0.645833 (0.093943) with: {'dropout_rate': 0.5, 'weight_constraint': 3}\n",
            "0.541667 (0.075308) with: {'dropout_rate': 0.5, 'weight_constraint': 4}\n",
            "0.562500 (0.110894) with: {'dropout_rate': 0.5, 'weight_constraint': 5}\n",
            "0.562500 (0.148390) with: {'dropout_rate': 0.6, 'weight_constraint': 1}\n",
            "0.500000 (0.144338) with: {'dropout_rate': 0.6, 'weight_constraint': 2}\n",
            "0.479167 (0.069929) with: {'dropout_rate': 0.6, 'weight_constraint': 3}\n",
            "0.583333 (0.158844) with: {'dropout_rate': 0.6, 'weight_constraint': 4}\n",
            "0.458333 (0.145535) with: {'dropout_rate': 0.6, 'weight_constraint': 5}\n",
            "0.562500 (0.193724) with: {'dropout_rate': 0.7, 'weight_constraint': 1}\n",
            "0.562500 (0.148390) with: {'dropout_rate': 0.7, 'weight_constraint': 2}\n",
            "0.541667 (0.148682) with: {'dropout_rate': 0.7, 'weight_constraint': 3}\n",
            "0.541667 (0.139858) with: {'dropout_rate': 0.7, 'weight_constraint': 4}\n",
            "0.562500 (0.148390) with: {'dropout_rate': 0.7, 'weight_constraint': 5}\n",
            "0.583333 (0.168050) with: {'dropout_rate': 0.8, 'weight_constraint': 1}\n",
            "0.583333 (0.168050) with: {'dropout_rate': 0.8, 'weight_constraint': 2}\n",
            "0.583333 (0.168050) with: {'dropout_rate': 0.8, 'weight_constraint': 3}\n",
            "0.583333 (0.168050) with: {'dropout_rate': 0.8, 'weight_constraint': 4}\n",
            "0.583333 (0.168050) with: {'dropout_rate': 0.8, 'weight_constraint': 5}\n",
            "0.583333 (0.168050) with: {'dropout_rate': 0.9, 'weight_constraint': 1}\n",
            "0.583333 (0.168050) with: {'dropout_rate': 0.9, 'weight_constraint': 2}\n",
            "0.583333 (0.168050) with: {'dropout_rate': 0.9, 'weight_constraint': 3}\n",
            "0.583333 (0.168050) with: {'dropout_rate': 0.9, 'weight_constraint': 4}\n",
            "0.583333 (0.168050) with: {'dropout_rate': 0.9, 'weight_constraint': 5}\n"
          ],
          "name": "stdout"
        }
      ]
    }
  ]
}